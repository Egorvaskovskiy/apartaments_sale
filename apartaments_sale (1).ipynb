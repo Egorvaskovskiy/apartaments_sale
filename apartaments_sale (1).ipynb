{
 "cells": [
  {
   "cell_type": "markdown",
   "metadata": {},
   "source": [
    "# Исследование объявлений о продаже квартир\n",
    "\n",
    "В вашем распоряжении данные сервиса Яндекс.Недвижимость — архив объявлений о продаже квартир в Санкт-Петербурге и соседних населённых пунктов за несколько лет. Нужно научиться определять рыночную стоимость объектов недвижимости. Ваша задача — установить параметры. Это позволит построить автоматизированную систему: она отследит аномалии и мошенническую деятельность. \n",
    "\n",
    "По каждой квартире на продажу доступны два вида данных. Первые вписаны пользователем, вторые — получены автоматически на основе картографических данных. Например, расстояние до центра, аэропорта, ближайшего парка и водоёма. \n",
    "\n",
    "**Цель исследования:**\n",
    "\n",
    "1. Определить рыночную стоимость объектов недвижимости.\n",
    "2. Построить автоматизированную систему, которая отследит аномалии и мошенническую деятельность.\n",
    "3. Установить, какие факторы влияют на ценообразование стоимости квартир.\n",
    "\n",
    "**Ход исследования:**\n",
    "\n",
    "Данные о недвижимости будут получены из файла `real_estate_data.csv`. О качестве данных ничего не известно, поэтому перед тем, как приступать к целям исследования, понадобится обзор данных. \n",
    "\n",
    "Я проверю данные на ошибки и оценю их влияние на исследование. Затем на этапе предобработки поищу возможность исправить все ошибки данных, которые не приведут к искажению конечного результата. Далее, создам необходимые столбцы, и приступлю к проведению исследовательского анализа.\n",
    "\n",
    "Таким образом моё исследование пройдет в семь этапов:\n",
    "\n",
    "- Обзор данных\n",
    "- Предобработка данных\n",
    "- Расчеты и добавление результатов в таблицу\n",
    "- Изучение факторов, которые могут влиять на стоимость\n",
    "- Анализ наиболее населенных пунктов \n",
    "- Проведение анализа для Санкт-Петербурга\n",
    "- Написание общего вывода"
   ]
  },
  {
   "cell_type": "markdown",
   "metadata": {},
   "source": [
    "## Откройте файл с данными и изучите общую информацию. "
   ]
  },
  {
   "cell_type": "markdown",
   "metadata": {},
   "source": [
    "Для начала импортируем все необходимые библиотеки и сохраним данные из файла в переменную `data`:"
   ]
  },
  {
   "cell_type": "code",
   "execution_count": 1,
   "metadata": {},
   "outputs": [],
   "source": [
    "import pandas as pd\n",
    "import matplotlib as pt\n",
    "import statistics as st\n",
    "import numpy as np\n",
    "import seaborn as sb\n",
    "\n",
    "data = pd.read_csv('/datasets/real_estate_data.csv', sep = '\\t')"
   ]
  },
  {
   "cell_type": "markdown",
   "metadata": {},
   "source": [
    "Рассмотрим общую информацию о таблице с помощью метода `.info()` : "
   ]
  },
  {
   "cell_type": "code",
   "execution_count": 2,
   "metadata": {
    "scrolled": false
   },
   "outputs": [
    {
     "name": "stdout",
     "output_type": "stream",
     "text": [
      "<class 'pandas.core.frame.DataFrame'>\n",
      "RangeIndex: 23699 entries, 0 to 23698\n",
      "Data columns (total 22 columns):\n",
      " #   Column                Non-Null Count  Dtype  \n",
      "---  ------                --------------  -----  \n",
      " 0   total_images          23699 non-null  int64  \n",
      " 1   last_price            23699 non-null  float64\n",
      " 2   total_area            23699 non-null  float64\n",
      " 3   first_day_exposition  23699 non-null  object \n",
      " 4   rooms                 23699 non-null  int64  \n",
      " 5   ceiling_height        14504 non-null  float64\n",
      " 6   floors_total          23613 non-null  float64\n",
      " 7   living_area           21796 non-null  float64\n",
      " 8   floor                 23699 non-null  int64  \n",
      " 9   is_apartment          2775 non-null   object \n",
      " 10  studio                23699 non-null  bool   \n",
      " 11  open_plan             23699 non-null  bool   \n",
      " 12  kitchen_area          21421 non-null  float64\n",
      " 13  balcony               12180 non-null  float64\n",
      " 14  locality_name         23650 non-null  object \n",
      " 15  airports_nearest      18157 non-null  float64\n",
      " 16  cityCenters_nearest   18180 non-null  float64\n",
      " 17  parks_around3000      18181 non-null  float64\n",
      " 18  parks_nearest         8079 non-null   float64\n",
      " 19  ponds_around3000      18181 non-null  float64\n",
      " 20  ponds_nearest         9110 non-null   float64\n",
      " 21  days_exposition       20518 non-null  float64\n",
      "dtypes: bool(2), float64(14), int64(3), object(3)\n",
      "memory usage: 3.7+ MB\n"
     ]
    }
   ],
   "source": [
    "data.info()"
   ]
  },
  {
   "cell_type": "markdown",
   "metadata": {},
   "source": [
    "И выведем первые 5 строк таблицы:"
   ]
  },
  {
   "cell_type": "code",
   "execution_count": 3,
   "metadata": {
    "scrolled": false
   },
   "outputs": [
    {
     "data": {
      "text/html": [
       "<div>\n",
       "<style scoped>\n",
       "    .dataframe tbody tr th:only-of-type {\n",
       "        vertical-align: middle;\n",
       "    }\n",
       "\n",
       "    .dataframe tbody tr th {\n",
       "        vertical-align: top;\n",
       "    }\n",
       "\n",
       "    .dataframe thead th {\n",
       "        text-align: right;\n",
       "    }\n",
       "</style>\n",
       "<table border=\"1\" class=\"dataframe\">\n",
       "  <thead>\n",
       "    <tr style=\"text-align: right;\">\n",
       "      <th></th>\n",
       "      <th>total_images</th>\n",
       "      <th>last_price</th>\n",
       "      <th>total_area</th>\n",
       "      <th>first_day_exposition</th>\n",
       "      <th>rooms</th>\n",
       "      <th>ceiling_height</th>\n",
       "      <th>floors_total</th>\n",
       "      <th>living_area</th>\n",
       "      <th>floor</th>\n",
       "      <th>is_apartment</th>\n",
       "      <th>...</th>\n",
       "      <th>kitchen_area</th>\n",
       "      <th>balcony</th>\n",
       "      <th>locality_name</th>\n",
       "      <th>airports_nearest</th>\n",
       "      <th>cityCenters_nearest</th>\n",
       "      <th>parks_around3000</th>\n",
       "      <th>parks_nearest</th>\n",
       "      <th>ponds_around3000</th>\n",
       "      <th>ponds_nearest</th>\n",
       "      <th>days_exposition</th>\n",
       "    </tr>\n",
       "  </thead>\n",
       "  <tbody>\n",
       "    <tr>\n",
       "      <th>0</th>\n",
       "      <td>20</td>\n",
       "      <td>13000000.0</td>\n",
       "      <td>108.0</td>\n",
       "      <td>2019-03-07T00:00:00</td>\n",
       "      <td>3</td>\n",
       "      <td>2.70</td>\n",
       "      <td>16.0</td>\n",
       "      <td>51.0</td>\n",
       "      <td>8</td>\n",
       "      <td>NaN</td>\n",
       "      <td>...</td>\n",
       "      <td>25.0</td>\n",
       "      <td>NaN</td>\n",
       "      <td>Санкт-Петербург</td>\n",
       "      <td>18863.0</td>\n",
       "      <td>16028.0</td>\n",
       "      <td>1.0</td>\n",
       "      <td>482.0</td>\n",
       "      <td>2.0</td>\n",
       "      <td>755.0</td>\n",
       "      <td>NaN</td>\n",
       "    </tr>\n",
       "    <tr>\n",
       "      <th>1</th>\n",
       "      <td>7</td>\n",
       "      <td>3350000.0</td>\n",
       "      <td>40.4</td>\n",
       "      <td>2018-12-04T00:00:00</td>\n",
       "      <td>1</td>\n",
       "      <td>NaN</td>\n",
       "      <td>11.0</td>\n",
       "      <td>18.6</td>\n",
       "      <td>1</td>\n",
       "      <td>NaN</td>\n",
       "      <td>...</td>\n",
       "      <td>11.0</td>\n",
       "      <td>2.0</td>\n",
       "      <td>посёлок Шушары</td>\n",
       "      <td>12817.0</td>\n",
       "      <td>18603.0</td>\n",
       "      <td>0.0</td>\n",
       "      <td>NaN</td>\n",
       "      <td>0.0</td>\n",
       "      <td>NaN</td>\n",
       "      <td>81.0</td>\n",
       "    </tr>\n",
       "    <tr>\n",
       "      <th>2</th>\n",
       "      <td>10</td>\n",
       "      <td>5196000.0</td>\n",
       "      <td>56.0</td>\n",
       "      <td>2015-08-20T00:00:00</td>\n",
       "      <td>2</td>\n",
       "      <td>NaN</td>\n",
       "      <td>5.0</td>\n",
       "      <td>34.3</td>\n",
       "      <td>4</td>\n",
       "      <td>NaN</td>\n",
       "      <td>...</td>\n",
       "      <td>8.3</td>\n",
       "      <td>0.0</td>\n",
       "      <td>Санкт-Петербург</td>\n",
       "      <td>21741.0</td>\n",
       "      <td>13933.0</td>\n",
       "      <td>1.0</td>\n",
       "      <td>90.0</td>\n",
       "      <td>2.0</td>\n",
       "      <td>574.0</td>\n",
       "      <td>558.0</td>\n",
       "    </tr>\n",
       "    <tr>\n",
       "      <th>3</th>\n",
       "      <td>0</td>\n",
       "      <td>64900000.0</td>\n",
       "      <td>159.0</td>\n",
       "      <td>2015-07-24T00:00:00</td>\n",
       "      <td>3</td>\n",
       "      <td>NaN</td>\n",
       "      <td>14.0</td>\n",
       "      <td>NaN</td>\n",
       "      <td>9</td>\n",
       "      <td>NaN</td>\n",
       "      <td>...</td>\n",
       "      <td>NaN</td>\n",
       "      <td>0.0</td>\n",
       "      <td>Санкт-Петербург</td>\n",
       "      <td>28098.0</td>\n",
       "      <td>6800.0</td>\n",
       "      <td>2.0</td>\n",
       "      <td>84.0</td>\n",
       "      <td>3.0</td>\n",
       "      <td>234.0</td>\n",
       "      <td>424.0</td>\n",
       "    </tr>\n",
       "    <tr>\n",
       "      <th>4</th>\n",
       "      <td>2</td>\n",
       "      <td>10000000.0</td>\n",
       "      <td>100.0</td>\n",
       "      <td>2018-06-19T00:00:00</td>\n",
       "      <td>2</td>\n",
       "      <td>3.03</td>\n",
       "      <td>14.0</td>\n",
       "      <td>32.0</td>\n",
       "      <td>13</td>\n",
       "      <td>NaN</td>\n",
       "      <td>...</td>\n",
       "      <td>41.0</td>\n",
       "      <td>NaN</td>\n",
       "      <td>Санкт-Петербург</td>\n",
       "      <td>31856.0</td>\n",
       "      <td>8098.0</td>\n",
       "      <td>2.0</td>\n",
       "      <td>112.0</td>\n",
       "      <td>1.0</td>\n",
       "      <td>48.0</td>\n",
       "      <td>121.0</td>\n",
       "    </tr>\n",
       "  </tbody>\n",
       "</table>\n",
       "<p>5 rows × 22 columns</p>\n",
       "</div>"
      ],
      "text/plain": [
       "   total_images  last_price  total_area first_day_exposition  rooms  \\\n",
       "0            20  13000000.0       108.0  2019-03-07T00:00:00      3   \n",
       "1             7   3350000.0        40.4  2018-12-04T00:00:00      1   \n",
       "2            10   5196000.0        56.0  2015-08-20T00:00:00      2   \n",
       "3             0  64900000.0       159.0  2015-07-24T00:00:00      3   \n",
       "4             2  10000000.0       100.0  2018-06-19T00:00:00      2   \n",
       "\n",
       "   ceiling_height  floors_total  living_area  floor is_apartment  ...  \\\n",
       "0            2.70          16.0         51.0      8          NaN  ...   \n",
       "1             NaN          11.0         18.6      1          NaN  ...   \n",
       "2             NaN           5.0         34.3      4          NaN  ...   \n",
       "3             NaN          14.0          NaN      9          NaN  ...   \n",
       "4            3.03          14.0         32.0     13          NaN  ...   \n",
       "\n",
       "   kitchen_area  balcony    locality_name  airports_nearest  \\\n",
       "0          25.0      NaN  Санкт-Петербург           18863.0   \n",
       "1          11.0      2.0   посёлок Шушары           12817.0   \n",
       "2           8.3      0.0  Санкт-Петербург           21741.0   \n",
       "3           NaN      0.0  Санкт-Петербург           28098.0   \n",
       "4          41.0      NaN  Санкт-Петербург           31856.0   \n",
       "\n",
       "  cityCenters_nearest  parks_around3000  parks_nearest  ponds_around3000  \\\n",
       "0             16028.0               1.0          482.0               2.0   \n",
       "1             18603.0               0.0            NaN               0.0   \n",
       "2             13933.0               1.0           90.0               2.0   \n",
       "3              6800.0               2.0           84.0               3.0   \n",
       "4              8098.0               2.0          112.0               1.0   \n",
       "\n",
       "   ponds_nearest  days_exposition  \n",
       "0          755.0              NaN  \n",
       "1            NaN             81.0  \n",
       "2          574.0            558.0  \n",
       "3          234.0            424.0  \n",
       "4           48.0            121.0  \n",
       "\n",
       "[5 rows x 22 columns]"
      ]
     },
     "execution_count": 3,
     "metadata": {},
     "output_type": "execute_result"
    }
   ],
   "source": [
    "data.head()"
   ]
  },
  {
   "cell_type": "markdown",
   "metadata": {},
   "source": [
    "И наконец рассмотрим общую гистограмму для всех числовых столбцов:"
   ]
  },
  {
   "cell_type": "code",
   "execution_count": 4,
   "metadata": {
    "scrolled": true
   },
   "outputs": [
    {
     "data": {
      "image/png": "[encoded data removed]",
      "text/plain": [
       "<Figure size 1080x1440 with 20 Axes>"
      ]
     },
     "metadata": {
      "needs_background": "light"
     },
     "output_type": "display_data"
    }
   ],
   "source": [
    "data.hist(figsize=(15, 20));"
   ]
  },
  {
   "cell_type": "markdown",
   "metadata": {},
   "source": [
    "## Предобработка данных"
   ]
  },
  {
   "cell_type": "markdown",
   "metadata": {},
   "source": [
    "### Поиск и изучение пропущенных значений в таблице\n",
    "\n",
    "Для начала посмотрим в каких столбцах есть пропуски и сколько их:"
   ]
  },
  {
   "cell_type": "code",
   "execution_count": 5,
   "metadata": {
    "scrolled": false
   },
   "outputs": [
    {
     "data": {
      "text/plain": [
       "total_images                0\n",
       "last_price                  0\n",
       "total_area                  0\n",
       "first_day_exposition        0\n",
       "rooms                       0\n",
       "ceiling_height           9195\n",
       "floors_total               86\n",
       "living_area              1903\n",
       "floor                       0\n",
       "is_apartment            20924\n",
       "studio                      0\n",
       "open_plan                   0\n",
       "kitchen_area             2278\n",
       "balcony                 11519\n",
       "locality_name              49\n",
       "airports_nearest         5542\n",
       "cityCenters_nearest      5519\n",
       "parks_around3000         5518\n",
       "parks_nearest           15620\n",
       "ponds_around3000         5518\n",
       "ponds_nearest           14589\n",
       "days_exposition          3181\n",
       "dtype: int64"
      ]
     },
     "execution_count": 5,
     "metadata": {},
     "output_type": "execute_result"
    }
   ],
   "source": [
    "data.isna().sum()"
   ]
  },
  {
   "cell_type": "markdown",
   "metadata": {},
   "source": [
    "И взглянем также сколько процентов от общего объема данных составляют пропуски:"
   ]
  },
  {
   "cell_type": "code",
   "execution_count": 6,
   "metadata": {},
   "outputs": [
    {
     "data": {
      "text/html": [
       "<style  type=\"text/css\" >\n",
       "#T_73495_row0_col0,#T_73495_row1_col0,#T_73495_row2_col0,#T_73495_row3_col0,#T_73495_row4_col0,#T_73495_row6_col0,#T_73495_row8_col0,#T_73495_row10_col0,#T_73495_row11_col0,#T_73495_row14_col0{\n",
       "            background-color:  #3b4cc0;\n",
       "            color:  #f1f1f1;\n",
       "        }#T_73495_row5_col0{\n",
       "            background-color:  #cdd9ec;\n",
       "            color:  #000000;\n",
       "        }#T_73495_row7_col0{\n",
       "            background-color:  #5673e0;\n",
       "            color:  #000000;\n",
       "        }#T_73495_row9_col0{\n",
       "            background-color:  #b40426;\n",
       "            color:  #f1f1f1;\n",
       "        }#T_73495_row12_col0{\n",
       "            background-color:  #5e7de7;\n",
       "            color:  #000000;\n",
       "        }#T_73495_row13_col0{\n",
       "            background-color:  #ead4c8;\n",
       "            color:  #000000;\n",
       "        }#T_73495_row15_col0,#T_73495_row16_col0,#T_73495_row17_col0,#T_73495_row19_col0{\n",
       "            background-color:  #90b2fe;\n",
       "            color:  #000000;\n",
       "        }#T_73495_row18_col0{\n",
       "            background-color:  #f4987a;\n",
       "            color:  #000000;\n",
       "        }#T_73495_row20_col0{\n",
       "            background-color:  #f7aa8c;\n",
       "            color:  #000000;\n",
       "        }#T_73495_row21_col0{\n",
       "            background-color:  #688aef;\n",
       "            color:  #000000;\n",
       "        }</style><table id=\"T_73495_\" ><thead>    <tr>        <th class=\"blank level0\" ></th>        <th class=\"col_heading level0 col0\" >0</th>    </tr></thead><tbody>\n",
       "                <tr>\n",
       "                        <th id=\"T_73495_level0_row0\" class=\"row_heading level0 row0\" >total_images</th>\n",
       "                        <td id=\"T_73495_row0_col0\" class=\"data row0 col0\" >0.000000</td>\n",
       "            </tr>\n",
       "            <tr>\n",
       "                        <th id=\"T_73495_level0_row1\" class=\"row_heading level0 row1\" >last_price</th>\n",
       "                        <td id=\"T_73495_row1_col0\" class=\"data row1 col0\" >0.000000</td>\n",
       "            </tr>\n",
       "            <tr>\n",
       "                        <th id=\"T_73495_level0_row2\" class=\"row_heading level0 row2\" >total_area</th>\n",
       "                        <td id=\"T_73495_row2_col0\" class=\"data row2 col0\" >0.000000</td>\n",
       "            </tr>\n",
       "            <tr>\n",
       "                        <th id=\"T_73495_level0_row3\" class=\"row_heading level0 row3\" >first_day_exposition</th>\n",
       "                        <td id=\"T_73495_row3_col0\" class=\"data row3 col0\" >0.000000</td>\n",
       "            </tr>\n",
       "            <tr>\n",
       "                        <th id=\"T_73495_level0_row4\" class=\"row_heading level0 row4\" >rooms</th>\n",
       "                        <td id=\"T_73495_row4_col0\" class=\"data row4 col0\" >0.000000</td>\n",
       "            </tr>\n",
       "            <tr>\n",
       "                        <th id=\"T_73495_level0_row5\" class=\"row_heading level0 row5\" >ceiling_height</th>\n",
       "                        <td id=\"T_73495_row5_col0\" class=\"data row5 col0\" >39.000000</td>\n",
       "            </tr>\n",
       "            <tr>\n",
       "                        <th id=\"T_73495_level0_row6\" class=\"row_heading level0 row6\" >floors_total</th>\n",
       "                        <td id=\"T_73495_row6_col0\" class=\"data row6 col0\" >0.000000</td>\n",
       "            </tr>\n",
       "            <tr>\n",
       "                        <th id=\"T_73495_level0_row7\" class=\"row_heading level0 row7\" >living_area</th>\n",
       "                        <td id=\"T_73495_row7_col0\" class=\"data row7 col0\" >8.000000</td>\n",
       "            </tr>\n",
       "            <tr>\n",
       "                        <th id=\"T_73495_level0_row8\" class=\"row_heading level0 row8\" >floor</th>\n",
       "                        <td id=\"T_73495_row8_col0\" class=\"data row8 col0\" >0.000000</td>\n",
       "            </tr>\n",
       "            <tr>\n",
       "                        <th id=\"T_73495_level0_row9\" class=\"row_heading level0 row9\" >is_apartment</th>\n",
       "                        <td id=\"T_73495_row9_col0\" class=\"data row9 col0\" >88.000000</td>\n",
       "            </tr>\n",
       "            <tr>\n",
       "                        <th id=\"T_73495_level0_row10\" class=\"row_heading level0 row10\" >studio</th>\n",
       "                        <td id=\"T_73495_row10_col0\" class=\"data row10 col0\" >0.000000</td>\n",
       "            </tr>\n",
       "            <tr>\n",
       "                        <th id=\"T_73495_level0_row11\" class=\"row_heading level0 row11\" >open_plan</th>\n",
       "                        <td id=\"T_73495_row11_col0\" class=\"data row11 col0\" >0.000000</td>\n",
       "            </tr>\n",
       "            <tr>\n",
       "                        <th id=\"T_73495_level0_row12\" class=\"row_heading level0 row12\" >kitchen_area</th>\n",
       "                        <td id=\"T_73495_row12_col0\" class=\"data row12 col0\" >10.000000</td>\n",
       "            </tr>\n",
       "            <tr>\n",
       "                        <th id=\"T_73495_level0_row13\" class=\"row_heading level0 row13\" >balcony</th>\n",
       "                        <td id=\"T_73495_row13_col0\" class=\"data row13 col0\" >49.000000</td>\n",
       "            </tr>\n",
       "            <tr>\n",
       "                        <th id=\"T_73495_level0_row14\" class=\"row_heading level0 row14\" >locality_name</th>\n",
       "                        <td id=\"T_73495_row14_col0\" class=\"data row14 col0\" >0.000000</td>\n",
       "            </tr>\n",
       "            <tr>\n",
       "                        <th id=\"T_73495_level0_row15\" class=\"row_heading level0 row15\" >airports_nearest</th>\n",
       "                        <td id=\"T_73495_row15_col0\" class=\"data row15 col0\" >23.000000</td>\n",
       "            </tr>\n",
       "            <tr>\n",
       "                        <th id=\"T_73495_level0_row16\" class=\"row_heading level0 row16\" >cityCenters_nearest</th>\n",
       "                        <td id=\"T_73495_row16_col0\" class=\"data row16 col0\" >23.000000</td>\n",
       "            </tr>\n",
       "            <tr>\n",
       "                        <th id=\"T_73495_level0_row17\" class=\"row_heading level0 row17\" >parks_around3000</th>\n",
       "                        <td id=\"T_73495_row17_col0\" class=\"data row17 col0\" >23.000000</td>\n",
       "            </tr>\n",
       "            <tr>\n",
       "                        <th id=\"T_73495_level0_row18\" class=\"row_heading level0 row18\" >parks_nearest</th>\n",
       "                        <td id=\"T_73495_row18_col0\" class=\"data row18 col0\" >66.000000</td>\n",
       "            </tr>\n",
       "            <tr>\n",
       "                        <th id=\"T_73495_level0_row19\" class=\"row_heading level0 row19\" >ponds_around3000</th>\n",
       "                        <td id=\"T_73495_row19_col0\" class=\"data row19 col0\" >23.000000</td>\n",
       "            </tr>\n",
       "            <tr>\n",
       "                        <th id=\"T_73495_level0_row20\" class=\"row_heading level0 row20\" >ponds_nearest</th>\n",
       "                        <td id=\"T_73495_row20_col0\" class=\"data row20 col0\" >62.000000</td>\n",
       "            </tr>\n",
       "            <tr>\n",
       "                        <th id=\"T_73495_level0_row21\" class=\"row_heading level0 row21\" >days_exposition</th>\n",
       "                        <td id=\"T_73495_row21_col0\" class=\"data row21 col0\" >13.000000</td>\n",
       "            </tr>\n",
       "    </tbody></table>"
      ],
      "text/plain": [
       "<pandas.io.formats.style.Styler at 0x7f6b4c21ea00>"
      ]
     },
     "execution_count": 6,
     "metadata": {},
     "output_type": "execute_result"
    }
   ],
   "source": [
    "pd.DataFrame(round(data.isna().mean()*100,)).style.background_gradient('coolwarm')"
   ]
  },
  {
   "cell_type": "markdown",
   "metadata": {},
   "source": [
    "Большая часть столбцов имеет пропуски которые могут быть совершены по разным причинам. Заполним пропущенные значения там где это возможно. Начнем со столбца `is_apartment` - скорее всего если пользователь не указал никакого значения, то квартира не является апартаментами. Аналогичное касается столбца `balcony`. Тогда в этих столбцах заполним пропуски значением `False`, так как столбцы содержат данные типа `bool`. Строк где пропущено значение `locality_name` всего 49, поэтому можно исключить их из таблицы, ввиду того что они составлят меньше 1% от общих данных и не смогут сильно испортить статистику."
   ]
  },
  {
   "cell_type": "code",
   "execution_count": 6,
   "metadata": {},
   "outputs": [],
   "source": [
    "data['is_apartment'] = data['is_apartment'].fillna(False)\n",
    "data['balcony'] = data['balcony'].fillna(0)\n",
    "data = data.dropna(subset = ['locality_name'])"
   ]
  },
  {
   "cell_type": "markdown",
   "metadata": {},
   "source": [
    "Проверим что в данных столбцах не осталось пропусков:"
   ]
  },
  {
   "cell_type": "code",
   "execution_count": 7,
   "metadata": {},
   "outputs": [
    {
     "data": {
      "text/plain": [
       "total_images                0\n",
       "last_price                  0\n",
       "total_area                  0\n",
       "first_day_exposition        0\n",
       "rooms                       0\n",
       "ceiling_height           9160\n",
       "floors_total               85\n",
       "living_area              1898\n",
       "floor                       0\n",
       "is_apartment                0\n",
       "studio                      0\n",
       "open_plan                   0\n",
       "kitchen_area             2269\n",
       "balcony                     0\n",
       "locality_name               0\n",
       "airports_nearest         5534\n",
       "cityCenters_nearest      5511\n",
       "parks_around3000         5510\n",
       "parks_nearest           15586\n",
       "ponds_around3000         5510\n",
       "ponds_nearest           14565\n",
       "days_exposition          3180\n",
       "dtype: int64"
      ]
     },
     "execution_count": 7,
     "metadata": {},
     "output_type": "execute_result"
    }
   ],
   "source": [
    "data.isna().sum()"
   ]
  },
  {
   "cell_type": "markdown",
   "metadata": {},
   "source": [
    "Пропусков и правда нет. Теперь рассмотрим столбцы `parks_around3000` и `ponds_around3000`. Заметим что у данных столбцов совпадает количество пропусков, возможно они допущены в одних и тех же строчках. Проверим это, сделав срез таблицы по тем строкам, где пустое значение в выбранных столбцах и выведем количество пропусков на экран. Срез поместим в переменную `data_lost`"
   ]
  },
  {
   "cell_type": "code",
   "execution_count": 8,
   "metadata": {
    "scrolled": false
   },
   "outputs": [
    {
     "data": {
      "text/plain": [
       "total_images               0\n",
       "last_price                 0\n",
       "total_area                 0\n",
       "first_day_exposition       0\n",
       "rooms                      0\n",
       "ceiling_height          2569\n",
       "floors_total              10\n",
       "living_area              622\n",
       "floor                      0\n",
       "is_apartment               0\n",
       "studio                     0\n",
       "open_plan                  0\n",
       "kitchen_area             713\n",
       "balcony                    0\n",
       "locality_name              0\n",
       "airports_nearest        5510\n",
       "cityCenters_nearest     5510\n",
       "parks_around3000        5510\n",
       "parks_nearest           5510\n",
       "ponds_around3000        5510\n",
       "ponds_nearest           5510\n",
       "days_exposition          864\n",
       "dtype: int64"
      ]
     },
     "execution_count": 8,
     "metadata": {},
     "output_type": "execute_result"
    }
   ],
   "source": [
    "data_lost = data.query('parks_around3000.isna() and ponds_around3000.isna()')\n",
    "data_lost.isna().sum()"
   ]
  },
  {
   "cell_type": "markdown",
   "metadata": {},
   "source": [
    "Предположение оказалось верным и даже задело несколько других столбцов. Можно заметить что в выбранных квартирах нет никакой информации об аэропорте, центре города, парках и водоемах. Можно предположить что все выбранные квартиры находятся в небольших поселениях, которые не являются городами, следовательно у них нет центра, а также нет аэропорта, парков и водоемов. Можно проверить это предположение рассмотрев все населенные пункты в которых находятся выбранные квартиры:"
   ]
  },
  {
   "cell_type": "code",
   "execution_count": 9,
   "metadata": {
    "scrolled": false
   },
   "outputs": [
    {
     "data": {
      "text/plain": [
       "array(['городской посёлок Янино-1', 'посёлок Мурино', 'Сертолово',\n",
       "       'деревня Кудрово', 'Коммунар',\n",
       "       'поселок городского типа Красный Бор', 'Гатчина', 'поселок Мурино',\n",
       "       'деревня Фёдоровское', 'Выборг', 'Кировск',\n",
       "       'деревня Новое Девяткино', 'Санкт-Петербург',\n",
       "       'посёлок городского типа Лебяжье',\n",
       "       'посёлок городского типа Сиверский', 'поселок Молодцово',\n",
       "       'поселок городского типа Кузьмоловский',\n",
       "       'садовое товарищество Новая Ропша', 'деревня Пикколово',\n",
       "       'Всеволожск', 'Волхов', 'Кингисепп', 'Приозерск',\n",
       "       'деревня Куттузи', 'посёлок Аннино',\n",
       "       'поселок городского типа Ефимовский', 'посёлок Плодовое',\n",
       "       'деревня Заклинье', 'поселок Торковичи', 'поселок Первомайское',\n",
       "       'Сясьстрой', 'деревня Старая', 'деревня Лесколово',\n",
       "       'посёлок Новый Свет', 'Сланцы', 'село Путилово', 'Ивангород',\n",
       "       'Мурино', 'Шлиссельбург', 'Никольское', 'Сосновый Бор',\n",
       "       'поселок Новый Свет', 'деревня Оржицы', 'деревня Кальтино',\n",
       "       'Кудрово', 'поселок Романовка', 'посёлок Бугры', 'поселок Бугры',\n",
       "       'поселок городского типа Рощино', 'Кириши', 'Луга', 'Волосово',\n",
       "       'Отрадное', 'село Павлово', 'поселок Оредеж', 'село Копорье',\n",
       "       'посёлок городского типа Красный Бор', 'Тихвин', 'посёлок Победа',\n",
       "       'деревня Нурма', 'поселок городского типа Синявино',\n",
       "       'посёлок Шушары', 'Тосно', 'посёлок городского типа Кузьмоловский',\n",
       "       'Бокситогорск', 'деревня Лопухинка', 'Пикалёво',\n",
       "       'поселок Терволово', 'поселок городского типа Советский',\n",
       "       'Подпорожье', 'посёлок Петровское',\n",
       "       'посёлок городского типа Токсово', 'поселок Сельцо',\n",
       "       'посёлок городского типа Вырица', 'деревня Кипень',\n",
       "       'деревня Келози', 'деревня Вартемяги', 'посёлок Тельмана',\n",
       "       'поселок Севастьяново', 'городской поселок Большая Ижора',\n",
       "       'городской посёлок Павлово', 'деревня Агалатово',\n",
       "       'посёлок Новогорелово', 'городской посёлок Лесогорский',\n",
       "       'деревня Лаголово', 'поселок Цвелодубово',\n",
       "       'поселок городского типа Рахья', 'поселок городского типа Вырица',\n",
       "       'деревня Белогорка', 'поселок Заводской',\n",
       "       'городской посёлок Новоселье', 'деревня Большие Колпаны',\n",
       "       'деревня Горбунки', 'деревня Батово', 'деревня Заневка',\n",
       "       'деревня Иссад', 'Приморск', 'городской посёлок Фёдоровское',\n",
       "       'деревня Мистолово', 'Новая Ладога', 'поселок Зимитицы',\n",
       "       'поселок Барышево', 'деревня Разметелево',\n",
       "       'поселок городского типа имени Свердлова', 'деревня Пеники',\n",
       "       'поселок Рябово', 'деревня Пудомяги', 'поселок станции Корнево',\n",
       "       'деревня Низино', 'деревня Бегуницы', 'посёлок Поляны',\n",
       "       'городской посёлок Мга', 'поселок Елизаветино',\n",
       "       'посёлок городского типа Кузнечное', 'деревня Колтуши',\n",
       "       'поселок Запорожское', 'посёлок городского типа Рощино',\n",
       "       'деревня Гостилицы', 'деревня Малое Карлино',\n",
       "       'посёлок Мичуринское', 'посёлок городского типа имени Морозова',\n",
       "       'посёлок Сосново', 'деревня Аро', 'поселок Ильичёво',\n",
       "       'посёлок городского типа Тайцы', 'деревня Малое Верево',\n",
       "       'деревня Извара', 'поселок станции Вещево', 'село Паша',\n",
       "       'деревня Калитино', 'посёлок городского типа Ульяновка',\n",
       "       'деревня Чудской Бор', 'поселок городского типа Дубровка',\n",
       "       'деревня Мины', 'поселок Войсковицы',\n",
       "       'посёлок городского типа имени Свердлова', 'деревня Коркино',\n",
       "       'посёлок Ропша', 'поселок городского типа Приладожский',\n",
       "       'посёлок Щеглово', 'посёлок Гаврилово', 'Лодейное Поле',\n",
       "       'деревня Рабитицы', 'поселок городского типа Никольский',\n",
       "       'деревня Кузьмолово', 'деревня Малые Колпаны', 'поселок Тельмана',\n",
       "       'городской посёлок Назия', 'посёлок Ильичёво', 'поселок Углово',\n",
       "       'поселок Старая Малукса', 'садовое товарищество Рахья',\n",
       "       'поселок Аннино', 'поселок Победа', 'деревня Меньково',\n",
       "       'деревня Старые Бегуницы', 'поселок Семрино', 'поселок Гаврилово',\n",
       "       'поселок Глажево', 'поселок Кобринское', 'деревня Гарболово',\n",
       "       'деревня Юкки', 'поселок станции Приветнинское',\n",
       "       'деревня Мануйлово', 'деревня Пчева', 'поселок Поляны',\n",
       "       'поселок Цвылёво', 'поселок Мельниково', 'посёлок Пудость',\n",
       "       'посёлок Усть-Луга', 'Светогорск', 'Любань', 'поселок Селезнёво',\n",
       "       'поселок городского типа Рябово', 'Каменногорск', 'деревня Кривко',\n",
       "       'поселок Глебычево', 'деревня Парицы', 'поселок Жилпосёлок',\n",
       "       'посёлок городского типа Мга', 'городской поселок Янино-1',\n",
       "       'посёлок Войскорово', 'село Никольское', 'посёлок Терволово',\n",
       "       'поселок Стеклянный', 'посёлок городского типа Важины',\n",
       "       'посёлок Мыза-Ивановка', 'село Русско-Высоцкое',\n",
       "       'поселок городского типа Лебяжье',\n",
       "       'поселок городского типа Форносово', 'Красное Село',\n",
       "       'село Старая Ладога', 'поселок Житково',\n",
       "       'городской посёлок Виллози', 'деревня Лампово',\n",
       "       'деревня Шпаньково', 'деревня Лаврики', 'посёлок Сумино',\n",
       "       'посёлок Возрождение', 'деревня Старосиверская',\n",
       "       'посёлок Кикерино', 'поселок Возрождение',\n",
       "       'деревня Старое Хинколово', 'посёлок Пригородный',\n",
       "       'посёлок Торфяное', 'городской посёлок Будогощь',\n",
       "       'поселок Суходолье', 'поселок Красная Долина', 'деревня Хапо-Ое',\n",
       "       'поселок городского типа Дружная Горка', 'деревня Яльгелево',\n",
       "       'посёлок Стеклянный', 'село Рождествено', 'деревня Старополье',\n",
       "       'деревня Сяськелево', 'деревня Камышовка',\n",
       "       'садоводческое некоммерческое товарищество Лесная Поляна',\n",
       "       'деревня Хязельки', 'поселок Жилгородок',\n",
       "       'посёлок городского типа Павлово', 'деревня Ялгино', 'Ломоносов',\n",
       "       'поселок Новый Учхоз', 'городской посёлок Рощино',\n",
       "       'поселок Гончарово', 'поселок Почап', 'посёлок Сапёрное',\n",
       "       'посёлок Платформа 69-й километр', 'поселок Каложицы',\n",
       "       'деревня Фалилеево', 'деревня Пельгора',\n",
       "       'поселок городского типа Лесогорский', 'деревня Торошковичи',\n",
       "       'посёлок Алексеевка', 'поселок Серебрянский', 'поселок Лукаши',\n",
       "       'поселок Петровское', 'деревня Щеглово', 'Кронштадт',\n",
       "       'поселок Мичуринское', 'деревня Тарасово', 'поселок Кингисеппский',\n",
       "       'посёлок при железнодорожной станции Вещево', 'поселок Ушаки',\n",
       "       'деревня Котлы', 'деревня Сижно', 'деревня Торосово',\n",
       "       'посёлок Форт Красная Горка', 'поселок городского типа Токсово',\n",
       "       'деревня Новолисино', 'посёлок станции Громово', 'деревня Глинка',\n",
       "       'посёлок Мельниково', 'поселок городского типа Назия',\n",
       "       'деревня Старая Пустошь', 'поселок Коммунары', 'поселок Починок',\n",
       "       'посёлок городского типа Вознесенье', 'деревня Разбегаево',\n",
       "       'посёлок городского типа Рябово', 'поселок Гладкое',\n",
       "       'посёлок при железнодорожной станции Приветнинское',\n",
       "       'поселок Тёсово-4', 'посёлок Жилгородок', 'деревня Бор',\n",
       "       'посёлок Коробицыно', 'деревня Большая Вруда', 'деревня Курковицы',\n",
       "       'городской посёлок Советский', 'посёлок Кобралово',\n",
       "       'деревня Суоранда', 'поселок Кобралово',\n",
       "       'поселок городского типа Кондратьево',\n",
       "       'коттеджный поселок Счастье', 'поселок Любань', 'деревня Реброво',\n",
       "       'деревня Зимитицы', 'деревня Тойворово', 'поселок Семиозерье',\n",
       "       'поселок Лесное', 'поселок Совхозный', 'поселок Усть-Луга',\n",
       "       'посёлок Ленинское', 'посёлок Суйда',\n",
       "       'посёлок городского типа Форносово', 'деревня Нижние Осельки',\n",
       "       'посёлок станции Свирь', 'поселок Перово', 'Высоцк',\n",
       "       'поселок Гарболово', 'село Шум', 'поселок Котельский',\n",
       "       'поселок станции Лужайка', 'деревня Большая Пустомержа',\n",
       "       'поселок Красносельское', 'деревня Вахнова Кара', 'деревня Пижма',\n",
       "       'коттеджный поселок Кивеннапа Север', 'поселок Коробицыно',\n",
       "       'поселок Ромашки', 'посёлок Перово', 'деревня Каськово',\n",
       "       'деревня Куровицы', 'посёлок Плоское', 'поселок Сумино',\n",
       "       'поселок городского типа Большая Ижора', 'поселок Кирпичное',\n",
       "       'деревня Ям-Тесово', 'деревня Раздолье', 'деревня Терпилицы',\n",
       "       'посёлок Шугозеро', 'деревня Ваганово', 'поселок Пушное',\n",
       "       'садовое товарищество Садко', 'деревня Выскатка',\n",
       "       'городской посёлок Свирьстрой', 'поселок Громово',\n",
       "       'деревня Кисельня', 'посёлок Старая Малукса',\n",
       "       'деревня Трубников Бор', 'поселок Калитино',\n",
       "       'посёлок Высокоключевой', 'садовое товарищество Приладожский',\n",
       "       'посёлок Пансионат Зелёный Бор', 'деревня Ненимяки',\n",
       "       'поселок Пансионат Зелёный Бор', 'деревня Снегирёвка',\n",
       "       'деревня Рапполово', 'деревня Пустынка', 'Колпино',\n",
       "       'поселок Рабитицы', 'деревня Большой Сабск', 'деревня Русско',\n",
       "       'деревня Лупполово', 'деревня Большое Рейзино',\n",
       "       'деревня Малая Романовка', 'поселок Дружноселье', 'поселок Пчевжа',\n",
       "       'поселок Володарское', 'деревня Нижняя',\n",
       "       'коттеджный посёлок Лесное', 'деревня Тихковицы',\n",
       "       'деревня Борисова Грива', 'посёлок Дзержинского'], dtype=object)"
      ]
     },
     "execution_count": 9,
     "metadata": {},
     "output_type": "execute_result"
    }
   ],
   "source": [
    "data_lost['locality_name'].unique()"
   ]
  },
  {
   "cell_type": "markdown",
   "metadata": {},
   "source": [
    "Предположение вновь оказалось верным! Все населенные пункты являются поселками или деревнями, поэтому в них нет аэропорта, водоема или же парка. Для будущих исследований, связанных с водоемами, парками и аэропортами эти данные не стоит включать в выборку. Заполнить пропуски для столцбов `parks_around3000` и `ponds_around3000` можно нулями, так как столбцы обозначают количество объектов в радиусе 3км, которых, как мы поняли ровно ноль:"
   ]
  },
  {
   "cell_type": "code",
   "execution_count": 10,
   "metadata": {},
   "outputs": [
    {
     "data": {
      "text/plain": [
       "total_images                0\n",
       "last_price                  0\n",
       "total_area                  0\n",
       "first_day_exposition        0\n",
       "rooms                       0\n",
       "ceiling_height           9160\n",
       "floors_total               85\n",
       "living_area              1898\n",
       "floor                       0\n",
       "is_apartment                0\n",
       "studio                      0\n",
       "open_plan                   0\n",
       "kitchen_area             2269\n",
       "balcony                     0\n",
       "locality_name               0\n",
       "airports_nearest         5534\n",
       "cityCenters_nearest      5511\n",
       "parks_around3000            0\n",
       "parks_nearest           15586\n",
       "ponds_around3000            0\n",
       "ponds_nearest           14565\n",
       "days_exposition          3180\n",
       "dtype: int64"
      ]
     },
     "execution_count": 10,
     "metadata": {},
     "output_type": "execute_result"
    }
   ],
   "source": [
    "data['parks_around3000'] = data['parks_around3000'].fillna(0)\n",
    "data['ponds_around3000'] = data['ponds_around3000'].fillna(0)\n",
    "data.isna().sum()"
   ]
  },
  {
   "cell_type": "markdown",
   "metadata": {},
   "source": [
    "Проверим, возможно для некоторых квартир где в радиусе 3км есть парк или водоем не были записаны расстояния до ближайших:"
   ]
  },
  {
   "cell_type": "code",
   "execution_count": 11,
   "metadata": {},
   "outputs": [
    {
     "name": "stdout",
     "output_type": "stream",
     "text": [
      "0\n",
      "0\n"
     ]
    }
   ],
   "source": [
    "print(data.query('ponds_around3000 !=0 and ponds_nearest.isna()').shape[0])\n",
    "print(data.query('parks_around3000 !=0 and parks_nearest.isna()').shape[0])"
   ]
  },
  {
   "cell_type": "markdown",
   "metadata": {},
   "source": [
    "Получается если в радиусе 3км от квартиры есть водоем или парк, расстояние до ближайшего точно записано. Все оставшиеся пропуски тяжело будет заполнить значениями которые будут логичными."
   ]
  },
  {
   "cell_type": "markdown",
   "metadata": {},
   "source": [
    "### Типы данных"
   ]
  },
  {
   "cell_type": "markdown",
   "metadata": {},
   "source": [
    "Еще раз рассмотрим общую информацию о таблице:"
   ]
  },
  {
   "cell_type": "code",
   "execution_count": 12,
   "metadata": {},
   "outputs": [
    {
     "name": "stdout",
     "output_type": "stream",
     "text": [
      "<class 'pandas.core.frame.DataFrame'>\n",
      "Int64Index: 23650 entries, 0 to 23698\n",
      "Data columns (total 22 columns):\n",
      " #   Column                Non-Null Count  Dtype  \n",
      "---  ------                --------------  -----  \n",
      " 0   total_images          23650 non-null  int64  \n",
      " 1   last_price            23650 non-null  float64\n",
      " 2   total_area            23650 non-null  float64\n",
      " 3   first_day_exposition  23650 non-null  object \n",
      " 4   rooms                 23650 non-null  int64  \n",
      " 5   ceiling_height        14490 non-null  float64\n",
      " 6   floors_total          23565 non-null  float64\n",
      " 7   living_area           21752 non-null  float64\n",
      " 8   floor                 23650 non-null  int64  \n",
      " 9   is_apartment          23650 non-null  bool   \n",
      " 10  studio                23650 non-null  bool   \n",
      " 11  open_plan             23650 non-null  bool   \n",
      " 12  kitchen_area          21381 non-null  float64\n",
      " 13  balcony               23650 non-null  float64\n",
      " 14  locality_name         23650 non-null  object \n",
      " 15  airports_nearest      18116 non-null  float64\n",
      " 16  cityCenters_nearest   18139 non-null  float64\n",
      " 17  parks_around3000      23650 non-null  float64\n",
      " 18  parks_nearest         8064 non-null   float64\n",
      " 19  ponds_around3000      23650 non-null  float64\n",
      " 20  ponds_nearest         9085 non-null   float64\n",
      " 21  days_exposition       20470 non-null  float64\n",
      "dtypes: bool(3), float64(14), int64(3), object(2)\n",
      "memory usage: 3.7+ MB\n"
     ]
    }
   ],
   "source": [
    "data.info()"
   ]
  },
  {
   "cell_type": "markdown",
   "metadata": {},
   "source": [
    "Необходимо поменять тип данных в следующих столбцах:\n",
    "- `first_day_exposition` на формат datetime\n",
    "- `balcony`, `floors_total`, `floor`,  на формат integer\n",
    "- `floors_total`, `parks_around3000` , `ponds_around3000`, `days_exposition` на integer \n",
    "\n",
    "Сделаем это с помощью методов `astype()`, `to_datetime()` : "
   ]
  },
  {
   "cell_type": "code",
   "execution_count": 13,
   "metadata": {},
   "outputs": [],
   "source": [
    "data['first_day_exposition'] = pd.to_datetime(data['first_day_exposition'], format = '%Y-%m-%dT%H:%M:%S')\n",
    "data['balcony'] = data['balcony'].astype('int', errors = 'ignore')\n",
    "data['floors_total'] = data['floors_total'].astype('int', errors = 'ignore') #добавление параметра ignore, \n",
    "                                                                             #так как присутствуют пропуски\n",
    "data['floor'] = data['floor'].astype('int', errors = 'ignore')\n",
    "data['floors_total'] = data['floors_total'].astype('int', errors = 'ignore')\n",
    "data['parks_around3000'] = data['parks_around3000'].astype('int', errors = 'ignore')\n",
    "data['ponds_around3000'] = data['ponds_around3000'].astype('int', errors = 'ignore')\n",
    "data['days_exposition'] = data['days_exposition'].astype('int', errors = 'ignore')"
   ]
  },
  {
   "cell_type": "markdown",
   "metadata": {},
   "source": [
    "### Обработка неявных дубликатов\n",
    "\n",
    "Рассмотрим уникальные значения столбца `locality_name`"
   ]
  },
  {
   "cell_type": "code",
   "execution_count": 14,
   "metadata": {},
   "outputs": [
    {
     "data": {
      "text/plain": [
       "array(['Санкт-Петербург', 'посёлок Шушары', 'городской посёлок Янино-1',\n",
       "       'посёлок Парголово', 'посёлок Мурино', 'Ломоносов', 'Сертолово',\n",
       "       'Петергоф', 'Пушкин', 'деревня Кудрово', 'Коммунар', 'Колпино',\n",
       "       'поселок городского типа Красный Бор', 'Гатчина', 'поселок Мурино',\n",
       "       'деревня Фёдоровское', 'Выборг', 'Кронштадт', 'Кировск',\n",
       "       'деревня Новое Девяткино', 'посёлок Металлострой',\n",
       "       'посёлок городского типа Лебяжье',\n",
       "       'посёлок городского типа Сиверский', 'поселок Молодцово',\n",
       "       'поселок городского типа Кузьмоловский',\n",
       "       'садовое товарищество Новая Ропша', 'Павловск',\n",
       "       'деревня Пикколово', 'Всеволожск', 'Волхов', 'Кингисепп',\n",
       "       'Приозерск', 'Сестрорецк', 'деревня Куттузи', 'посёлок Аннино',\n",
       "       'поселок городского типа Ефимовский', 'посёлок Плодовое',\n",
       "       'деревня Заклинье', 'поселок Торковичи', 'поселок Первомайское',\n",
       "       'Красное Село', 'посёлок Понтонный', 'Сясьстрой', 'деревня Старая',\n",
       "       'деревня Лесколово', 'посёлок Новый Свет', 'Сланцы',\n",
       "       'село Путилово', 'Ивангород', 'Мурино', 'Шлиссельбург',\n",
       "       'Никольское', 'Зеленогорск', 'Сосновый Бор', 'поселок Новый Свет',\n",
       "       'деревня Оржицы', 'деревня Кальтино', 'Кудрово',\n",
       "       'поселок Романовка', 'посёлок Бугры', 'поселок Бугры',\n",
       "       'поселок городского типа Рощино', 'Кириши', 'Луга', 'Волосово',\n",
       "       'Отрадное', 'село Павлово', 'поселок Оредеж', 'село Копорье',\n",
       "       'посёлок городского типа Красный Бор', 'посёлок Молодёжное',\n",
       "       'Тихвин', 'посёлок Победа', 'деревня Нурма',\n",
       "       'поселок городского типа Синявино', 'Тосно',\n",
       "       'посёлок городского типа Кузьмоловский', 'посёлок Стрельна',\n",
       "       'Бокситогорск', 'посёлок Александровская', 'деревня Лопухинка',\n",
       "       'Пикалёво', 'поселок Терволово',\n",
       "       'поселок городского типа Советский', 'Подпорожье',\n",
       "       'посёлок Петровское', 'посёлок городского типа Токсово',\n",
       "       'поселок Сельцо', 'посёлок городского типа Вырица',\n",
       "       'деревня Кипень', 'деревня Келози', 'деревня Вартемяги',\n",
       "       'посёлок Тельмана', 'поселок Севастьяново',\n",
       "       'городской поселок Большая Ижора', 'городской посёлок Павлово',\n",
       "       'деревня Агалатово', 'посёлок Новогорелово',\n",
       "       'городской посёлок Лесогорский', 'деревня Лаголово',\n",
       "       'поселок Цвелодубово', 'поселок городского типа Рахья',\n",
       "       'поселок городского типа Вырица', 'деревня Белогорка',\n",
       "       'поселок Заводской', 'городской посёлок Новоселье',\n",
       "       'деревня Большие Колпаны', 'деревня Горбунки', 'деревня Батово',\n",
       "       'деревня Заневка', 'деревня Иссад', 'Приморск',\n",
       "       'городской посёлок Фёдоровское', 'деревня Мистолово',\n",
       "       'Новая Ладога', 'поселок Зимитицы', 'поселок Барышево',\n",
       "       'деревня Разметелево', 'поселок городского типа имени Свердлова',\n",
       "       'деревня Пеники', 'поселок Рябово', 'деревня Пудомяги',\n",
       "       'поселок станции Корнево', 'деревня Низино', 'деревня Бегуницы',\n",
       "       'посёлок Поляны', 'городской посёлок Мга', 'поселок Елизаветино',\n",
       "       'посёлок городского типа Кузнечное', 'деревня Колтуши',\n",
       "       'поселок Запорожское', 'посёлок городского типа Рощино',\n",
       "       'деревня Гостилицы', 'деревня Малое Карлино',\n",
       "       'посёлок Мичуринское', 'посёлок городского типа имени Морозова',\n",
       "       'посёлок Песочный', 'посёлок Сосново', 'деревня Аро',\n",
       "       'поселок Ильичёво', 'посёлок городского типа Тайцы',\n",
       "       'деревня Малое Верево', 'деревня Извара', 'поселок станции Вещево',\n",
       "       'село Паша', 'деревня Калитино',\n",
       "       'посёлок городского типа Ульяновка', 'деревня Чудской Бор',\n",
       "       'поселок городского типа Дубровка', 'деревня Мины',\n",
       "       'поселок Войсковицы', 'посёлок городского типа имени Свердлова',\n",
       "       'деревня Коркино', 'посёлок Ропша',\n",
       "       'поселок городского типа Приладожский', 'посёлок Щеглово',\n",
       "       'посёлок Гаврилово', 'Лодейное Поле', 'деревня Рабитицы',\n",
       "       'поселок городского типа Никольский', 'деревня Кузьмолово',\n",
       "       'деревня Малые Колпаны', 'поселок Тельмана',\n",
       "       'посёлок Петро-Славянка', 'городской посёлок Назия',\n",
       "       'посёлок Репино', 'посёлок Ильичёво', 'поселок Углово',\n",
       "       'поселок Старая Малукса', 'садовое товарищество Рахья',\n",
       "       'поселок Аннино', 'поселок Победа', 'деревня Меньково',\n",
       "       'деревня Старые Бегуницы', 'посёлок Сапёрный', 'поселок Семрино',\n",
       "       'поселок Гаврилово', 'поселок Глажево', 'поселок Кобринское',\n",
       "       'деревня Гарболово', 'деревня Юкки',\n",
       "       'поселок станции Приветнинское', 'деревня Мануйлово',\n",
       "       'деревня Пчева', 'поселок Поляны', 'поселок Цвылёво',\n",
       "       'поселок Мельниково', 'посёлок Пудость', 'посёлок Усть-Луга',\n",
       "       'Светогорск', 'Любань', 'поселок Селезнёво',\n",
       "       'поселок городского типа Рябово', 'Каменногорск', 'деревня Кривко',\n",
       "       'поселок Глебычево', 'деревня Парицы', 'поселок Жилпосёлок',\n",
       "       'посёлок городского типа Мга', 'городской поселок Янино-1',\n",
       "       'посёлок Войскорово', 'село Никольское', 'посёлок Терволово',\n",
       "       'поселок Стеклянный', 'посёлок городского типа Важины',\n",
       "       'посёлок Мыза-Ивановка', 'село Русско-Высоцкое',\n",
       "       'поселок городского типа Лебяжье',\n",
       "       'поселок городского типа Форносово', 'село Старая Ладога',\n",
       "       'поселок Житково', 'городской посёлок Виллози', 'деревня Лампово',\n",
       "       'деревня Шпаньково', 'деревня Лаврики', 'посёлок Сумино',\n",
       "       'посёлок Возрождение', 'деревня Старосиверская',\n",
       "       'посёлок Кикерино', 'поселок Возрождение',\n",
       "       'деревня Старое Хинколово', 'посёлок Пригородный',\n",
       "       'посёлок Торфяное', 'городской посёлок Будогощь',\n",
       "       'поселок Суходолье', 'поселок Красная Долина', 'деревня Хапо-Ое',\n",
       "       'поселок городского типа Дружная Горка', 'поселок Лисий Нос',\n",
       "       'деревня Яльгелево', 'посёлок Стеклянный', 'село Рождествено',\n",
       "       'деревня Старополье', 'посёлок Левашово', 'деревня Сяськелево',\n",
       "       'деревня Камышовка',\n",
       "       'садоводческое некоммерческое товарищество Лесная Поляна',\n",
       "       'деревня Хязельки', 'поселок Жилгородок',\n",
       "       'посёлок городского типа Павлово', 'деревня Ялгино',\n",
       "       'поселок Новый Учхоз', 'городской посёлок Рощино',\n",
       "       'поселок Гончарово', 'поселок Почап', 'посёлок Сапёрное',\n",
       "       'посёлок Платформа 69-й километр', 'поселок Каложицы',\n",
       "       'деревня Фалилеево', 'деревня Пельгора',\n",
       "       'поселок городского типа Лесогорский', 'деревня Торошковичи',\n",
       "       'посёлок Белоостров', 'посёлок Алексеевка', 'поселок Серебрянский',\n",
       "       'поселок Лукаши', 'поселок Петровское', 'деревня Щеглово',\n",
       "       'поселок Мичуринское', 'деревня Тарасово', 'поселок Кингисеппский',\n",
       "       'посёлок при железнодорожной станции Вещево', 'поселок Ушаки',\n",
       "       'деревня Котлы', 'деревня Сижно', 'деревня Торосово',\n",
       "       'посёлок Форт Красная Горка', 'поселок городского типа Токсово',\n",
       "       'деревня Новолисино', 'посёлок станции Громово', 'деревня Глинка',\n",
       "       'посёлок Мельниково', 'поселок городского типа Назия',\n",
       "       'деревня Старая Пустошь', 'поселок Коммунары', 'поселок Починок',\n",
       "       'посёлок городского типа Вознесенье', 'деревня Разбегаево',\n",
       "       'посёлок городского типа Рябово', 'поселок Гладкое',\n",
       "       'посёлок при железнодорожной станции Приветнинское',\n",
       "       'поселок Тёсово-4', 'посёлок Жилгородок', 'деревня Бор',\n",
       "       'посёлок Коробицыно', 'деревня Большая Вруда', 'деревня Курковицы',\n",
       "       'посёлок Лисий Нос', 'городской посёлок Советский',\n",
       "       'посёлок Кобралово', 'деревня Суоранда', 'поселок Кобралово',\n",
       "       'поселок городского типа Кондратьево',\n",
       "       'коттеджный поселок Счастье', 'поселок Любань', 'деревня Реброво',\n",
       "       'деревня Зимитицы', 'деревня Тойворово', 'поселок Семиозерье',\n",
       "       'поселок Лесное', 'поселок Совхозный', 'поселок Усть-Луга',\n",
       "       'посёлок Ленинское', 'посёлок Суйда',\n",
       "       'посёлок городского типа Форносово', 'деревня Нижние Осельки',\n",
       "       'посёлок станции Свирь', 'поселок Перово', 'Высоцк',\n",
       "       'поселок Гарболово', 'село Шум', 'поселок Котельский',\n",
       "       'поселок станции Лужайка', 'деревня Большая Пустомержа',\n",
       "       'поселок Красносельское', 'деревня Вахнова Кара', 'деревня Пижма',\n",
       "       'коттеджный поселок Кивеннапа Север', 'поселок Коробицыно',\n",
       "       'поселок Ромашки', 'посёлок Перово', 'деревня Каськово',\n",
       "       'деревня Куровицы', 'посёлок Плоское', 'поселок Сумино',\n",
       "       'поселок городского типа Большая Ижора', 'поселок Кирпичное',\n",
       "       'деревня Ям-Тесово', 'деревня Раздолье', 'деревня Терпилицы',\n",
       "       'посёлок Шугозеро', 'деревня Ваганово', 'поселок Пушное',\n",
       "       'садовое товарищество Садко', 'посёлок Усть-Ижора',\n",
       "       'деревня Выскатка', 'городской посёлок Свирьстрой',\n",
       "       'поселок Громово', 'деревня Кисельня', 'посёлок Старая Малукса',\n",
       "       'деревня Трубников Бор', 'поселок Калитино',\n",
       "       'посёлок Высокоключевой', 'садовое товарищество Приладожский',\n",
       "       'посёлок Пансионат Зелёный Бор', 'деревня Ненимяки',\n",
       "       'поселок Пансионат Зелёный Бор', 'деревня Снегирёвка',\n",
       "       'деревня Рапполово', 'деревня Пустынка', 'поселок Рабитицы',\n",
       "       'деревня Большой Сабск', 'деревня Русско', 'деревня Лупполово',\n",
       "       'деревня Большое Рейзино', 'деревня Малая Романовка',\n",
       "       'поселок Дружноселье', 'поселок Пчевжа', 'поселок Володарское',\n",
       "       'деревня Нижняя', 'коттеджный посёлок Лесное', 'деревня Тихковицы',\n",
       "       'деревня Борисова Грива', 'посёлок Дзержинского'], dtype=object)"
      ]
     },
     "execution_count": 14,
     "metadata": {},
     "output_type": "execute_result"
    }
   ],
   "source": [
    "data['locality_name'].unique()"
   ]
  },
  {
   "cell_type": "markdown",
   "metadata": {},
   "source": [
    "Попробуем избавиться от всех возможных дубликатов следующим способом - почти везде перед самим названием населенного пункта идет обозначение типа - поселок, деревня, поселок городского типа и так далее. И часть дубликатов скрывается как раз из за ошибки в типах населенных пунктов. Допустим городской поселок Янино-1 имеет две записи, в них поселок записан 2 разными способами: \"поселок\" и \"посёлок\". А уникальных значений достаточно много чтобы перебирать их вручную. Тогда попробуем разбить строку по разделителю в виде пробела. И каждое название населенного пункта заменим на последнее значение в полученном списке. К примеру \"городской поселок Янино-1\" поменять на \"Янино-1\". Таким образом от большей части неявных дубликатов получится избавиться. Также воспользуемся приведением к нижнему регистру на случай еслии некоторые названия начинаются с прописной буквы. "
   ]
  },
  {
   "cell_type": "code",
   "execution_count": 15,
   "metadata": {},
   "outputs": [],
   "source": [
    "for i in data['locality_name'].unique().tolist():\n",
    "    data.loc[(data['locality_name'] == i), 'locality_name'] = i.split()[-1]\n",
    "data['locality_name'] = data['locality_name'].str.lower()"
   ]
  },
  {
   "cell_type": "markdown",
   "metadata": {},
   "source": [
    "Теперь посмотрим на количество явных дубликатов:"
   ]
  },
  {
   "cell_type": "code",
   "execution_count": 16,
   "metadata": {},
   "outputs": [
    {
     "data": {
      "text/plain": [
       "0"
      ]
     },
     "execution_count": 16,
     "metadata": {},
     "output_type": "execute_result"
    }
   ],
   "source": [
    "data.duplicated().sum()"
   ]
  },
  {
   "cell_type": "markdown",
   "metadata": {},
   "source": [
    "Таблица не имеет явных дубликатов, можем двигаться дальше!"
   ]
  },
  {
   "cell_type": "markdown",
   "metadata": {},
   "source": [
    "### Удаление аномальных значений\n",
    "\n",
    "Рассмотрим столбцы связанные с: размерами квартир - это их площади, а также размерами домов. Начнем с квартир, первым будет солбец `ceiling_height`. Посмотрим на все уникальные значения в этом столбце:"
   ]
  },
  {
   "cell_type": "code",
   "execution_count": 17,
   "metadata": {
    "scrolled": true
   },
   "outputs": [
    {
     "data": {
      "text/plain": [
       "array([  2.7 ,    nan,   3.03,   2.5 ,   2.67,   2.56,   3.05,   2.75,\n",
       "         2.6 ,   2.9 ,   2.8 ,   2.55,   3.  ,   2.65,   3.2 ,   2.61,\n",
       "         3.25,   3.45,   2.77,   2.85,   2.64,   2.57,   4.15,   3.5 ,\n",
       "         3.3 ,   2.71,   4.  ,   2.47,   2.73,   2.84,   3.1 ,   2.34,\n",
       "         3.4 ,   3.06,   2.72,   2.54,   2.51,   2.78,   2.76,  25.  ,\n",
       "         2.58,   3.7 ,   2.52,   5.2 ,   2.87,   2.66,   2.59,   2.  ,\n",
       "         2.45,   3.6 ,   2.92,   3.11,   3.13,   3.8 ,   3.15,   3.55,\n",
       "         3.16,   3.62,   3.12,   2.53,   2.74,   2.96,   2.46,   5.3 ,\n",
       "         5.  ,   2.79,   2.95,   4.06,   2.94,   3.82,   3.54,   3.53,\n",
       "         2.83,   4.7 ,   2.4 ,   3.38,   3.01,   5.6 ,   3.65,   3.9 ,\n",
       "         3.18,   3.35,   2.3 ,   3.57,   2.48,   2.62,   2.82,   3.98,\n",
       "         2.63,   3.83,   3.52,   3.95,   3.75,   2.88,   3.67,   3.87,\n",
       "         3.66,   3.85,   3.86,   4.19,   3.24,   4.8 ,   4.5 ,   4.2 ,\n",
       "         3.36,  32.  ,   3.08,   3.68,   3.07,   3.37,   3.09,   8.  ,\n",
       "         3.26,   3.34,   2.81,   3.44,   2.97,   3.14,   4.37,   2.68,\n",
       "         3.22,   3.27,  27.  ,   4.1 ,   2.93,   3.46,  24.  ,   3.47,\n",
       "         3.33,   3.63,   3.32,  26.  ,   1.2 ,   8.3 ,   2.98,   2.86,\n",
       "         3.17,   4.4 ,   3.28,   3.04,   4.45,   5.5 ,   3.84,   3.23,\n",
       "         3.02,   3.21,   3.43,   3.78,   4.3 ,   3.39,   2.69,   3.31,\n",
       "         4.65,   3.56,   2.2 ,   3.51,   3.93,   3.42,   2.99,   3.49,\n",
       "        14.  ,   4.14,   2.91,   3.88,   1.75,   4.25,   3.29,  20.  ,\n",
       "         2.25,   3.76,   3.69,   6.  ,  22.6 ,   2.89,   3.58,   5.8 ,\n",
       "        27.5 ,   2.49,   4.9 ,   3.48,  10.3 ,   1.  , 100.  ,   3.59])"
      ]
     },
     "execution_count": 17,
     "metadata": {},
     "output_type": "execute_result"
    }
   ],
   "source": [
    "data['ceiling_height'].unique()"
   ]
  },
  {
   "cell_type": "markdown",
   "metadata": {},
   "source": [
    "Получили достаточно много аномальных значений. Скорее всего при указании высоты потолков забывали добавить запятую в нужном месте и высота получалась в 10 раз больше. Поэтому во всех строках где указана высота потолка больше 15 метров, заменим высоту на значение в 10 раз меньше прежнего:"
   ]
  },
  {
   "cell_type": "code",
   "execution_count": 18,
   "metadata": {},
   "outputs": [],
   "source": [
    "for i in data['ceiling_height']:\n",
    "    if i > 15: \n",
    "        data.loc[(data['ceiling_height'] == i), 'ceiling_height'] /= 10"
   ]
  },
  {
   "cell_type": "markdown",
   "metadata": {},
   "source": [
    "Теперь проверим столбец `floors_total`:"
   ]
  },
  {
   "cell_type": "code",
   "execution_count": 19,
   "metadata": {
    "scrolled": true
   },
   "outputs": [
    {
     "data": {
      "text/plain": [
       "array([16., 11.,  5., 14., 12., 26., 24., 27.,  9.,  6., 17., 25.,  3.,\n",
       "       23., 19., 18.,  4., 22.,  8.,  2., 10.,  7., 13., 15., nan, 20.,\n",
       "       28., 36., 21., 35., 34., 60.,  1., 29., 33., 52., 37.])"
      ]
     },
     "execution_count": 19,
     "metadata": {},
     "output_type": "execute_result"
    }
   ],
   "source": [
    "data['floors_total'].unique()"
   ]
  },
  {
   "cell_type": "markdown",
   "metadata": {},
   "source": [
    "Можно заметить несколько аномальных значений - 60, 52, 37, 36, 35, 34, 33. Посмотрим сколько квартир имеют такие значения:"
   ]
  },
  {
   "cell_type": "code",
   "execution_count": 20,
   "metadata": {
    "scrolled": true
   },
   "outputs": [
    {
     "name": "stdout",
     "output_type": "stream",
     "text": [
      "32\n"
     ]
    }
   ],
   "source": [
    "print(data.query('floors_total == 60 or floors_total == 52 or floors_total == 37 \\\n",
    "                 or floors_total == 36 or floors_total == 35 or floors_total == 34 or floors_total == 33').shape[0])"
   ]
  },
  {
   "cell_type": "markdown",
   "metadata": {},
   "source": [
    "Таких значений в таблице совсем мало так что мы можем их отбросить для того чтобы статистика была более корректная:"
   ]
  },
  {
   "cell_type": "code",
   "execution_count": 21,
   "metadata": {},
   "outputs": [],
   "source": [
    "data = data.loc[(data['floors_total'] != 60)&(data['floors_total'] != 52)\\\n",
    "                &(data['floors_total'] != 37)&(data['floors_total'] != 36)\\\n",
    "                &(data['floors_total'] != 35)&(data['floors_total'] != 34)\\\n",
    "                &(data['floors_total'] != 33), :]"
   ]
  },
  {
   "cell_type": "markdown",
   "metadata": {},
   "source": [
    "Теперь рассмотрим столбец `rooms` - количество комнат в квартире:"
   ]
  },
  {
   "cell_type": "code",
   "execution_count": 22,
   "metadata": {
    "scrolled": true
   },
   "outputs": [
    {
     "name": "stdout",
     "output_type": "stream",
     "text": [
      "[ 3  1  2  4  5  6  0  7 11  8 14 10 15  9 19 16 12]\n"
     ]
    }
   ],
   "source": [
    "print(data['rooms'].unique())"
   ]
  },
  {
   "cell_type": "markdown",
   "metadata": {},
   "source": [
    "Квартиры в которых есть 4 или 5 комнат еще можно представить, но когда комнат 8 или тем более 16, это вызывает подозрение, похоже на аномальные значения. Посмотрим сколько вообще квартир в которых больше 5 комнат."
   ]
  },
  {
   "cell_type": "code",
   "execution_count": 23,
   "metadata": {
    "scrolled": true
   },
   "outputs": [
    {
     "name": "stdout",
     "output_type": "stream",
     "text": [
      "11\n"
     ]
    }
   ],
   "source": [
    "print(data[data['rooms'] > 9].shape[0])"
   ]
  },
  {
   "cell_type": "markdown",
   "metadata": {},
   "source": [
    "Всего лишь 11 квартир из почти 23000. Проще будет отбросить эти значения:"
   ]
  },
  {
   "cell_type": "code",
   "execution_count": 24,
   "metadata": {},
   "outputs": [],
   "source": [
    "data = data.loc[(data['rooms'] <= 5), :]"
   ]
  },
  {
   "cell_type": "markdown",
   "metadata": {},
   "source": [
    "Также присутствуют строки с 0 комнат. Скорее всего это небольшие квартиры-студии. Можно отнести их к однокомнатным и присвоить значение 1 в столбце `rooms`:"
   ]
  },
  {
   "cell_type": "code",
   "execution_count": 25,
   "metadata": {},
   "outputs": [],
   "source": [
    "data.loc[(data['rooms'] == 0),'rooms'] = 1"
   ]
  },
  {
   "cell_type": "markdown",
   "metadata": {},
   "source": [
    "**Вывод:** Таблица приведена в состояние, пригодное для дальнейшего анализа. Были найдены и по возможности удалены пропуски, исправлены типы данных на нужные, обработаны дубликаты и аномальные значения."
   ]
  },
  {
   "cell_type": "markdown",
   "metadata": {},
   "source": [
    "## Посчитайте и добавьте в таблицу новые столбцы"
   ]
  },
  {
   "cell_type": "code",
   "execution_count": 26,
   "metadata": {},
   "outputs": [],
   "source": [
    "#добавим столбец weekday - день недели публикации объявления:\n",
    "data['weekday'] = data['first_day_exposition'].dt.weekday\n",
    "\n",
    "#цена одного квадратного метра - metre_price : \n",
    "data['metre_price'] = data['last_price']/data['total_area']\n",
    "\n",
    "#месяц публикации month - месяца обозначаются номерами от 1 до 12 - от января до декабря\n",
    "data['month'] = pd.DatetimeIndex(data['first_day_exposition']).month\n",
    "\n",
    "#год публикации объявления year:\n",
    "data['year'] = pd.DatetimeIndex(data['first_day_exposition']).year\n",
    "\n",
    "#тип этажа квартиры type_floor. создаем функцию которая в зависимости от этажа выдает его тип:\n",
    "def type_floor(row):\n",
    "    if row['floor'] == 1:\n",
    "        return 'первый'\n",
    "    if row['floor'] == row['floors_total']:\n",
    "        return 'последний'\n",
    "    return 'другой'\n",
    "data['floor_type'] = data.apply(type_floor, axis=1)\n",
    "\n",
    "#расстояние до центра города в км:\n",
    "data['city_centre_km'] = (data['cityCenters_nearest']/1000).round()"
   ]
  },
  {
   "cell_type": "markdown",
   "metadata": {},
   "source": [
    "Чтобы убедиться что все новые столбцы введены корректно выведем первые 10 строк таблицы:"
   ]
  },
  {
   "cell_type": "code",
   "execution_count": 27,
   "metadata": {
    "scrolled": false
   },
   "outputs": [
    {
     "data": {
      "text/html": [
       "<div>\n",
       "<style scoped>\n",
       "    .dataframe tbody tr th:only-of-type {\n",
       "        vertical-align: middle;\n",
       "    }\n",
       "\n",
       "    .dataframe tbody tr th {\n",
       "        vertical-align: top;\n",
       "    }\n",
       "\n",
       "    .dataframe thead th {\n",
       "        text-align: right;\n",
       "    }\n",
       "</style>\n",
       "<table border=\"1\" class=\"dataframe\">\n",
       "  <thead>\n",
       "    <tr style=\"text-align: right;\">\n",
       "      <th></th>\n",
       "      <th>total_images</th>\n",
       "      <th>last_price</th>\n",
       "      <th>total_area</th>\n",
       "      <th>first_day_exposition</th>\n",
       "      <th>rooms</th>\n",
       "      <th>ceiling_height</th>\n",
       "      <th>floors_total</th>\n",
       "      <th>living_area</th>\n",
       "      <th>floor</th>\n",
       "      <th>is_apartment</th>\n",
       "      <th>...</th>\n",
       "      <th>parks_nearest</th>\n",
       "      <th>ponds_around3000</th>\n",
       "      <th>ponds_nearest</th>\n",
       "      <th>days_exposition</th>\n",
       "      <th>weekday</th>\n",
       "      <th>metre_price</th>\n",
       "      <th>month</th>\n",
       "      <th>year</th>\n",
       "      <th>floor_type</th>\n",
       "      <th>city_centre_km</th>\n",
       "    </tr>\n",
       "  </thead>\n",
       "  <tbody>\n",
       "    <tr>\n",
       "      <th>0</th>\n",
       "      <td>20</td>\n",
       "      <td>13000000.0</td>\n",
       "      <td>108.00</td>\n",
       "      <td>2019-03-07</td>\n",
       "      <td>3</td>\n",
       "      <td>2.70</td>\n",
       "      <td>16.0</td>\n",
       "      <td>51.00</td>\n",
       "      <td>8</td>\n",
       "      <td>False</td>\n",
       "      <td>...</td>\n",
       "      <td>482.0</td>\n",
       "      <td>2</td>\n",
       "      <td>755.0</td>\n",
       "      <td>NaN</td>\n",
       "      <td>3</td>\n",
       "      <td>120370.370370</td>\n",
       "      <td>3</td>\n",
       "      <td>2019</td>\n",
       "      <td>другой</td>\n",
       "      <td>16.0</td>\n",
       "    </tr>\n",
       "    <tr>\n",
       "      <th>1</th>\n",
       "      <td>7</td>\n",
       "      <td>3350000.0</td>\n",
       "      <td>40.40</td>\n",
       "      <td>2018-12-04</td>\n",
       "      <td>1</td>\n",
       "      <td>NaN</td>\n",
       "      <td>11.0</td>\n",
       "      <td>18.60</td>\n",
       "      <td>1</td>\n",
       "      <td>False</td>\n",
       "      <td>...</td>\n",
       "      <td>NaN</td>\n",
       "      <td>0</td>\n",
       "      <td>NaN</td>\n",
       "      <td>81.0</td>\n",
       "      <td>1</td>\n",
       "      <td>82920.792079</td>\n",
       "      <td>12</td>\n",
       "      <td>2018</td>\n",
       "      <td>первый</td>\n",
       "      <td>19.0</td>\n",
       "    </tr>\n",
       "    <tr>\n",
       "      <th>2</th>\n",
       "      <td>10</td>\n",
       "      <td>5196000.0</td>\n",
       "      <td>56.00</td>\n",
       "      <td>2015-08-20</td>\n",
       "      <td>2</td>\n",
       "      <td>NaN</td>\n",
       "      <td>5.0</td>\n",
       "      <td>34.30</td>\n",
       "      <td>4</td>\n",
       "      <td>False</td>\n",
       "      <td>...</td>\n",
       "      <td>90.0</td>\n",
       "      <td>2</td>\n",
       "      <td>574.0</td>\n",
       "      <td>558.0</td>\n",
       "      <td>3</td>\n",
       "      <td>92785.714286</td>\n",
       "      <td>8</td>\n",
       "      <td>2015</td>\n",
       "      <td>другой</td>\n",
       "      <td>14.0</td>\n",
       "    </tr>\n",
       "    <tr>\n",
       "      <th>3</th>\n",
       "      <td>0</td>\n",
       "      <td>64900000.0</td>\n",
       "      <td>159.00</td>\n",
       "      <td>2015-07-24</td>\n",
       "      <td>3</td>\n",
       "      <td>NaN</td>\n",
       "      <td>14.0</td>\n",
       "      <td>NaN</td>\n",
       "      <td>9</td>\n",
       "      <td>False</td>\n",
       "      <td>...</td>\n",
       "      <td>84.0</td>\n",
       "      <td>3</td>\n",
       "      <td>234.0</td>\n",
       "      <td>424.0</td>\n",
       "      <td>4</td>\n",
       "      <td>408176.100629</td>\n",
       "      <td>7</td>\n",
       "      <td>2015</td>\n",
       "      <td>другой</td>\n",
       "      <td>7.0</td>\n",
       "    </tr>\n",
       "    <tr>\n",
       "      <th>4</th>\n",
       "      <td>2</td>\n",
       "      <td>10000000.0</td>\n",
       "      <td>100.00</td>\n",
       "      <td>2018-06-19</td>\n",
       "      <td>2</td>\n",
       "      <td>3.03</td>\n",
       "      <td>14.0</td>\n",
       "      <td>32.00</td>\n",
       "      <td>13</td>\n",
       "      <td>False</td>\n",
       "      <td>...</td>\n",
       "      <td>112.0</td>\n",
       "      <td>1</td>\n",
       "      <td>48.0</td>\n",
       "      <td>121.0</td>\n",
       "      <td>1</td>\n",
       "      <td>100000.000000</td>\n",
       "      <td>6</td>\n",
       "      <td>2018</td>\n",
       "      <td>другой</td>\n",
       "      <td>8.0</td>\n",
       "    </tr>\n",
       "    <tr>\n",
       "      <th>5</th>\n",
       "      <td>10</td>\n",
       "      <td>2890000.0</td>\n",
       "      <td>30.40</td>\n",
       "      <td>2018-09-10</td>\n",
       "      <td>1</td>\n",
       "      <td>NaN</td>\n",
       "      <td>12.0</td>\n",
       "      <td>14.40</td>\n",
       "      <td>5</td>\n",
       "      <td>False</td>\n",
       "      <td>...</td>\n",
       "      <td>NaN</td>\n",
       "      <td>0</td>\n",
       "      <td>NaN</td>\n",
       "      <td>55.0</td>\n",
       "      <td>0</td>\n",
       "      <td>95065.789474</td>\n",
       "      <td>9</td>\n",
       "      <td>2018</td>\n",
       "      <td>другой</td>\n",
       "      <td>NaN</td>\n",
       "    </tr>\n",
       "    <tr>\n",
       "      <th>6</th>\n",
       "      <td>6</td>\n",
       "      <td>3700000.0</td>\n",
       "      <td>37.30</td>\n",
       "      <td>2017-11-02</td>\n",
       "      <td>1</td>\n",
       "      <td>NaN</td>\n",
       "      <td>26.0</td>\n",
       "      <td>10.60</td>\n",
       "      <td>6</td>\n",
       "      <td>False</td>\n",
       "      <td>...</td>\n",
       "      <td>NaN</td>\n",
       "      <td>0</td>\n",
       "      <td>NaN</td>\n",
       "      <td>155.0</td>\n",
       "      <td>3</td>\n",
       "      <td>99195.710456</td>\n",
       "      <td>11</td>\n",
       "      <td>2017</td>\n",
       "      <td>другой</td>\n",
       "      <td>19.0</td>\n",
       "    </tr>\n",
       "    <tr>\n",
       "      <th>7</th>\n",
       "      <td>5</td>\n",
       "      <td>7915000.0</td>\n",
       "      <td>71.60</td>\n",
       "      <td>2019-04-18</td>\n",
       "      <td>2</td>\n",
       "      <td>NaN</td>\n",
       "      <td>24.0</td>\n",
       "      <td>NaN</td>\n",
       "      <td>22</td>\n",
       "      <td>False</td>\n",
       "      <td>...</td>\n",
       "      <td>NaN</td>\n",
       "      <td>0</td>\n",
       "      <td>NaN</td>\n",
       "      <td>NaN</td>\n",
       "      <td>3</td>\n",
       "      <td>110544.692737</td>\n",
       "      <td>4</td>\n",
       "      <td>2019</td>\n",
       "      <td>другой</td>\n",
       "      <td>12.0</td>\n",
       "    </tr>\n",
       "    <tr>\n",
       "      <th>8</th>\n",
       "      <td>20</td>\n",
       "      <td>2900000.0</td>\n",
       "      <td>33.16</td>\n",
       "      <td>2018-05-23</td>\n",
       "      <td>1</td>\n",
       "      <td>NaN</td>\n",
       "      <td>27.0</td>\n",
       "      <td>15.43</td>\n",
       "      <td>26</td>\n",
       "      <td>False</td>\n",
       "      <td>...</td>\n",
       "      <td>NaN</td>\n",
       "      <td>0</td>\n",
       "      <td>NaN</td>\n",
       "      <td>189.0</td>\n",
       "      <td>2</td>\n",
       "      <td>87454.764777</td>\n",
       "      <td>5</td>\n",
       "      <td>2018</td>\n",
       "      <td>другой</td>\n",
       "      <td>NaN</td>\n",
       "    </tr>\n",
       "    <tr>\n",
       "      <th>9</th>\n",
       "      <td>18</td>\n",
       "      <td>5400000.0</td>\n",
       "      <td>61.00</td>\n",
       "      <td>2017-02-26</td>\n",
       "      <td>3</td>\n",
       "      <td>2.50</td>\n",
       "      <td>9.0</td>\n",
       "      <td>43.60</td>\n",
       "      <td>7</td>\n",
       "      <td>False</td>\n",
       "      <td>...</td>\n",
       "      <td>NaN</td>\n",
       "      <td>0</td>\n",
       "      <td>NaN</td>\n",
       "      <td>289.0</td>\n",
       "      <td>6</td>\n",
       "      <td>88524.590164</td>\n",
       "      <td>2</td>\n",
       "      <td>2017</td>\n",
       "      <td>другой</td>\n",
       "      <td>15.0</td>\n",
       "    </tr>\n",
       "  </tbody>\n",
       "</table>\n",
       "<p>10 rows × 28 columns</p>\n",
       "</div>"
      ],
      "text/plain": [
       "   total_images  last_price  total_area first_day_exposition  rooms  \\\n",
       "0            20  13000000.0      108.00           2019-03-07      3   \n",
       "1             7   3350000.0       40.40           2018-12-04      1   \n",
       "2            10   5196000.0       56.00           2015-08-20      2   \n",
       "3             0  64900000.0      159.00           2015-07-24      3   \n",
       "4             2  10000000.0      100.00           2018-06-19      2   \n",
       "5            10   2890000.0       30.40           2018-09-10      1   \n",
       "6             6   3700000.0       37.30           2017-11-02      1   \n",
       "7             5   7915000.0       71.60           2019-04-18      2   \n",
       "8            20   2900000.0       33.16           2018-05-23      1   \n",
       "9            18   5400000.0       61.00           2017-02-26      3   \n",
       "\n",
       "   ceiling_height  floors_total  living_area  floor  is_apartment  ...  \\\n",
       "0            2.70          16.0        51.00      8         False  ...   \n",
       "1             NaN          11.0        18.60      1         False  ...   \n",
       "2             NaN           5.0        34.30      4         False  ...   \n",
       "3             NaN          14.0          NaN      9         False  ...   \n",
       "4            3.03          14.0        32.00     13         False  ...   \n",
       "5             NaN          12.0        14.40      5         False  ...   \n",
       "6             NaN          26.0        10.60      6         False  ...   \n",
       "7             NaN          24.0          NaN     22         False  ...   \n",
       "8             NaN          27.0        15.43     26         False  ...   \n",
       "9            2.50           9.0        43.60      7         False  ...   \n",
       "\n",
       "   parks_nearest  ponds_around3000  ponds_nearest  days_exposition weekday  \\\n",
       "0          482.0                 2          755.0              NaN       3   \n",
       "1            NaN                 0            NaN             81.0       1   \n",
       "2           90.0                 2          574.0            558.0       3   \n",
       "3           84.0                 3          234.0            424.0       4   \n",
       "4          112.0                 1           48.0            121.0       1   \n",
       "5            NaN                 0            NaN             55.0       0   \n",
       "6            NaN                 0            NaN            155.0       3   \n",
       "7            NaN                 0            NaN              NaN       3   \n",
       "8            NaN                 0            NaN            189.0       2   \n",
       "9            NaN                 0            NaN            289.0       6   \n",
       "\n",
       "     metre_price  month  year  floor_type  city_centre_km  \n",
       "0  120370.370370      3  2019      другой            16.0  \n",
       "1   82920.792079     12  2018      первый            19.0  \n",
       "2   92785.714286      8  2015      другой            14.0  \n",
       "3  408176.100629      7  2015      другой             7.0  \n",
       "4  100000.000000      6  2018      другой             8.0  \n",
       "5   95065.789474      9  2018      другой             NaN  \n",
       "6   99195.710456     11  2017      другой            19.0  \n",
       "7  110544.692737      4  2019      другой            12.0  \n",
       "8   87454.764777      5  2018      другой             NaN  \n",
       "9   88524.590164      2  2017      другой            15.0  \n",
       "\n",
       "[10 rows x 28 columns]"
      ]
     },
     "execution_count": 27,
     "metadata": {},
     "output_type": "execute_result"
    }
   ],
   "source": [
    "data.head(10)"
   ]
  },
  {
   "cell_type": "markdown",
   "metadata": {},
   "source": [
    "**Вывод:** Были добавлены новые столбцы для дальнейшего анализа данных:\n",
    "- weekday - день недели публикации объявления\n",
    "- metre_price - цена одного квадратного метра\n",
    "- month - месяц публикации \n",
    "- year - год публикации объявления\n",
    "- type_floor - тип этажа квартиры\n",
    "- city_centre_km - расстояние до центра города в км"
   ]
  },
  {
   "cell_type": "markdown",
   "metadata": {},
   "source": [
    "## Проведите исследовательский анализ данных"
   ]
  },
  {
   "cell_type": "markdown",
   "metadata": {},
   "source": [
    "### Распределение данных"
   ]
  },
  {
   "cell_type": "markdown",
   "metadata": {},
   "source": [
    "Рассмотрим распределение общей площади по размеру:"
   ]
  },
  {
   "cell_type": "code",
   "execution_count": 28,
   "metadata": {},
   "outputs": [
    {
     "data": {
      "text/plain": [
       "<AxesSubplot:>"
      ]
     },
     "execution_count": 28,
     "metadata": {},
     "output_type": "execute_result"
    },
    {
     "data": {
      "image/png": "[encoded data removed]",
      "text/plain": [
       "<Figure size 432x288 with 1 Axes>"
      ]
     },
     "metadata": {
      "needs_background": "light"
     },
     "output_type": "display_data"
    }
   ],
   "source": [
    "data['total_area'].hist()"
   ]
  },
  {
   "cell_type": "markdown",
   "metadata": {},
   "source": [
    "Сделаем график более детальным и рассмотрим его на промежутке от 0 до 250 - чтобы понять как распределяются основные значения (так как квартир с площадью более 250 очень мало и на графике их почти не видно)"
   ]
  },
  {
   "cell_type": "code",
   "execution_count": 29,
   "metadata": {
    "scrolled": true
   },
   "outputs": [
    {
     "data": {
      "text/plain": [
       "<AxesSubplot:>"
      ]
     },
     "execution_count": 29,
     "metadata": {},
     "output_type": "execute_result"
    },
    {
     "data": {
      "image/png": "[encoded data removed]",
      "text/plain": [
       "<Figure size 432x288 with 1 Axes>"
      ]
     },
     "metadata": {
      "needs_background": "light"
     },
     "output_type": "display_data"
    }
   ],
   "source": [
    "data['total_area'].hist(bins = 20, range = (0,250))"
   ]
  },
  {
   "cell_type": "markdown",
   "metadata": {},
   "source": [
    "Теперь видно что распределение напоминает нормальное распределение Гаусса - то есть квартир с небольшой площадью почти нет, больше всего квартир со средней площадью (от 40 до 70 кв.м.) и дальше чем больше площадь тем меньше таких квартир. Значит с данными все в порядке, нет никакой критической ошибки или аномальных значений.\n",
    "\n",
    "Посмотрим теперь на распределение по жилой площади:"
   ]
  },
  {
   "cell_type": "code",
   "execution_count": 30,
   "metadata": {},
   "outputs": [
    {
     "data": {
      "text/plain": [
       "<AxesSubplot:>"
      ]
     },
     "execution_count": 30,
     "metadata": {},
     "output_type": "execute_result"
    },
    {
     "data": {
      "image/png": "[encoded data removed]",
      "text/plain": [
       "<Figure size 432x288 with 1 Axes>"
      ]
     },
     "metadata": {
      "needs_background": "light"
     },
     "output_type": "display_data"
    }
   ],
   "source": [
    "data['living_area'].hist()"
   ]
  },
  {
   "cell_type": "code",
   "execution_count": 31,
   "metadata": {
    "scrolled": true
   },
   "outputs": [
    {
     "data": {
      "text/plain": [
       "<AxesSubplot:>"
      ]
     },
     "execution_count": 31,
     "metadata": {},
     "output_type": "execute_result"
    },
    {
     "data": {
      "image/png": "[encoded data removed]",
      "text/plain": [
       "<Figure size 432x288 with 1 Axes>"
      ]
     },
     "metadata": {
      "needs_background": "light"
     },
     "output_type": "display_data"
    }
   ],
   "source": [
    "#чуть более детально:\n",
    "data['living_area'].hist(bins = 20, range = (0,150))"
   ]
  },
  {
   "cell_type": "markdown",
   "metadata": {},
   "source": [
    "В этот раз есть небольшое отличие от классического распределения Гаусса. Тут заметен \"провал\" в интервале от 20 до примерно 30 кв.м. Однако во всем остальном график похож на нормальное распределение.\n",
    "\n",
    "Посмотрим на площадь кухни:"
   ]
  },
  {
   "cell_type": "code",
   "execution_count": 32,
   "metadata": {},
   "outputs": [
    {
     "data": {
      "text/plain": [
       "<AxesSubplot:>"
      ]
     },
     "execution_count": 32,
     "metadata": {},
     "output_type": "execute_result"
    },
    {
     "data": {
      "image/png": "[encoded data removed]",
      "text/plain": [
       "<Figure size 432x288 with 1 Axes>"
      ]
     },
     "metadata": {
      "needs_background": "light"
     },
     "output_type": "display_data"
    }
   ],
   "source": [
    "data['kitchen_area'].hist()"
   ]
  },
  {
   "cell_type": "code",
   "execution_count": 33,
   "metadata": {},
   "outputs": [
    {
     "data": {
      "text/plain": [
       "<AxesSubplot:>"
      ]
     },
     "execution_count": 33,
     "metadata": {},
     "output_type": "execute_result"
    },
    {
     "data": {
      "image/png": "[encoded data removed]",
      "text/plain": [
       "<Figure size 432x288 with 1 Axes>"
      ]
     },
     "metadata": {
      "needs_background": "light"
     },
     "output_type": "display_data"
    }
   ],
   "source": [
    "#увеличим масштаб:\n",
    "\n",
    "data['kitchen_area'].hist(bins = 20, range = (0,50))"
   ]
  },
  {
   "cell_type": "markdown",
   "metadata": {},
   "source": [
    "Распределение все то же, данные в порядке.\n",
    "\n",
    "Теперь цена объекта. Тут сразу стоит отметить, что разброс значений стоит брать от 100 000 до 20 млн рублей, так как \n",
    "это основной разброс цен на квартиры:"
   ]
  },
  {
   "cell_type": "code",
   "execution_count": 34,
   "metadata": {},
   "outputs": [
    {
     "data": {
      "text/plain": [
       "<AxesSubplot:>"
      ]
     },
     "execution_count": 34,
     "metadata": {},
     "output_type": "execute_result"
    },
    {
     "data": {
      "image/png": "[encoded data removed]",
      "text/plain": [
       "<Figure size 432x288 with 1 Axes>"
      ]
     },
     "metadata": {
      "needs_background": "light"
     },
     "output_type": "display_data"
    }
   ],
   "source": [
    "data['last_price'].hist(bins = 20, range = (100000, 20000000))"
   ]
  },
  {
   "cell_type": "markdown",
   "metadata": {},
   "source": [
    "Данные в порядке, можем идти дальше\n",
    "\n",
    "Теперь количество комнат:"
   ]
  },
  {
   "cell_type": "code",
   "execution_count": 35,
   "metadata": {
    "scrolled": true
   },
   "outputs": [
    {
     "data": {
      "text/plain": [
       "<AxesSubplot:>"
      ]
     },
     "execution_count": 35,
     "metadata": {},
     "output_type": "execute_result"
    },
    {
     "data": {
      "image/png": "[encoded data removed]",
      "text/plain": [
       "<Figure size 432x288 with 1 Axes>"
      ]
     },
     "metadata": {
      "needs_background": "light"
     },
     "output_type": "display_data"
    }
   ],
   "source": [
    "data['rooms'].hist()"
   ]
  },
  {
   "cell_type": "markdown",
   "metadata": {},
   "source": [
    "Для данного параметра сложно строить гистограмму так как мы решили что большая часть квартир имеет от 1 до 5 комнат. Поэтому анализировать полученную гистограмму, можно лишь сказать что большая часть квартир имеет 1 или 2 комнаты, 3х-комнатных квартир поменьше, а больших квартир с 4 и 5 комнатами совсем мало.\n",
    "\n",
    "Перейдем к рассмотрению высоты потолков:"
   ]
  },
  {
   "cell_type": "code",
   "execution_count": 36,
   "metadata": {
    "scrolled": true
   },
   "outputs": [
    {
     "data": {
      "text/plain": [
       "<AxesSubplot:>"
      ]
     },
     "execution_count": 36,
     "metadata": {},
     "output_type": "execute_result"
    },
    {
     "data": {
      "image/png": "[encoded data removed]",
      "text/plain": [
       "<Figure size 432x288 with 1 Axes>"
      ]
     },
     "metadata": {
      "needs_background": "light"
     },
     "output_type": "display_data"
    }
   ],
   "source": [
    "data['ceiling_height'].hist(bins = 15, range = (2,4))"
   ]
  },
  {
   "cell_type": "markdown",
   "metadata": {},
   "source": [
    "Получили распределение Пуассона\n",
    "\n",
    "Построим гистограмму для этажей:"
   ]
  },
  {
   "cell_type": "code",
   "execution_count": 37,
   "metadata": {},
   "outputs": [
    {
     "data": {
      "text/plain": [
       "<AxesSubplot:>"
      ]
     },
     "execution_count": 37,
     "metadata": {},
     "output_type": "execute_result"
    },
    {
     "data": {
      "image/png": "[encoded data removed]",
      "text/plain": [
       "<Figure size 432x288 with 1 Axes>"
      ]
     },
     "metadata": {
      "needs_background": "light"
     },
     "output_type": "display_data"
    }
   ],
   "source": [
    "data['floor'].hist(bins = 30)"
   ]
  },
  {
   "cell_type": "markdown",
   "metadata": {},
   "source": [
    "\n",
    "\n",
    "На очереди тип этажа:"
   ]
  },
  {
   "cell_type": "code",
   "execution_count": 38,
   "metadata": {},
   "outputs": [
    {
     "data": {
      "text/plain": [
       "<AxesSubplot:>"
      ]
     },
     "execution_count": 38,
     "metadata": {},
     "output_type": "execute_result"
    },
    {
     "data": {
      "image/png": "[encoded data removed]",
      "text/plain": [
       "<Figure size 432x288 with 1 Axes>"
      ]
     },
     "metadata": {
      "needs_background": "light"
     },
     "output_type": "display_data"
    }
   ],
   "source": [
    "data['floor_type'].hist(bins = 20)"
   ]
  },
  {
   "cell_type": "markdown",
   "metadata": {},
   "source": [
    "Можно заметить что квартир на первом этаже немного, на последнем чуть больше, но большая часть сосредоточена в категории \"другой\" так как этажи данного типа могут принимать намного больше значений чем первый или последний.\n",
    "\n",
    "Рассмотрим общее количество этажей в доме:"
   ]
  },
  {
   "cell_type": "code",
   "execution_count": 39,
   "metadata": {},
   "outputs": [
    {
     "data": {
      "text/plain": [
       "<AxesSubplot:>"
      ]
     },
     "execution_count": 39,
     "metadata": {},
     "output_type": "execute_result"
    },
    {
     "data": {
      "image/png": "[encoded data removed]",
      "text/plain": [
       "<Figure size 432x288 with 1 Axes>"
      ]
     },
     "metadata": {
      "needs_background": "light"
     },
     "output_type": "display_data"
    }
   ],
   "source": [
    "data['floors_total'].hist(bins = 20)"
   ]
  },
  {
   "cell_type": "markdown",
   "metadata": {},
   "source": [
    "Такое распределение может быть связано с тем что большая часть домов разбивается на подвиды - хрущевки с 4-5 этажами, обычные дома которые имеют от 8-9 до 12-16 этажей. Остальные дома скорее всего частные и составляют небольшую долю от общего числа.\n",
    "\n",
    "С этажами разобрались, перейдем к расстоянию до центра города:"
   ]
  },
  {
   "cell_type": "code",
   "execution_count": 40,
   "metadata": {
    "scrolled": false
   },
   "outputs": [
    {
     "data": {
      "text/plain": [
       "<AxesSubplot:>"
      ]
     },
     "execution_count": 40,
     "metadata": {},
     "output_type": "execute_result"
    },
    {
     "data": {
      "image/png": "[encoded data removed]",
      "text/plain": [
       "<Figure size 432x288 with 1 Axes>"
      ]
     },
     "metadata": {
      "needs_background": "light"
     },
     "output_type": "display_data"
    }
   ],
   "source": [
    "data['cityCenters_nearest'].hist(bins = 20)"
   ]
  },
  {
   "cell_type": "markdown",
   "metadata": {},
   "source": [
    "Все вполне объяснимо - немного домов в центре города, далее в промежутке от 10км до 18км наибольшее число домов (жилые кварталы) и чем дальше от центра тем меньше квартир (чем дальше тем меньше плотность населенности и соответственно квартир)\n",
    "\n",
    "Дальше расстояние до ближайшего аэропорта:"
   ]
  },
  {
   "cell_type": "code",
   "execution_count": 41,
   "metadata": {
    "scrolled": true
   },
   "outputs": [
    {
     "data": {
      "text/plain": [
       "<AxesSubplot:>"
      ]
     },
     "execution_count": 41,
     "metadata": {},
     "output_type": "execute_result"
    },
    {
     "data": {
      "image/png": "[encoded data removed]",
      "text/plain": [
       "<Figure size 432x288 with 1 Axes>"
      ]
     },
     "metadata": {
      "needs_background": "light"
     },
     "output_type": "display_data"
    }
   ],
   "source": [
    "data['airports_nearest'].hist(bins = 20)"
   ]
  },
  {
   "cell_type": "markdown",
   "metadata": {},
   "source": [
    "График напоминает нормальное распределение - нет домов на аэропорте, \n",
    "дальше количество увеличивается вплоть до промежутка от 18км до 37км, где находится наибольшая часть домов, и чем дальше тем меньше\n",
    "\n",
    "Время посмотреть на расстояние до ближайшего парка:"
   ]
  },
  {
   "cell_type": "code",
   "execution_count": 42,
   "metadata": {},
   "outputs": [
    {
     "data": {
      "text/plain": [
       "<AxesSubplot:>"
      ]
     },
     "execution_count": 42,
     "metadata": {},
     "output_type": "execute_result"
    },
    {
     "data": {
      "image/png": "[encoded data removed]",
      "text/plain": [
       "<Figure size 432x288 with 1 Axes>"
      ]
     },
     "metadata": {
      "needs_background": "light"
     },
     "output_type": "display_data"
    }
   ],
   "source": [
    "data['parks_nearest'].hist(bins = 20)"
   ]
  },
  {
   "cell_type": "code",
   "execution_count": 43,
   "metadata": {},
   "outputs": [
    {
     "data": {
      "text/plain": [
       "<AxesSubplot:>"
      ]
     },
     "execution_count": 43,
     "metadata": {},
     "output_type": "execute_result"
    },
    {
     "data": {
      "image/png": "[encoded data removed]",
      "text/plain": [
       "<Figure size 432x288 with 1 Axes>"
      ]
     },
     "metadata": {
      "needs_background": "light"
     },
     "output_type": "display_data"
    }
   ],
   "source": [
    "#рассмотрим в промежутке от 0 до 1500:\n",
    "data['parks_nearest'].hist(bins = 20, range = (0,1500))"
   ]
  },
  {
   "cell_type": "markdown",
   "metadata": {},
   "source": [
    "Получили нормальное распределение\n",
    "\n",
    "Посмотрим как появлялись объявления по дням: (так как не указано по дням недели или дням месяцев, было принято решение указать\n",
    "распределение по дням недели)"
   ]
  },
  {
   "cell_type": "code",
   "execution_count": 44,
   "metadata": {},
   "outputs": [
    {
     "data": {
      "text/plain": [
       "<AxesSubplot:>"
      ]
     },
     "execution_count": 44,
     "metadata": {},
     "output_type": "execute_result"
    },
    {
     "data": {
      "image/png": "[encoded data removed]",
      "text/plain": [
       "<Figure size 432x288 with 1 Axes>"
      ]
     },
     "metadata": {
      "needs_background": "light"
     },
     "output_type": "display_data"
    }
   ],
   "source": [
    "data['weekday'].hist()"
   ]
  },
  {
   "cell_type": "markdown",
   "metadata": {},
   "source": [
    "Это говорит о том, что люди склонны выкладывать объявления в будни, тогда как в выходные активность сильно ниже\n",
    "\n",
    "Посмотрим теперь на месяцы:"
   ]
  },
  {
   "cell_type": "code",
   "execution_count": 45,
   "metadata": {
    "scrolled": true
   },
   "outputs": [
    {
     "data": {
      "text/plain": [
       "<AxesSubplot:>"
      ]
     },
     "execution_count": 45,
     "metadata": {},
     "output_type": "execute_result"
    },
    {
     "data": {
      "image/png": "[encoded data removed]",
      "text/plain": [
       "<Figure size 432x288 with 1 Axes>"
      ]
     },
     "metadata": {
      "needs_background": "light"
     },
     "output_type": "display_data"
    }
   ],
   "source": [
    "data['month'].hist(bins = 12)"
   ]
  },
  {
   "cell_type": "markdown",
   "metadata": {},
   "source": [
    "Можно заметить, что в новогодние праздники (декабрь-январь) и начало лета (май-июнь) люди не так активно выкладывают объявления\n",
    "Зато осенью и весной активность сильно возрастает."
   ]
  },
  {
   "cell_type": "markdown",
   "metadata": {},
   "source": [
    "### Длительность продаж\n",
    "\n",
    "Рассмотрим, как быстро обычно продаются квартиры с помощью столбца `days_exposition`. Для этого рассчитаем медиану `median_days`, а также среднее значение `avg_days` в методе `describe()` и построим диаграмму размаха методом `boxplot`:"
   ]
  },
  {
   "cell_type": "code",
   "execution_count": 46,
   "metadata": {},
   "outputs": [
    {
     "name": "stdout",
     "output_type": "stream",
     "text": [
      "count    20308.000000\n",
      "mean       180.141619\n",
      "std        219.300437\n",
      "min          1.000000\n",
      "25%         45.000000\n",
      "50%         95.000000\n",
      "75%        230.000000\n",
      "max       1580.000000\n",
      "Name: days_exposition, dtype: float64\n"
     ]
    },
    {
     "data": {
      "image/png": "[encoded data removed]",
      "text/plain": [
       "<Figure size 432x288 with 1 Axes>"
      ]
     },
     "metadata": {
      "needs_background": "light"
     },
     "output_type": "display_data"
    }
   ],
   "source": [
    "sb.boxplot(data=data['days_exposition'])\n",
    "print(data['days_exposition'].describe())\n"
   ]
  },
  {
   "cell_type": "markdown",
   "metadata": {},
   "source": [
    "Половина квартир продается за ~3 месяца(95 дней) а в среднем продажа занимает около 6 месяцев (180 дней). Для того чтобы понять, где примерно заканчивается верхний \"ус\" построим диаграмму в промежутке от 0 до 700:"
   ]
  },
  {
   "cell_type": "code",
   "execution_count": 47,
   "metadata": {},
   "outputs": [
    {
     "data": {
      "text/plain": [
       "[(0.0, 700.0)]"
      ]
     },
     "execution_count": 47,
     "metadata": {},
     "output_type": "execute_result"
    },
    {
     "data": {
      "image/png": "[encoded data removed]",
      "text/plain": [
       "<Figure size 432x288 with 1 Axes>"
      ]
     },
     "metadata": {
      "needs_background": "light"
     },
     "output_type": "display_data"
    }
   ],
   "source": [
    "sb.boxplot(data=data['days_exposition']).set(ylim=(0,700))"
   ]
  },
  {
   "cell_type": "markdown",
   "metadata": {},
   "source": [
    "Получили что верхняя граница \"усов\" примерно равна 520 дням, а значит все квартиры которые продаются дольше 520 дней - аномальные значения. Посмотрим какую часть от общей таблицы составляют такие аномалии:"
   ]
  },
  {
   "cell_type": "code",
   "execution_count": 48,
   "metadata": {},
   "outputs": [
    {
     "name": "stdout",
     "output_type": "stream",
     "text": [
      "0.06809546172565427\n"
     ]
    }
   ],
   "source": [
    "print(data.query('days_exposition > 520').shape[0]/data.shape[0])"
   ]
  },
  {
   "cell_type": "markdown",
   "metadata": {},
   "source": [
    "Такие квартиры составляют всего 6% от всех продаж."
   ]
  },
  {
   "cell_type": "markdown",
   "metadata": {},
   "source": [
    "### Исследование факторов, влияющих на полную стоимость квартиры"
   ]
  },
  {
   "cell_type": "markdown",
   "metadata": {},
   "source": [
    "Рассмотрим зависимость стоимости квартиры от общей площади. Для этого построим график и найдем коэф-т корреляции Пирсона:"
   ]
  },
  {
   "cell_type": "code",
   "execution_count": 49,
   "metadata": {
    "scrolled": true
   },
   "outputs": [
    {
     "name": "stdout",
     "output_type": "stream",
     "text": [
      "Коэффициент корреляции: 0.6791981221987393\n"
     ]
    },
    {
     "data": {
      "image/png": "[encoded data removed]",
      "text/plain": [
       "<Figure size 432x288 with 1 Axes>"
      ]
     },
     "metadata": {
      "needs_background": "light"
     },
     "output_type": "display_data"
    }
   ],
   "source": [
    "data.plot(x = 'total_area', y='last_price', style='o', title ='Цена в зависимости от площади квартиры')\n",
    "print('Коэффициент корреляции:', data['total_area'].corr(data['last_price']))"
   ]
  },
  {
   "cell_type": "markdown",
   "metadata": {},
   "source": [
    "Можно заметить, что в большинстве своем цена увеличивается при увеличении площади квартиры. Также значение коэф-та Пирсона ~0.67 говорит о том что корреляция положительная\n",
    "\n",
    "Теперь рассмотрим зависимость от жилой площади:"
   ]
  },
  {
   "cell_type": "code",
   "execution_count": 50,
   "metadata": {},
   "outputs": [
    {
     "name": "stdout",
     "output_type": "stream",
     "text": [
      "Коэффициент корреляции: 0.5799406720482655\n"
     ]
    },
    {
     "data": {
      "image/png": "[encoded data removed]",
      "text/plain": [
       "<Figure size 432x288 with 1 Axes>"
      ]
     },
     "metadata": {
      "needs_background": "light"
     },
     "output_type": "display_data"
    }
   ],
   "source": [
    "data.plot(x = 'living_area', y='last_price', style='o', title ='Цена в зависимости от жилой площади')\n",
    "print('Коэффициент корреляции:', data['living_area'].corr(data['last_price']))"
   ]
  },
  {
   "cell_type": "markdown",
   "metadata": {},
   "source": [
    "Также видим зависимость цены от жилой площади, что достаточно логично. Ведь жилая площадь напрямую зависит от общей площади, которая имеет положительную корреляцию со стоимостью.\n",
    "\n",
    "Посмотрим связана ли цена с площадью кухни:"
   ]
  },
  {
   "cell_type": "code",
   "execution_count": 51,
   "metadata": {},
   "outputs": [
    {
     "name": "stdout",
     "output_type": "stream",
     "text": [
      "Коэффициент корреляции: 0.5091277908217713\n"
     ]
    },
    {
     "data": {
      "image/png": "[encoded data removed]",
      "text/plain": [
       "<Figure size 432x288 with 1 Axes>"
      ]
     },
     "metadata": {
      "needs_background": "light"
     },
     "output_type": "display_data"
    }
   ],
   "source": [
    "data.plot(x = 'kitchen_area', y='last_price', style='o', title ='Цена в зависимости от площади кухни')\n",
    "print('Коэффициент корреляции:', data['kitchen_area'].corr(data['last_price']))"
   ]
  },
  {
   "cell_type": "markdown",
   "metadata": {},
   "source": [
    "Здесь можно заметить, что стоимость не возрастает особо при увеличении площади кухни. Тогда можно сделать вывод, что площадь кухни - не самый приоритетный показатель при определении цены.\n",
    "\n",
    "Взглянем на зависимость стоимости от количества комнат. Для этого стоит посчитать среднюю стоимость цены для каждого количества комнат и для полученных значений составить график:"
   ]
  },
  {
   "cell_type": "code",
   "execution_count": 52,
   "metadata": {},
   "outputs": [
    {
     "data": {
      "text/plain": [
       "<AxesSubplot:title={'center':'Цена в зависимости от количества комнат'}, xlabel='rooms'>"
      ]
     },
     "execution_count": 52,
     "metadata": {},
     "output_type": "execute_result"
    },
    {
     "data": {
      "image/png": "[encoded data removed]",
      "text/plain": [
       "<Figure size 432x288 with 1 Axes>"
      ]
     },
     "metadata": {
      "needs_background": "light"
     },
     "output_type": "display_data"
    }
   ],
   "source": [
    "data['last_price_mln'] = data['last_price']/1000000 #для удобства введем цену выраженную в миллионах\n",
    "(data.pivot_table(index = 'rooms', values = 'last_price_mln', aggfunc ='mean').\n",
    " plot(style ='o-', title ='Цена в зависимости от количества комнат')\n",
    ")"
   ]
  },
  {
   "cell_type": "markdown",
   "metadata": {},
   "source": [
    "Из графика видно что число комнат напрямую влияет на цену квартиры. \n",
    "\n",
    "Посмотрим зваисит ли цена от этажа квартиры:"
   ]
  },
  {
   "cell_type": "code",
   "execution_count": 53,
   "metadata": {
    "scrolled": true
   },
   "outputs": [
    {
     "data": {
      "text/plain": [
       "<AxesSubplot:title={'center':'Цена по этажам'}, xlabel='floor_type'>"
      ]
     },
     "execution_count": 53,
     "metadata": {},
     "output_type": "execute_result"
    },
    {
     "data": {
      "image/png": "[encoded data removed]",
      "text/plain": [
       "<Figure size 432x288 with 1 Axes>"
      ]
     },
     "metadata": {
      "needs_background": "light"
     },
     "output_type": "display_data"
    }
   ],
   "source": [
    "data.pivot_table(index = 'floor_type', values = 'last_price_mln', aggfunc='median').plot(style ='o-', title='Цена по этажам')"
   ]
  },
  {
   "cell_type": "markdown",
   "metadata": {},
   "source": [
    "Из графика видно, что квартиры на первом этаже в среднем стоят дешевле чем квартиры на других этажах. \n",
    "Наибольшая средняя цена получилась для квартир которые находятся между первым и последним этажом. \n",
    "\n",
    "\n",
    "Теперь посмотрим связана ли цена с датой размещения. Сделаем несколько графиков - для года, месяцев и дней недели. В каждом случае рассчитаем медианную цену по месяцу/дню/году и будем сравнивать именно эти показатели (медиана чтобы исключить влияние очень дорогих и очень дешевых квартир):"
   ]
  },
  {
   "cell_type": "code",
   "execution_count": 54,
   "metadata": {
    "scrolled": false
   },
   "outputs": [
    {
     "data": {
      "text/plain": [
       "<AxesSubplot:title={'center':'Средняя цена по годам'}, xlabel='year'>"
      ]
     },
     "execution_count": 54,
     "metadata": {},
     "output_type": "execute_result"
    },
    {
     "data": {
      "image/png": "[encoded data removed]",
      "text/plain": [
       "<Figure size 720x720 with 1 Axes>"
      ]
     },
     "metadata": {
      "needs_background": "light"
     },
     "output_type": "display_data"
    },
    {
     "data": {
      "image/png": "[encoded data removed]",
      "text/plain": [
       "<Figure size 720x720 with 1 Axes>"
      ]
     },
     "metadata": {
      "needs_background": "light"
     },
     "output_type": "display_data"
    },
    {
     "data": {
      "image/png": "[encoded data removed]",
      "text/plain": [
       "<Figure size 720x720 with 1 Axes>"
      ]
     },
     "metadata": {
      "needs_background": "light"
     },
     "output_type": "display_data"
    }
   ],
   "source": [
    "(data.\n",
    " pivot_table(index='weekday', values = 'last_price_mln', aggfunc='median').\n",
    " plot(style ='o-', figsize=(10,10), title='Средняя цена по дням недели')\n",
    ")\n",
    "(data.\n",
    " pivot_table(index='month', values = 'last_price_mln', aggfunc='median').\n",
    " plot(style ='o-', figsize=(10,10), title='Средняя цена по месяцам')\n",
    ")\n",
    "(data.\n",
    " pivot_table(index='year', values = 'last_price_mln', aggfunc='median').\n",
    " plot(style ='o-', figsize=(10,10), title='Средняя цена по годам')\n",
    ")"
   ]
  },
  {
   "cell_type": "markdown",
   "metadata": {},
   "source": [
    "- График для дней недели. В среднем цена высокая в начале недели но ближе к концу падает.\n",
    "- График для месяцев. Виден заметный спад к началу лета и пик в апреле, однако в остальное время сложно сказать что есть конкретная зависимость цены от месяца.\n",
    "- График для годов. А вот тут явно видна тенденция к уменьшению средней цены и лишь в последний год цена немного подросла. Как вариант такого поведения цены - в 2014 году был кризис на рынке недвижимости и цены были достаточно высокие, но после него ситуация с ценами стабилизировалась"
   ]
  },
  {
   "cell_type": "markdown",
   "metadata": {},
   "source": [
    "### Анализ десяти населённых пунктов с наибольшим числом объявлений, анализ стоимости квадратного метра"
   ]
  },
  {
   "cell_type": "code",
   "execution_count": 55,
   "metadata": {},
   "outputs": [
    {
     "data": {
      "text/html": [
       "<div>\n",
       "<style scoped>\n",
       "    .dataframe tbody tr th:only-of-type {\n",
       "        vertical-align: middle;\n",
       "    }\n",
       "\n",
       "    .dataframe tbody tr th {\n",
       "        vertical-align: top;\n",
       "    }\n",
       "\n",
       "    .dataframe thead th {\n",
       "        text-align: right;\n",
       "    }\n",
       "</style>\n",
       "<table border=\"1\" class=\"dataframe\">\n",
       "  <thead>\n",
       "    <tr style=\"text-align: right;\">\n",
       "      <th></th>\n",
       "      <th>metre_price</th>\n",
       "    </tr>\n",
       "    <tr>\n",
       "      <th>locality_name</th>\n",
       "      <th></th>\n",
       "    </tr>\n",
       "  </thead>\n",
       "  <tbody>\n",
       "    <tr>\n",
       "      <th>санкт-петербург</th>\n",
       "      <td>114407.033438</td>\n",
       "    </tr>\n",
       "    <tr>\n",
       "      <th>пушкин</th>\n",
       "      <td>103221.059146</td>\n",
       "    </tr>\n",
       "    <tr>\n",
       "      <th>кудрово</th>\n",
       "      <td>95324.930544</td>\n",
       "    </tr>\n",
       "    <tr>\n",
       "      <th>парголово</th>\n",
       "      <td>90332.263023</td>\n",
       "    </tr>\n",
       "    <tr>\n",
       "      <th>мурино</th>\n",
       "      <td>86087.512050</td>\n",
       "    </tr>\n",
       "    <tr>\n",
       "      <th>шушары</th>\n",
       "      <td>78677.364217</td>\n",
       "    </tr>\n",
       "    <tr>\n",
       "      <th>колпино</th>\n",
       "      <td>75333.295801</td>\n",
       "    </tr>\n",
       "    <tr>\n",
       "      <th>гатчина</th>\n",
       "      <td>68746.146763</td>\n",
       "    </tr>\n",
       "    <tr>\n",
       "      <th>всеволожск</th>\n",
       "      <td>68654.473986</td>\n",
       "    </tr>\n",
       "    <tr>\n",
       "      <th>выборг</th>\n",
       "      <td>58141.909153</td>\n",
       "    </tr>\n",
       "  </tbody>\n",
       "</table>\n",
       "</div>"
      ],
      "text/plain": [
       "                   metre_price\n",
       "locality_name                 \n",
       "санкт-петербург  114407.033438\n",
       "пушкин           103221.059146\n",
       "кудрово           95324.930544\n",
       "парголово         90332.263023\n",
       "мурино            86087.512050\n",
       "шушары            78677.364217\n",
       "колпино           75333.295801\n",
       "гатчина           68746.146763\n",
       "всеволожск        68654.473986\n",
       "выборг            58141.909153"
      ]
     },
     "execution_count": 55,
     "metadata": {},
     "output_type": "execute_result"
    }
   ],
   "source": [
    "#Сначала создадим Series объект top_cities чтобы выделить 10 самых населенных городов:\n",
    "top_cities = data['locality_name'].value_counts().sort_values(ascending=False).head(10)\n",
    "\n",
    "\n",
    "(data.query('locality_name in @top_cities.index').  #делаем срез по тем квартирам которые расположены в городах из top_cities\n",
    " pivot_table(index='locality_name', values = 'metre_price'). #создаем сводную таблицу где для каждого города считаем среднюю\n",
    " sort_values(by = 'metre_price',ascending=False).            #цену квадратного метра, далее сортируем по убыванию и выводим\n",
    " head(10)                                                    #полученную таблицу для городов:\n",
    ")                                                            "
   ]
  },
  {
   "cell_type": "markdown",
   "metadata": {},
   "source": [
    "Получили что самая большая средняя цена за квадратный метр в Санкт-Петербурге, что достаточно логично, а вот наименьшая цена в Выборге."
   ]
  },
  {
   "cell_type": "markdown",
   "metadata": {},
   "source": []
  },
  {
   "cell_type": "markdown",
   "metadata": {},
   "source": [
    "### Анализ изменения цены квадратного метра в Санкт-Петербурге для каждого километра по степени удалённости от центра"
   ]
  },
  {
   "cell_type": "markdown",
   "metadata": {},
   "source": [
    "Для начала создадим таблицу "
   ]
  },
  {
   "cell_type": "code",
   "execution_count": 56,
   "metadata": {},
   "outputs": [
    {
     "data": {
      "image/png": "[encoded data removed]",
      "text/plain": [
       "<Figure size 720x720 with 1 Axes>"
      ]
     },
     "metadata": {
      "needs_background": "light"
     },
     "output_type": "display_data"
    }
   ],
   "source": [
    "spb_data = data.query('locality_name == \"санкт-петербург\"') #создаем таблицу с квартирами из Санкт_Петербурга\n",
    "(spb_data.pivot_table(index = 'city_centre_km', values = 'metre_price', aggfunc='mean').\n",
    " plot(figsize=(10,10), grid = True, title = 'Средняя цена кв.м. по расстоянию от центра') \n",
    ");"
   ]
  },
  {
   "cell_type": "markdown",
   "metadata": {},
   "source": [
    "Можно заметить что средняя цена постепенно падает при отдалении от центра города. Однако присутствуют два \"скачка\" средней цены. Скорее всего они связаны с расположением квартир близко к какому-либо историческому памятнику или популярному месту, которые не расположены в центре."
   ]
  },
  {
   "cell_type": "markdown",
   "metadata": {},
   "source": [
    "## Общий вывод"
   ]
  },
  {
   "cell_type": "markdown",
   "metadata": {},
   "source": [
    "В ходе исследования проверялось наличие зависимости между несколькими факторами:\n",
    "- Зависимость цены квартиры от разных показателей\n",
    "- Средний срок продажи квартиры\n",
    "- Города с наибольшей средней стоимостью квадратного метра\n",
    "- Зависимость стоимости квадратного метра от расстояния до центра в Санкт-Петербурге\n",
    "\n",
    "Рассмотрим каждый пункт отдельно:\n",
    "\n",
    "**1) Зависимость цены квартиры от разных показателей **\n",
    "\n",
    "Было выявлено, что наиболее важные показатели для цены квартиры - это общая площадь и количество комнат, чем больше эти показатели тем выше цена. А вот дата публикации объявления никак не влияет на конечную цену продажи.\n",
    "\n",
    "**2) Средний срок продажи квартир **\n",
    "\n",
    "Большая часть квартир продается в срок от 1 месяца до 1 года, среднее время продажи - 6 месяцев. А вот продажи квартир занимающие больше 1 года являются необычайно долгими.\n",
    "\n",
    "**3) Города с наибольшей стоимостью квадратного метра **\n",
    "\n",
    "Было выделено 10 городов с наибольшим количеством объявлений. Среди них город с самой высокой средней стоимостью квадратного метра - Санкт-Петербург, а наименьшая стоимость квадратного метра в Выборге.\n",
    "\n",
    "**4) Зависимость стоимости квадратного метра от расстояния до центра в Санкт-Петербурге**\n",
    "\n",
    "Получена зависимост стоимости квадратного метра от расстояния до центра - средняя цена постепенно падает при отдалении от центра города. Однако присутствуют два \"скачка\" средней цены. Скорее всего они связаны с расположением квартир близко к какому-либо историческому памятнику или популярному месту, которые не расположены в центре."
   ]
  }
 ],
 "metadata": {
  "ExecuteTimeLog": [
   {
    "duration": 764,
    "start_time": "2022-11-18T16:49:34.247Z"
   },
   {
    "duration": 84,
    "start_time": "2022-11-18T16:51:32.804Z"
   },
   {
    "duration": 13,
    "start_time": "2022-11-18T16:52:23.413Z"
   },
   {
    "duration": 22,
    "start_time": "2022-11-18T16:52:32.025Z"
   },
   {
    "duration": 379,
    "start_time": "2022-11-18T16:53:57.564Z"
   },
   {
    "duration": 11,
    "start_time": "2022-11-18T16:54:07.890Z"
   },
   {
    "duration": 19,
    "start_time": "2022-11-18T16:54:10.644Z"
   },
   {
    "duration": 13,
    "start_time": "2022-11-18T16:54:40.052Z"
   },
   {
    "duration": 16,
    "start_time": "2022-11-18T16:54:45.682Z"
   },
   {
    "duration": 13,
    "start_time": "2022-11-18T16:57:07.462Z"
   },
   {
    "duration": 7,
    "start_time": "2022-11-18T16:57:32.026Z"
   },
   {
    "duration": 112,
    "start_time": "2022-11-18T17:05:44.869Z"
   },
   {
    "duration": 103,
    "start_time": "2022-11-18T17:06:19.247Z"
   },
   {
    "duration": 25,
    "start_time": "2022-11-18T17:06:43.476Z"
   },
   {
    "duration": 14,
    "start_time": "2022-11-18T17:07:24.626Z"
   },
   {
    "duration": 2047,
    "start_time": "2022-11-18T17:08:40.322Z"
   },
   {
    "duration": 53,
    "start_time": "2022-11-18T17:10:47.358Z"
   },
   {
    "duration": 1818,
    "start_time": "2022-11-18T17:10:55.381Z"
   },
   {
    "duration": 10,
    "start_time": "2022-11-18T17:14:50.300Z"
   },
   {
    "duration": 46,
    "start_time": "2022-11-18T19:07:27.444Z"
   },
   {
    "duration": 721,
    "start_time": "2022-11-18T19:07:33.075Z"
   },
   {
    "duration": 12,
    "start_time": "2022-11-18T19:07:33.798Z"
   },
   {
    "duration": 14,
    "start_time": "2022-11-18T19:07:33.812Z"
   },
   {
    "duration": 91,
    "start_time": "2022-11-18T19:07:33.827Z"
   },
   {
    "duration": 26,
    "start_time": "2022-11-18T19:07:33.923Z"
   },
   {
    "duration": 17,
    "start_time": "2022-11-18T19:07:33.951Z"
   },
   {
    "duration": 2525,
    "start_time": "2022-11-18T19:07:33.969Z"
   },
   {
    "duration": 13,
    "start_time": "2022-11-18T19:07:36.507Z"
   },
   {
    "duration": 4,
    "start_time": "2022-11-18T19:07:36.521Z"
   },
   {
    "duration": 16,
    "start_time": "2022-11-18T19:09:48.865Z"
   },
   {
    "duration": 731,
    "start_time": "2022-11-18T19:12:11.525Z"
   },
   {
    "duration": 4,
    "start_time": "2022-11-18T19:12:19.972Z"
   },
   {
    "duration": 6,
    "start_time": "2022-11-18T19:21:28.841Z"
   },
   {
    "duration": 682,
    "start_time": "2022-11-19T00:22:07.144Z"
   },
   {
    "duration": 11,
    "start_time": "2022-11-19T00:22:07.828Z"
   },
   {
    "duration": 12,
    "start_time": "2022-11-19T00:22:07.840Z"
   },
   {
    "duration": 70,
    "start_time": "2022-11-19T00:22:07.854Z"
   },
   {
    "duration": 22,
    "start_time": "2022-11-19T00:22:07.926Z"
   },
   {
    "duration": 14,
    "start_time": "2022-11-19T00:22:07.950Z"
   },
   {
    "duration": 2083,
    "start_time": "2022-11-19T00:22:07.965Z"
   },
   {
    "duration": 9,
    "start_time": "2022-11-19T00:22:10.049Z"
   },
   {
    "duration": 4,
    "start_time": "2022-11-19T00:22:12.410Z"
   },
   {
    "duration": 6,
    "start_time": "2022-11-19T00:23:07.193Z"
   },
   {
    "duration": 10,
    "start_time": "2022-11-19T00:23:28.814Z"
   },
   {
    "duration": 11,
    "start_time": "2022-11-19T00:31:54.882Z"
   },
   {
    "duration": 25,
    "start_time": "2022-11-19T00:32:02.998Z"
   },
   {
    "duration": 19,
    "start_time": "2022-11-19T00:37:26.252Z"
   },
   {
    "duration": 7,
    "start_time": "2022-11-19T00:37:32.707Z"
   },
   {
    "duration": 9,
    "start_time": "2022-11-19T00:37:57.619Z"
   },
   {
    "duration": 73,
    "start_time": "2022-11-19T00:40:25.787Z"
   },
   {
    "duration": 49,
    "start_time": "2022-11-19T00:40:39.224Z"
   },
   {
    "duration": 19,
    "start_time": "2022-11-19T00:41:02.240Z"
   },
   {
    "duration": 17,
    "start_time": "2022-11-19T00:41:23.793Z"
   },
   {
    "duration": 11,
    "start_time": "2022-11-19T00:41:42.815Z"
   },
   {
    "duration": 10,
    "start_time": "2022-11-19T00:41:53.363Z"
   },
   {
    "duration": 11,
    "start_time": "2022-11-19T00:41:56.727Z"
   },
   {
    "duration": 10,
    "start_time": "2022-11-19T00:42:03.721Z"
   },
   {
    "duration": 44,
    "start_time": "2022-11-19T00:42:15.224Z"
   },
   {
    "duration": 55,
    "start_time": "2022-11-19T00:42:21.129Z"
   },
   {
    "duration": 46,
    "start_time": "2022-11-19T00:42:26.861Z"
   },
   {
    "duration": 13,
    "start_time": "2022-11-19T00:42:29.318Z"
   },
   {
    "duration": 11,
    "start_time": "2022-11-19T00:43:40.640Z"
   },
   {
    "duration": 12,
    "start_time": "2022-11-19T00:46:38.681Z"
   },
   {
    "duration": 31,
    "start_time": "2022-11-19T00:47:44.663Z"
   },
   {
    "duration": 8,
    "start_time": "2022-11-19T00:50:30.307Z"
   },
   {
    "duration": 4,
    "start_time": "2022-11-19T00:58:09.800Z"
   },
   {
    "duration": 45,
    "start_time": "2022-11-19T00:58:36.387Z"
   },
   {
    "duration": 10,
    "start_time": "2022-11-19T00:59:10.629Z"
   },
   {
    "duration": 8,
    "start_time": "2022-11-19T00:59:33.350Z"
   },
   {
    "duration": 9,
    "start_time": "2022-11-19T01:01:17.658Z"
   },
   {
    "duration": 9,
    "start_time": "2022-11-19T01:01:22.623Z"
   },
   {
    "duration": 4,
    "start_time": "2022-11-19T01:01:27.401Z"
   },
   {
    "duration": 4,
    "start_time": "2022-11-19T01:08:24.221Z"
   },
   {
    "duration": 4,
    "start_time": "2022-11-19T01:11:49.715Z"
   },
   {
    "duration": 11,
    "start_time": "2022-11-19T01:12:18.297Z"
   },
   {
    "duration": 12,
    "start_time": "2022-11-19T01:13:24.783Z"
   },
   {
    "duration": 4,
    "start_time": "2022-11-19T01:13:55.560Z"
   },
   {
    "duration": 7,
    "start_time": "2022-11-19T01:15:38.747Z"
   },
   {
    "duration": 8,
    "start_time": "2022-11-19T01:15:55.338Z"
   },
   {
    "duration": 12,
    "start_time": "2022-11-19T01:16:14.681Z"
   },
   {
    "duration": 10,
    "start_time": "2022-11-19T01:17:14.934Z"
   },
   {
    "duration": 7,
    "start_time": "2022-11-19T01:17:26.895Z"
   },
   {
    "duration": 7,
    "start_time": "2022-11-19T01:17:52.300Z"
   },
   {
    "duration": 9,
    "start_time": "2022-11-19T01:18:07.896Z"
   },
   {
    "duration": 8,
    "start_time": "2022-11-19T01:18:18.922Z"
   },
   {
    "duration": 8,
    "start_time": "2022-11-19T01:18:26.200Z"
   },
   {
    "duration": 10,
    "start_time": "2022-11-19T01:18:37.753Z"
   },
   {
    "duration": 10,
    "start_time": "2022-11-19T01:19:00.549Z"
   },
   {
    "duration": 11,
    "start_time": "2022-11-19T01:19:43.271Z"
   },
   {
    "duration": 10,
    "start_time": "2022-11-19T01:19:57.325Z"
   },
   {
    "duration": 87,
    "start_time": "2022-11-19T01:20:52.937Z"
   },
   {
    "duration": 10,
    "start_time": "2022-11-19T01:20:53.026Z"
   },
   {
    "duration": 11,
    "start_time": "2022-11-19T01:20:53.038Z"
   },
   {
    "duration": 73,
    "start_time": "2022-11-19T01:20:53.050Z"
   },
   {
    "duration": 23,
    "start_time": "2022-11-19T01:20:53.124Z"
   },
   {
    "duration": 15,
    "start_time": "2022-11-19T01:20:53.148Z"
   },
   {
    "duration": 1884,
    "start_time": "2022-11-19T01:20:53.165Z"
   },
   {
    "duration": 9,
    "start_time": "2022-11-19T01:20:55.050Z"
   },
   {
    "duration": 17,
    "start_time": "2022-11-19T01:20:55.061Z"
   },
   {
    "duration": 10,
    "start_time": "2022-11-19T01:20:55.080Z"
   },
   {
    "duration": 33,
    "start_time": "2022-11-19T01:20:55.091Z"
   },
   {
    "duration": 5,
    "start_time": "2022-11-19T01:20:55.126Z"
   },
   {
    "duration": 11,
    "start_time": "2022-11-19T01:20:56.952Z"
   },
   {
    "duration": 9,
    "start_time": "2022-11-19T01:25:44.582Z"
   },
   {
    "duration": 8,
    "start_time": "2022-11-19T01:26:02.326Z"
   },
   {
    "duration": 10,
    "start_time": "2022-11-19T01:27:25.197Z"
   },
   {
    "duration": 4,
    "start_time": "2022-11-19T01:28:18.351Z"
   },
   {
    "duration": 4,
    "start_time": "2022-11-19T01:28:36.315Z"
   },
   {
    "duration": 15,
    "start_time": "2022-11-19T01:30:04.301Z"
   },
   {
    "duration": 25,
    "start_time": "2022-11-19T01:30:24.539Z"
   },
   {
    "duration": 44,
    "start_time": "2022-11-19T01:30:53.384Z"
   },
   {
    "duration": 23,
    "start_time": "2022-11-19T01:31:00.780Z"
   },
   {
    "duration": 32,
    "start_time": "2022-11-19T01:36:21.496Z"
   },
   {
    "duration": 10,
    "start_time": "2022-11-19T01:37:46.060Z"
   },
   {
    "duration": 8,
    "start_time": "2022-11-19T01:38:05.617Z"
   },
   {
    "duration": 20,
    "start_time": "2022-11-19T01:38:12.299Z"
   },
   {
    "duration": 14,
    "start_time": "2022-11-19T01:38:53.323Z"
   },
   {
    "duration": 13,
    "start_time": "2022-11-19T01:39:10.332Z"
   },
   {
    "duration": 13,
    "start_time": "2022-11-19T01:39:16.680Z"
   },
   {
    "duration": 15,
    "start_time": "2022-11-19T01:39:37.156Z"
   },
   {
    "duration": 17,
    "start_time": "2022-11-19T01:39:39.080Z"
   },
   {
    "duration": 53,
    "start_time": "2022-11-19T15:23:28.440Z"
   },
   {
    "duration": 615,
    "start_time": "2022-11-19T15:23:31.840Z"
   },
   {
    "duration": 15,
    "start_time": "2022-11-19T15:23:32.457Z"
   },
   {
    "duration": 15,
    "start_time": "2022-11-19T15:23:32.474Z"
   },
   {
    "duration": 90,
    "start_time": "2022-11-19T15:23:32.492Z"
   },
   {
    "duration": 29,
    "start_time": "2022-11-19T15:23:32.584Z"
   },
   {
    "duration": 21,
    "start_time": "2022-11-19T15:23:32.616Z"
   },
   {
    "duration": 2659,
    "start_time": "2022-11-19T15:23:32.639Z"
   },
   {
    "duration": 11,
    "start_time": "2022-11-19T15:23:35.300Z"
   },
   {
    "duration": 15,
    "start_time": "2022-11-19T15:23:35.313Z"
   },
   {
    "duration": 10,
    "start_time": "2022-11-19T15:23:35.331Z"
   },
   {
    "duration": 19,
    "start_time": "2022-11-19T15:23:35.343Z"
   },
   {
    "duration": 7,
    "start_time": "2022-11-19T15:23:35.377Z"
   },
   {
    "duration": 14,
    "start_time": "2022-11-19T15:23:35.385Z"
   },
   {
    "duration": 12,
    "start_time": "2022-11-19T15:23:35.401Z"
   },
   {
    "duration": 15,
    "start_time": "2022-11-19T15:23:35.414Z"
   },
   {
    "duration": 47,
    "start_time": "2022-11-19T15:23:35.431Z"
   },
   {
    "duration": 12,
    "start_time": "2022-11-19T15:23:38.253Z"
   },
   {
    "duration": 13,
    "start_time": "2022-11-19T15:23:40.419Z"
   },
   {
    "duration": 7,
    "start_time": "2022-11-19T15:27:36.934Z"
   },
   {
    "duration": 102,
    "start_time": "2022-11-19T15:56:45.348Z"
   },
   {
    "duration": 290,
    "start_time": "2022-11-19T16:01:49.178Z"
   },
   {
    "duration": 223,
    "start_time": "2022-11-19T16:02:11.823Z"
   },
   {
    "duration": 49,
    "start_time": "2022-11-19T16:02:44.164Z"
   },
   {
    "duration": 219,
    "start_time": "2022-11-19T16:02:52.074Z"
   },
   {
    "duration": 10,
    "start_time": "2022-11-19T16:05:42.943Z"
   },
   {
    "duration": 10,
    "start_time": "2022-11-19T16:05:51.614Z"
   },
   {
    "duration": 215,
    "start_time": "2022-11-19T16:06:03.587Z"
   },
   {
    "duration": 224,
    "start_time": "2022-11-19T16:06:24.458Z"
   },
   {
    "duration": 88,
    "start_time": "2022-11-19T16:06:28.230Z"
   },
   {
    "duration": 12,
    "start_time": "2022-11-19T16:06:28.319Z"
   },
   {
    "duration": 10,
    "start_time": "2022-11-19T16:06:28.333Z"
   },
   {
    "duration": 91,
    "start_time": "2022-11-19T16:06:28.345Z"
   },
   {
    "duration": 28,
    "start_time": "2022-11-19T16:06:28.438Z"
   },
   {
    "duration": 32,
    "start_time": "2022-11-19T16:06:28.467Z"
   },
   {
    "duration": 2153,
    "start_time": "2022-11-19T16:06:28.501Z"
   },
   {
    "duration": 23,
    "start_time": "2022-11-19T16:06:30.656Z"
   },
   {
    "duration": 12,
    "start_time": "2022-11-19T16:06:30.681Z"
   },
   {
    "duration": 26,
    "start_time": "2022-11-19T16:06:30.696Z"
   },
   {
    "duration": 16,
    "start_time": "2022-11-19T16:06:30.723Z"
   },
   {
    "duration": 11,
    "start_time": "2022-11-19T16:06:30.741Z"
   },
   {
    "duration": 33,
    "start_time": "2022-11-19T16:06:30.754Z"
   },
   {
    "duration": 16,
    "start_time": "2022-11-19T16:06:30.789Z"
   },
   {
    "duration": 20,
    "start_time": "2022-11-19T16:06:30.807Z"
   },
   {
    "duration": 17,
    "start_time": "2022-11-19T16:06:30.829Z"
   },
   {
    "duration": 31,
    "start_time": "2022-11-19T16:06:30.848Z"
   },
   {
    "duration": 252,
    "start_time": "2022-11-19T16:06:35.920Z"
   },
   {
    "duration": 252,
    "start_time": "2022-11-19T16:08:00.853Z"
   },
   {
    "duration": 185,
    "start_time": "2022-11-19T16:12:06.556Z"
   },
   {
    "duration": 180,
    "start_time": "2022-11-19T16:16:08.421Z"
   },
   {
    "duration": 12,
    "start_time": "2022-11-19T16:16:50.454Z"
   },
   {
    "duration": 9,
    "start_time": "2022-11-19T16:16:55.771Z"
   },
   {
    "duration": 22,
    "start_time": "2022-11-19T16:17:09.702Z"
   },
   {
    "duration": 4,
    "start_time": "2022-11-19T16:18:43.308Z"
   },
   {
    "duration": 32,
    "start_time": "2022-11-19T16:18:47.055Z"
   },
   {
    "duration": 279,
    "start_time": "2022-11-19T16:18:54.022Z"
   },
   {
    "duration": 12,
    "start_time": "2022-11-19T16:20:17.369Z"
   },
   {
    "duration": 29,
    "start_time": "2022-11-19T16:21:36.889Z"
   },
   {
    "duration": 62,
    "start_time": "2022-11-19T16:21:42.174Z"
   },
   {
    "duration": 218,
    "start_time": "2022-11-19T16:21:46.799Z"
   },
   {
    "duration": 12,
    "start_time": "2022-11-19T16:22:42.250Z"
   },
   {
    "duration": 608,
    "start_time": "2022-11-19T16:23:01.528Z"
   },
   {
    "duration": 185,
    "start_time": "2022-11-19T16:23:35.037Z"
   },
   {
    "duration": 226,
    "start_time": "2022-11-19T16:23:42.656Z"
   },
   {
    "duration": 789,
    "start_time": "2022-11-19T16:25:12.269Z"
   },
   {
    "duration": 693,
    "start_time": "2022-11-19T16:25:21.929Z"
   },
   {
    "duration": 32,
    "start_time": "2022-11-19T16:26:02.141Z"
   },
   {
    "duration": 12,
    "start_time": "2022-11-19T16:26:14.396Z"
   },
   {
    "duration": 31,
    "start_time": "2022-11-19T16:26:27.093Z"
   },
   {
    "duration": 30,
    "start_time": "2022-11-19T16:27:54.969Z"
   },
   {
    "duration": 810,
    "start_time": "2022-11-19T16:28:02.594Z"
   },
   {
    "duration": 791,
    "start_time": "2022-11-19T16:28:07.763Z"
   },
   {
    "duration": 763,
    "start_time": "2022-11-19T16:28:24.642Z"
   },
   {
    "duration": 789,
    "start_time": "2022-11-19T16:29:22.518Z"
   },
   {
    "duration": 12,
    "start_time": "2022-11-19T16:30:58.698Z"
   },
   {
    "duration": 771,
    "start_time": "2022-11-19T16:31:19.554Z"
   },
   {
    "duration": 777,
    "start_time": "2022-11-19T16:32:45.436Z"
   },
   {
    "duration": 86,
    "start_time": "2022-11-19T16:32:54.454Z"
   },
   {
    "duration": 13,
    "start_time": "2022-11-19T16:32:54.543Z"
   },
   {
    "duration": 15,
    "start_time": "2022-11-19T16:32:54.557Z"
   },
   {
    "duration": 85,
    "start_time": "2022-11-19T16:32:54.578Z"
   },
   {
    "duration": 29,
    "start_time": "2022-11-19T16:32:54.665Z"
   },
   {
    "duration": 19,
    "start_time": "2022-11-19T16:32:54.695Z"
   },
   {
    "duration": 2056,
    "start_time": "2022-11-19T16:32:54.715Z"
   },
   {
    "duration": 13,
    "start_time": "2022-11-19T16:32:56.773Z"
   },
   {
    "duration": 13,
    "start_time": "2022-11-19T16:32:56.787Z"
   },
   {
    "duration": 18,
    "start_time": "2022-11-19T16:32:56.801Z"
   },
   {
    "duration": 15,
    "start_time": "2022-11-19T16:32:56.821Z"
   },
   {
    "duration": 8,
    "start_time": "2022-11-19T16:32:56.837Z"
   },
   {
    "duration": 40,
    "start_time": "2022-11-19T16:32:56.847Z"
   },
   {
    "duration": 12,
    "start_time": "2022-11-19T16:32:56.889Z"
   },
   {
    "duration": 15,
    "start_time": "2022-11-19T16:32:56.903Z"
   },
   {
    "duration": 10,
    "start_time": "2022-11-19T16:32:56.920Z"
   },
   {
    "duration": 7,
    "start_time": "2022-11-19T16:32:56.932Z"
   },
   {
    "duration": 233,
    "start_time": "2022-11-19T16:33:01.034Z"
   },
   {
    "duration": 176,
    "start_time": "2022-11-19T16:34:52.075Z"
   },
   {
    "duration": 38,
    "start_time": "2022-11-19T16:35:41.356Z"
   },
   {
    "duration": 184,
    "start_time": "2022-11-19T16:35:54.878Z"
   },
   {
    "duration": 35,
    "start_time": "2022-11-19T16:36:56.784Z"
   },
   {
    "duration": 75,
    "start_time": "2022-11-19T16:38:11.549Z"
   },
   {
    "duration": 9,
    "start_time": "2022-11-19T16:38:16.559Z"
   },
   {
    "duration": 5,
    "start_time": "2022-11-19T16:38:29.245Z"
   },
   {
    "duration": 181,
    "start_time": "2022-11-19T16:39:25.696Z"
   },
   {
    "duration": 9,
    "start_time": "2022-11-19T16:39:33.556Z"
   },
   {
    "duration": 1252,
    "start_time": "2022-11-19T16:40:52.033Z"
   },
   {
    "duration": 1116,
    "start_time": "2022-11-19T16:41:27.626Z"
   },
   {
    "duration": 1112,
    "start_time": "2022-11-19T16:46:17.580Z"
   },
   {
    "duration": 165,
    "start_time": "2022-11-19T16:46:51.683Z"
   },
   {
    "duration": 1128,
    "start_time": "2022-11-19T16:48:43.525Z"
   },
   {
    "duration": 4,
    "start_time": "2022-11-19T16:49:02.967Z"
   },
   {
    "duration": 1123,
    "start_time": "2022-11-19T16:49:25.722Z"
   },
   {
    "duration": 1126,
    "start_time": "2022-11-19T16:49:49.246Z"
   },
   {
    "duration": 38,
    "start_time": "2022-11-19T16:50:22.540Z"
   },
   {
    "duration": 7,
    "start_time": "2022-11-19T16:55:27.114Z"
   },
   {
    "duration": 9,
    "start_time": "2022-11-19T16:55:28.323Z"
   },
   {
    "duration": 10,
    "start_time": "2022-11-19T16:58:31.566Z"
   },
   {
    "duration": 9,
    "start_time": "2022-11-19T16:58:33.127Z"
   },
   {
    "duration": 89,
    "start_time": "2022-11-19T16:58:52.625Z"
   },
   {
    "duration": 12,
    "start_time": "2022-11-19T16:58:52.716Z"
   },
   {
    "duration": 9,
    "start_time": "2022-11-19T16:58:52.730Z"
   },
   {
    "duration": 100,
    "start_time": "2022-11-19T16:58:52.741Z"
   },
   {
    "duration": 37,
    "start_time": "2022-11-19T16:58:52.844Z"
   },
   {
    "duration": 18,
    "start_time": "2022-11-19T16:58:52.883Z"
   },
   {
    "duration": 2153,
    "start_time": "2022-11-19T16:58:52.903Z"
   },
   {
    "duration": 10,
    "start_time": "2022-11-19T16:58:55.058Z"
   },
   {
    "duration": 19,
    "start_time": "2022-11-19T16:58:55.078Z"
   },
   {
    "duration": 10,
    "start_time": "2022-11-19T16:58:55.099Z"
   },
   {
    "duration": 20,
    "start_time": "2022-11-19T16:58:55.111Z"
   },
   {
    "duration": 10,
    "start_time": "2022-11-19T16:58:55.132Z"
   },
   {
    "duration": 40,
    "start_time": "2022-11-19T16:58:55.144Z"
   },
   {
    "duration": 13,
    "start_time": "2022-11-19T16:58:55.187Z"
   },
   {
    "duration": 16,
    "start_time": "2022-11-19T16:58:55.203Z"
   },
   {
    "duration": 12,
    "start_time": "2022-11-19T16:58:55.221Z"
   },
   {
    "duration": 44,
    "start_time": "2022-11-19T16:58:55.235Z"
   },
   {
    "duration": 688,
    "start_time": "2022-11-19T16:58:58.512Z"
   },
   {
    "duration": 549,
    "start_time": "2022-11-19T17:00:11.208Z"
   },
   {
    "duration": 7,
    "start_time": "2022-11-19T17:03:01.486Z"
   },
   {
    "duration": 13,
    "start_time": "2022-11-19T17:03:24.103Z"
   },
   {
    "duration": 4,
    "start_time": "2022-11-19T17:04:08.815Z"
   },
   {
    "duration": 5,
    "start_time": "2022-11-19T17:04:13.755Z"
   },
   {
    "duration": 4,
    "start_time": "2022-11-19T17:04:18.934Z"
   },
   {
    "duration": 6,
    "start_time": "2022-11-19T17:04:27.042Z"
   },
   {
    "duration": 11,
    "start_time": "2022-11-19T17:08:09.102Z"
   },
   {
    "duration": 27,
    "start_time": "2022-11-19T17:10:02.097Z"
   },
   {
    "duration": 17,
    "start_time": "2022-11-19T17:10:24.264Z"
   },
   {
    "duration": 8,
    "start_time": "2022-11-19T17:10:48.502Z"
   },
   {
    "duration": 30,
    "start_time": "2022-11-19T17:14:17.488Z"
   },
   {
    "duration": 46,
    "start_time": "2022-11-19T17:16:10.260Z"
   },
   {
    "duration": 18,
    "start_time": "2022-11-19T17:16:45.068Z"
   },
   {
    "duration": 6,
    "start_time": "2022-11-19T17:16:49.558Z"
   },
   {
    "duration": 6,
    "start_time": "2022-11-19T17:17:01.109Z"
   },
   {
    "duration": 5,
    "start_time": "2022-11-19T17:20:33.814Z"
   },
   {
    "duration": 17,
    "start_time": "2022-11-19T17:23:37.688Z"
   },
   {
    "duration": 7,
    "start_time": "2022-11-19T17:23:50.998Z"
   },
   {
    "duration": 7,
    "start_time": "2022-11-19T17:24:12.731Z"
   },
   {
    "duration": 7,
    "start_time": "2022-11-19T17:24:18.429Z"
   },
   {
    "duration": 17,
    "start_time": "2022-11-19T17:24:41.394Z"
   },
   {
    "duration": 25,
    "start_time": "2022-11-19T17:24:57.427Z"
   },
   {
    "duration": 16,
    "start_time": "2022-11-19T17:25:05.231Z"
   },
   {
    "duration": 11,
    "start_time": "2022-11-19T17:26:40.721Z"
   },
   {
    "duration": 12,
    "start_time": "2022-11-19T17:27:03.677Z"
   },
   {
    "duration": 13,
    "start_time": "2022-11-19T17:27:31.053Z"
   },
   {
    "duration": 12,
    "start_time": "2022-11-19T17:27:42.823Z"
   },
   {
    "duration": 78,
    "start_time": "2022-11-19T17:28:14.015Z"
   },
   {
    "duration": 13,
    "start_time": "2022-11-19T17:29:34.041Z"
   },
   {
    "duration": 14,
    "start_time": "2022-11-19T17:29:43.697Z"
   },
   {
    "duration": 870,
    "start_time": "2022-11-19T17:31:12.458Z"
   },
   {
    "duration": 17,
    "start_time": "2022-11-19T17:32:32.827Z"
   },
   {
    "duration": 13,
    "start_time": "2022-11-19T17:32:51.295Z"
   },
   {
    "duration": 5,
    "start_time": "2022-11-19T17:33:48.757Z"
   },
   {
    "duration": 8,
    "start_time": "2022-11-19T17:34:01.824Z"
   },
   {
    "duration": 93,
    "start_time": "2022-11-19T17:34:22.797Z"
   },
   {
    "duration": 17,
    "start_time": "2022-11-19T17:34:22.892Z"
   },
   {
    "duration": 9,
    "start_time": "2022-11-19T17:34:22.912Z"
   },
   {
    "duration": 96,
    "start_time": "2022-11-19T17:34:22.924Z"
   },
   {
    "duration": 33,
    "start_time": "2022-11-19T17:34:23.022Z"
   },
   {
    "duration": 30,
    "start_time": "2022-11-19T17:34:23.056Z"
   },
   {
    "duration": 2298,
    "start_time": "2022-11-19T17:34:23.088Z"
   },
   {
    "duration": 12,
    "start_time": "2022-11-19T17:34:25.388Z"
   },
   {
    "duration": 20,
    "start_time": "2022-11-19T17:34:25.402Z"
   },
   {
    "duration": 13,
    "start_time": "2022-11-19T17:34:25.425Z"
   },
   {
    "duration": 50,
    "start_time": "2022-11-19T17:34:25.440Z"
   },
   {
    "duration": 9,
    "start_time": "2022-11-19T17:34:25.492Z"
   },
   {
    "duration": 25,
    "start_time": "2022-11-19T17:34:25.503Z"
   },
   {
    "duration": 13,
    "start_time": "2022-11-19T17:34:25.531Z"
   },
   {
    "duration": 40,
    "start_time": "2022-11-19T17:34:25.546Z"
   },
   {
    "duration": 15,
    "start_time": "2022-11-19T17:34:25.591Z"
   },
   {
    "duration": 8,
    "start_time": "2022-11-19T17:34:25.607Z"
   },
   {
    "duration": 713,
    "start_time": "2022-11-19T17:34:25.616Z"
   },
   {
    "duration": 6,
    "start_time": "2022-11-19T17:34:26.331Z"
   },
   {
    "duration": 20,
    "start_time": "2022-11-19T17:34:26.339Z"
   },
   {
    "duration": 17,
    "start_time": "2022-11-19T17:34:26.361Z"
   },
   {
    "duration": 15,
    "start_time": "2022-11-19T17:34:26.380Z"
   },
   {
    "duration": 39,
    "start_time": "2022-11-19T17:34:48.082Z"
   },
   {
    "duration": 43,
    "start_time": "2022-11-19T17:34:57.819Z"
   },
   {
    "duration": 26,
    "start_time": "2022-11-19T17:35:10.114Z"
   },
   {
    "duration": 31,
    "start_time": "2022-11-19T17:35:29.615Z"
   },
   {
    "duration": 21,
    "start_time": "2022-11-19T17:37:29.891Z"
   },
   {
    "duration": 99,
    "start_time": "2022-11-19T17:37:34.056Z"
   },
   {
    "duration": 24,
    "start_time": "2022-11-19T17:37:34.161Z"
   },
   {
    "duration": 22,
    "start_time": "2022-11-19T17:37:34.187Z"
   },
   {
    "duration": 80,
    "start_time": "2022-11-19T17:37:34.212Z"
   },
   {
    "duration": 28,
    "start_time": "2022-11-19T17:37:34.294Z"
   },
   {
    "duration": 25,
    "start_time": "2022-11-19T17:37:34.323Z"
   },
   {
    "duration": 1972,
    "start_time": "2022-11-19T17:37:34.350Z"
   },
   {
    "duration": 11,
    "start_time": "2022-11-19T17:37:36.323Z"
   },
   {
    "duration": 26,
    "start_time": "2022-11-19T17:37:36.335Z"
   },
   {
    "duration": 11,
    "start_time": "2022-11-19T17:37:36.377Z"
   },
   {
    "duration": 32,
    "start_time": "2022-11-19T17:37:36.390Z"
   },
   {
    "duration": 19,
    "start_time": "2022-11-19T17:37:36.424Z"
   },
   {
    "duration": 27,
    "start_time": "2022-11-19T17:37:36.445Z"
   },
   {
    "duration": 194,
    "start_time": "2022-11-19T17:37:36.474Z"
   },
   {
    "duration": 20,
    "start_time": "2022-11-19T17:37:36.670Z"
   },
   {
    "duration": 29,
    "start_time": "2022-11-19T17:37:36.692Z"
   },
   {
    "duration": 32,
    "start_time": "2022-11-19T17:37:36.723Z"
   },
   {
    "duration": 708,
    "start_time": "2022-11-19T17:37:36.757Z"
   },
   {
    "duration": 13,
    "start_time": "2022-11-19T17:37:37.466Z"
   },
   {
    "duration": 35,
    "start_time": "2022-11-19T17:37:37.480Z"
   },
   {
    "duration": 16,
    "start_time": "2022-11-19T17:37:37.517Z"
   },
   {
    "duration": 29,
    "start_time": "2022-11-19T17:37:37.534Z"
   },
   {
    "duration": 11,
    "start_time": "2022-11-19T17:37:39.127Z"
   },
   {
    "duration": 31,
    "start_time": "2022-11-19T17:37:46.285Z"
   },
   {
    "duration": 70,
    "start_time": "2022-11-19T17:37:58.401Z"
   },
   {
    "duration": 12,
    "start_time": "2022-11-19T17:38:02.084Z"
   },
   {
    "duration": 9,
    "start_time": "2022-11-19T17:38:07.245Z"
   },
   {
    "duration": 1191,
    "start_time": "2022-11-19T17:45:08.599Z"
   },
   {
    "duration": 6,
    "start_time": "2022-11-19T17:45:17.762Z"
   },
   {
    "duration": 6,
    "start_time": "2022-11-19T17:45:36.420Z"
   },
   {
    "duration": 6,
    "start_time": "2022-11-19T17:45:49.083Z"
   },
   {
    "duration": 5,
    "start_time": "2022-11-19T17:45:53.216Z"
   },
   {
    "duration": 7,
    "start_time": "2022-11-19T17:46:16.563Z"
   },
   {
    "duration": 4,
    "start_time": "2022-11-19T17:48:33.066Z"
   },
   {
    "duration": 6,
    "start_time": "2022-11-19T17:49:09.675Z"
   },
   {
    "duration": 3,
    "start_time": "2022-11-19T17:51:26.205Z"
   },
   {
    "duration": 6,
    "start_time": "2022-11-19T17:52:00.323Z"
   },
   {
    "duration": 6,
    "start_time": "2022-11-19T17:52:04.120Z"
   },
   {
    "duration": 6,
    "start_time": "2022-11-19T17:52:09.339Z"
   },
   {
    "duration": 10,
    "start_time": "2022-11-19T17:52:11.100Z"
   },
   {
    "duration": 9,
    "start_time": "2022-11-19T17:52:14.124Z"
   },
   {
    "duration": 8,
    "start_time": "2022-11-19T17:52:20.125Z"
   },
   {
    "duration": 5,
    "start_time": "2022-11-19T17:52:37.406Z"
   },
   {
    "duration": 77,
    "start_time": "2022-11-19T17:53:16.129Z"
   },
   {
    "duration": 6,
    "start_time": "2022-11-19T17:53:19.491Z"
   },
   {
    "duration": 26,
    "start_time": "2022-11-19T17:53:30.691Z"
   },
   {
    "duration": 5,
    "start_time": "2022-11-19T17:54:51.659Z"
   },
   {
    "duration": 9,
    "start_time": "2022-11-19T17:55:43.987Z"
   },
   {
    "duration": 11,
    "start_time": "2022-11-19T17:55:53.250Z"
   },
   {
    "duration": 27,
    "start_time": "2022-11-19T17:56:12.277Z"
   },
   {
    "duration": 10,
    "start_time": "2022-11-19T17:56:50.741Z"
   },
   {
    "duration": 6,
    "start_time": "2022-11-19T17:57:11.556Z"
   },
   {
    "duration": 12,
    "start_time": "2022-11-19T17:57:48.777Z"
   },
   {
    "duration": 7,
    "start_time": "2022-11-19T17:57:53.359Z"
   },
   {
    "duration": 633,
    "start_time": "2022-11-19T20:18:51.187Z"
   },
   {
    "duration": 13,
    "start_time": "2022-11-19T20:18:51.822Z"
   },
   {
    "duration": 19,
    "start_time": "2022-11-19T20:18:51.836Z"
   },
   {
    "duration": 70,
    "start_time": "2022-11-19T20:18:51.857Z"
   },
   {
    "duration": 26,
    "start_time": "2022-11-19T20:18:51.928Z"
   },
   {
    "duration": 12,
    "start_time": "2022-11-19T20:18:51.956Z"
   },
   {
    "duration": 2207,
    "start_time": "2022-11-19T20:18:51.970Z"
   },
   {
    "duration": 9,
    "start_time": "2022-11-19T20:18:54.179Z"
   },
   {
    "duration": 27,
    "start_time": "2022-11-19T20:18:54.190Z"
   },
   {
    "duration": 8,
    "start_time": "2022-11-19T20:18:54.220Z"
   },
   {
    "duration": 15,
    "start_time": "2022-11-19T20:18:54.230Z"
   },
   {
    "duration": 5,
    "start_time": "2022-11-19T20:18:54.246Z"
   },
   {
    "duration": 15,
    "start_time": "2022-11-19T20:18:54.253Z"
   },
   {
    "duration": 10,
    "start_time": "2022-11-19T20:18:54.270Z"
   },
   {
    "duration": 12,
    "start_time": "2022-11-19T20:18:54.282Z"
   },
   {
    "duration": 9,
    "start_time": "2022-11-19T20:18:54.295Z"
   },
   {
    "duration": 30,
    "start_time": "2022-11-19T20:18:54.306Z"
   },
   {
    "duration": 586,
    "start_time": "2022-11-19T20:18:54.338Z"
   },
   {
    "duration": 11,
    "start_time": "2022-11-19T20:18:54.925Z"
   },
   {
    "duration": 25,
    "start_time": "2022-11-19T20:18:54.938Z"
   },
   {
    "duration": 7,
    "start_time": "2022-11-19T20:18:54.966Z"
   },
   {
    "duration": 10,
    "start_time": "2022-11-19T20:18:54.974Z"
   },
   {
    "duration": 8,
    "start_time": "2022-11-19T20:18:54.986Z"
   },
   {
    "duration": 3,
    "start_time": "2022-11-19T20:18:54.995Z"
   },
   {
    "duration": 6,
    "start_time": "2022-11-19T20:18:55.000Z"
   },
   {
    "duration": 7,
    "start_time": "2022-11-19T20:18:57.987Z"
   },
   {
    "duration": 78,
    "start_time": "2022-11-19T20:29:11.963Z"
   },
   {
    "duration": 10,
    "start_time": "2022-11-19T20:29:57.243Z"
   },
   {
    "duration": 5,
    "start_time": "2022-11-19T20:30:15.845Z"
   },
   {
    "duration": 6,
    "start_time": "2022-11-19T20:31:47.695Z"
   },
   {
    "duration": 10,
    "start_time": "2022-11-19T20:33:03.121Z"
   },
   {
    "duration": 11,
    "start_time": "2022-11-19T20:33:25.729Z"
   },
   {
    "duration": 16,
    "start_time": "2022-11-19T20:37:09.629Z"
   },
   {
    "duration": 1026,
    "start_time": "2022-11-19T20:37:31.065Z"
   },
   {
    "duration": 389,
    "start_time": "2022-11-19T20:37:54.982Z"
   },
   {
    "duration": 19,
    "start_time": "2022-11-19T20:40:26.568Z"
   },
   {
    "duration": 22,
    "start_time": "2022-11-19T20:46:08.398Z"
   },
   {
    "duration": 17,
    "start_time": "2022-11-19T20:51:24.664Z"
   },
   {
    "duration": 15,
    "start_time": "2022-11-19T20:52:02.139Z"
   },
   {
    "duration": 37,
    "start_time": "2022-11-19T20:52:20.191Z"
   },
   {
    "duration": 33,
    "start_time": "2022-11-19T20:52:45.183Z"
   },
   {
    "duration": 36,
    "start_time": "2022-11-19T20:55:25.172Z"
   },
   {
    "duration": 98,
    "start_time": "2022-11-19T20:56:02.405Z"
   },
   {
    "duration": 14,
    "start_time": "2022-11-19T20:56:02.506Z"
   },
   {
    "duration": 30,
    "start_time": "2022-11-19T20:56:02.522Z"
   },
   {
    "duration": 119,
    "start_time": "2022-11-19T20:56:02.555Z"
   },
   {
    "duration": 26,
    "start_time": "2022-11-19T20:56:02.676Z"
   },
   {
    "duration": 20,
    "start_time": "2022-11-19T20:56:02.703Z"
   },
   {
    "duration": 1930,
    "start_time": "2022-11-19T20:56:02.736Z"
   },
   {
    "duration": 10,
    "start_time": "2022-11-19T20:56:04.667Z"
   },
   {
    "duration": 22,
    "start_time": "2022-11-19T20:56:04.679Z"
   },
   {
    "duration": 9,
    "start_time": "2022-11-19T20:56:04.703Z"
   },
   {
    "duration": 43,
    "start_time": "2022-11-19T20:56:04.713Z"
   },
   {
    "duration": 6,
    "start_time": "2022-11-19T20:56:04.757Z"
   },
   {
    "duration": 26,
    "start_time": "2022-11-19T20:56:04.765Z"
   },
   {
    "duration": 20,
    "start_time": "2022-11-19T20:56:04.794Z"
   },
   {
    "duration": 12,
    "start_time": "2022-11-19T20:56:04.816Z"
   },
   {
    "duration": 14,
    "start_time": "2022-11-19T20:56:04.830Z"
   },
   {
    "duration": 13,
    "start_time": "2022-11-19T20:56:04.845Z"
   },
   {
    "duration": 649,
    "start_time": "2022-11-19T20:56:04.859Z"
   },
   {
    "duration": 6,
    "start_time": "2022-11-19T20:56:05.510Z"
   },
   {
    "duration": 39,
    "start_time": "2022-11-19T20:56:05.524Z"
   },
   {
    "duration": 27,
    "start_time": "2022-11-19T20:56:05.565Z"
   },
   {
    "duration": 17,
    "start_time": "2022-11-19T20:56:05.593Z"
   },
   {
    "duration": 22,
    "start_time": "2022-11-19T20:56:05.612Z"
   },
   {
    "duration": 10,
    "start_time": "2022-11-19T20:56:05.635Z"
   },
   {
    "duration": 8,
    "start_time": "2022-11-19T20:56:05.646Z"
   },
   {
    "duration": 12,
    "start_time": "2022-11-19T20:56:05.656Z"
   },
   {
    "duration": 38,
    "start_time": "2022-11-19T20:56:25.944Z"
   },
   {
    "duration": 76,
    "start_time": "2022-11-19T20:56:41.248Z"
   },
   {
    "duration": 11,
    "start_time": "2022-11-19T20:56:41.326Z"
   },
   {
    "duration": 24,
    "start_time": "2022-11-19T20:56:41.338Z"
   },
   {
    "duration": 96,
    "start_time": "2022-11-19T20:56:41.363Z"
   },
   {
    "duration": 23,
    "start_time": "2022-11-19T20:56:41.461Z"
   },
   {
    "duration": 42,
    "start_time": "2022-11-19T20:56:41.485Z"
   },
   {
    "duration": 1918,
    "start_time": "2022-11-19T20:56:41.529Z"
   },
   {
    "duration": 8,
    "start_time": "2022-11-19T20:56:43.449Z"
   },
   {
    "duration": 19,
    "start_time": "2022-11-19T20:56:43.459Z"
   },
   {
    "duration": 10,
    "start_time": "2022-11-19T20:56:43.480Z"
   },
   {
    "duration": 14,
    "start_time": "2022-11-19T20:56:43.492Z"
   },
   {
    "duration": 32,
    "start_time": "2022-11-19T20:56:43.508Z"
   },
   {
    "duration": 13,
    "start_time": "2022-11-19T20:56:43.542Z"
   },
   {
    "duration": 21,
    "start_time": "2022-11-19T20:56:43.557Z"
   },
   {
    "duration": 14,
    "start_time": "2022-11-19T20:56:43.580Z"
   },
   {
    "duration": 17,
    "start_time": "2022-11-19T20:56:43.596Z"
   },
   {
    "duration": 21,
    "start_time": "2022-11-19T20:56:43.615Z"
   },
   {
    "duration": 614,
    "start_time": "2022-11-19T20:56:43.638Z"
   },
   {
    "duration": 5,
    "start_time": "2022-11-19T20:56:44.254Z"
   },
   {
    "duration": 20,
    "start_time": "2022-11-19T20:56:44.261Z"
   },
   {
    "duration": 5,
    "start_time": "2022-11-19T20:56:44.283Z"
   },
   {
    "duration": 17,
    "start_time": "2022-11-19T20:56:44.290Z"
   },
   {
    "duration": 15,
    "start_time": "2022-11-19T20:56:44.309Z"
   },
   {
    "duration": 12,
    "start_time": "2022-11-19T20:56:44.325Z"
   },
   {
    "duration": 10,
    "start_time": "2022-11-19T20:56:44.339Z"
   },
   {
    "duration": 14,
    "start_time": "2022-11-19T20:56:44.350Z"
   },
   {
    "duration": 37,
    "start_time": "2022-11-19T20:56:53.175Z"
   },
   {
    "duration": 37,
    "start_time": "2022-11-19T21:00:56.101Z"
   },
   {
    "duration": 21,
    "start_time": "2022-11-19T21:02:41.713Z"
   },
   {
    "duration": 77,
    "start_time": "2022-11-19T21:03:10.405Z"
   },
   {
    "duration": 10,
    "start_time": "2022-11-19T21:03:10.483Z"
   },
   {
    "duration": 10,
    "start_time": "2022-11-19T21:03:10.494Z"
   },
   {
    "duration": 81,
    "start_time": "2022-11-19T21:03:10.506Z"
   },
   {
    "duration": 21,
    "start_time": "2022-11-19T21:03:10.589Z"
   },
   {
    "duration": 23,
    "start_time": "2022-11-19T21:03:10.611Z"
   },
   {
    "duration": 1778,
    "start_time": "2022-11-19T21:03:10.635Z"
   },
   {
    "duration": 26,
    "start_time": "2022-11-19T21:03:12.415Z"
   },
   {
    "duration": 21,
    "start_time": "2022-11-19T21:03:12.444Z"
   },
   {
    "duration": 12,
    "start_time": "2022-11-19T21:03:12.467Z"
   },
   {
    "duration": 21,
    "start_time": "2022-11-19T21:03:12.481Z"
   },
   {
    "duration": 23,
    "start_time": "2022-11-19T21:03:12.504Z"
   },
   {
    "duration": 35,
    "start_time": "2022-11-19T21:03:12.529Z"
   },
   {
    "duration": 14,
    "start_time": "2022-11-19T21:03:12.566Z"
   },
   {
    "duration": 21,
    "start_time": "2022-11-19T21:03:12.582Z"
   },
   {
    "duration": 20,
    "start_time": "2022-11-19T21:03:16.497Z"
   },
   {
    "duration": 19,
    "start_time": "2022-11-19T21:05:05.338Z"
   },
   {
    "duration": 14,
    "start_time": "2022-11-19T21:05:17.011Z"
   },
   {
    "duration": 13,
    "start_time": "2022-11-19T21:05:49.557Z"
   },
   {
    "duration": 7,
    "start_time": "2022-11-19T21:05:50.876Z"
   },
   {
    "duration": 581,
    "start_time": "2022-11-19T21:05:51.192Z"
   },
   {
    "duration": 5,
    "start_time": "2022-11-19T21:05:51.775Z"
   },
   {
    "duration": 16,
    "start_time": "2022-11-19T21:05:51.815Z"
   },
   {
    "duration": 6,
    "start_time": "2022-11-19T21:05:52.142Z"
   },
   {
    "duration": 12,
    "start_time": "2022-11-19T21:05:52.462Z"
   },
   {
    "duration": 9,
    "start_time": "2022-11-19T21:05:52.785Z"
   },
   {
    "duration": 3,
    "start_time": "2022-11-19T21:05:53.095Z"
   },
   {
    "duration": 4,
    "start_time": "2022-11-19T21:05:53.410Z"
   },
   {
    "duration": 6,
    "start_time": "2022-11-19T21:05:53.720Z"
   },
   {
    "duration": 35,
    "start_time": "2022-11-19T21:05:54.054Z"
   },
   {
    "duration": 18,
    "start_time": "2022-11-19T21:06:19.307Z"
   },
   {
    "duration": 12,
    "start_time": "2022-11-19T21:06:48.626Z"
   },
   {
    "duration": 605,
    "start_time": "2022-11-19T21:14:10.605Z"
   },
   {
    "duration": 350,
    "start_time": "2022-11-19T21:20:19.454Z"
   },
   {
    "duration": 391,
    "start_time": "2022-11-19T21:25:09.567Z"
   },
   {
    "duration": 303,
    "start_time": "2022-11-19T21:25:18.180Z"
   },
   {
    "duration": 324,
    "start_time": "2022-11-19T21:25:25.555Z"
   },
   {
    "duration": 87,
    "start_time": "2022-11-19T21:25:35.879Z"
   },
   {
    "duration": 12,
    "start_time": "2022-11-19T21:25:35.969Z"
   },
   {
    "duration": 31,
    "start_time": "2022-11-19T21:25:35.983Z"
   },
   {
    "duration": 88,
    "start_time": "2022-11-19T21:25:36.015Z"
   },
   {
    "duration": 30,
    "start_time": "2022-11-19T21:25:36.106Z"
   },
   {
    "duration": 62,
    "start_time": "2022-11-19T21:25:36.138Z"
   },
   {
    "duration": 1987,
    "start_time": "2022-11-19T21:25:36.202Z"
   },
   {
    "duration": 10,
    "start_time": "2022-11-19T21:25:38.191Z"
   },
   {
    "duration": 33,
    "start_time": "2022-11-19T21:25:38.202Z"
   },
   {
    "duration": 10,
    "start_time": "2022-11-19T21:25:38.237Z"
   },
   {
    "duration": 61,
    "start_time": "2022-11-19T21:25:38.248Z"
   },
   {
    "duration": 17,
    "start_time": "2022-11-19T21:25:38.311Z"
   },
   {
    "duration": 34,
    "start_time": "2022-11-19T21:25:38.330Z"
   },
   {
    "duration": 18,
    "start_time": "2022-11-19T21:25:38.367Z"
   },
   {
    "duration": 19,
    "start_time": "2022-11-19T21:25:38.387Z"
   },
   {
    "duration": 17,
    "start_time": "2022-11-19T21:25:38.408Z"
   },
   {
    "duration": 11,
    "start_time": "2022-11-19T21:25:38.427Z"
   },
   {
    "duration": 646,
    "start_time": "2022-11-19T21:25:38.440Z"
   },
   {
    "duration": 6,
    "start_time": "2022-11-19T21:25:39.089Z"
   },
   {
    "duration": 27,
    "start_time": "2022-11-19T21:25:39.096Z"
   },
   {
    "duration": 11,
    "start_time": "2022-11-19T21:25:39.125Z"
   },
   {
    "duration": 13,
    "start_time": "2022-11-19T21:25:39.138Z"
   },
   {
    "duration": 20,
    "start_time": "2022-11-19T21:25:39.152Z"
   },
   {
    "duration": 4,
    "start_time": "2022-11-19T21:25:39.174Z"
   },
   {
    "duration": 16,
    "start_time": "2022-11-19T21:25:39.179Z"
   },
   {
    "duration": 14,
    "start_time": "2022-11-19T21:25:39.196Z"
   },
   {
    "duration": 17,
    "start_time": "2022-11-19T21:25:39.211Z"
   },
   {
    "duration": 13,
    "start_time": "2022-11-19T21:25:41.385Z"
   },
   {
    "duration": 371,
    "start_time": "2022-11-19T21:25:42.006Z"
   },
   {
    "duration": 406,
    "start_time": "2022-11-19T21:26:33.560Z"
   },
   {
    "duration": 317,
    "start_time": "2022-11-19T21:27:30.654Z"
   },
   {
    "duration": 328,
    "start_time": "2022-11-19T21:27:40.008Z"
   },
   {
    "duration": 391,
    "start_time": "2022-11-19T21:28:23.221Z"
   },
   {
    "duration": 353,
    "start_time": "2022-11-19T21:29:17.272Z"
   },
   {
    "duration": 28,
    "start_time": "2022-11-19T21:29:37.477Z"
   },
   {
    "duration": 85,
    "start_time": "2022-11-19T21:37:26.494Z"
   },
   {
    "duration": 802,
    "start_time": "2022-11-19T21:39:51.780Z"
   },
   {
    "duration": 826,
    "start_time": "2022-11-19T21:40:26.393Z"
   },
   {
    "duration": 690,
    "start_time": "2022-11-19T21:42:32.776Z"
   },
   {
    "duration": 88,
    "start_time": "2022-11-19T21:42:57.085Z"
   },
   {
    "duration": 12,
    "start_time": "2022-11-19T21:42:57.175Z"
   },
   {
    "duration": 21,
    "start_time": "2022-11-19T21:42:57.188Z"
   },
   {
    "duration": 75,
    "start_time": "2022-11-19T21:42:57.211Z"
   },
   {
    "duration": 24,
    "start_time": "2022-11-19T21:42:57.288Z"
   },
   {
    "duration": 29,
    "start_time": "2022-11-19T21:42:57.314Z"
   },
   {
    "duration": 1916,
    "start_time": "2022-11-19T21:42:57.344Z"
   },
   {
    "duration": 10,
    "start_time": "2022-11-19T21:42:59.262Z"
   },
   {
    "duration": 38,
    "start_time": "2022-11-19T21:42:59.273Z"
   },
   {
    "duration": 14,
    "start_time": "2022-11-19T21:42:59.313Z"
   },
   {
    "duration": 16,
    "start_time": "2022-11-19T21:42:59.336Z"
   },
   {
    "duration": 18,
    "start_time": "2022-11-19T21:42:59.353Z"
   },
   {
    "duration": 14,
    "start_time": "2022-11-19T21:42:59.372Z"
   },
   {
    "duration": 12,
    "start_time": "2022-11-19T21:42:59.388Z"
   },
   {
    "duration": 15,
    "start_time": "2022-11-19T21:42:59.401Z"
   },
   {
    "duration": 27,
    "start_time": "2022-11-19T21:42:59.418Z"
   },
   {
    "duration": 18,
    "start_time": "2022-11-19T21:42:59.446Z"
   },
   {
    "duration": 673,
    "start_time": "2022-11-19T21:42:59.465Z"
   },
   {
    "duration": 6,
    "start_time": "2022-11-19T21:43:00.140Z"
   },
   {
    "duration": 110,
    "start_time": "2022-11-19T21:43:00.147Z"
   },
   {
    "duration": 29,
    "start_time": "2022-11-19T21:43:00.259Z"
   },
   {
    "duration": 41,
    "start_time": "2022-11-19T21:43:00.290Z"
   },
   {
    "duration": 30,
    "start_time": "2022-11-19T21:43:00.333Z"
   },
   {
    "duration": 105,
    "start_time": "2022-11-19T21:43:00.365Z"
   },
   {
    "duration": 49,
    "start_time": "2022-11-19T21:43:00.471Z"
   },
   {
    "duration": 47,
    "start_time": "2022-11-19T21:43:00.522Z"
   },
   {
    "duration": 446,
    "start_time": "2022-11-19T21:43:00.571Z"
   },
   {
    "duration": 39,
    "start_time": "2022-11-19T21:43:01.019Z"
   },
   {
    "duration": 132,
    "start_time": "2022-11-19T21:43:04.139Z"
   },
   {
    "duration": 147,
    "start_time": "2022-11-19T21:43:45.760Z"
   },
   {
    "duration": 146,
    "start_time": "2022-11-19T21:43:53.795Z"
   },
   {
    "duration": 153,
    "start_time": "2022-11-19T21:44:01.998Z"
   },
   {
    "duration": 149,
    "start_time": "2022-11-19T21:44:10.923Z"
   },
   {
    "duration": 130,
    "start_time": "2022-11-19T21:44:16.081Z"
   },
   {
    "duration": 139,
    "start_time": "2022-11-19T21:44:20.885Z"
   },
   {
    "duration": 174,
    "start_time": "2022-11-19T21:44:29.920Z"
   },
   {
    "duration": 159,
    "start_time": "2022-11-19T21:46:02.319Z"
   },
   {
    "duration": 217,
    "start_time": "2022-11-19T21:47:04.858Z"
   },
   {
    "duration": 145,
    "start_time": "2022-11-19T21:52:23.819Z"
   },
   {
    "duration": 170,
    "start_time": "2022-11-19T21:53:05.980Z"
   },
   {
    "duration": 143,
    "start_time": "2022-11-19T21:53:41.208Z"
   },
   {
    "duration": 128,
    "start_time": "2022-11-19T21:53:45.686Z"
   },
   {
    "duration": 141,
    "start_time": "2022-11-19T21:53:48.889Z"
   },
   {
    "duration": 52,
    "start_time": "2022-11-19T21:53:56.212Z"
   },
   {
    "duration": 43,
    "start_time": "2022-11-19T21:53:59.156Z"
   },
   {
    "duration": 145,
    "start_time": "2022-11-19T21:54:10.823Z"
   },
   {
    "duration": 179,
    "start_time": "2022-11-19T21:54:14.137Z"
   },
   {
    "duration": 162,
    "start_time": "2022-11-19T21:54:26.138Z"
   },
   {
    "duration": 141,
    "start_time": "2022-11-19T21:54:32.720Z"
   },
   {
    "duration": 238,
    "start_time": "2022-11-19T21:54:38.028Z"
   },
   {
    "duration": 9,
    "start_time": "2022-11-19T21:59:19.990Z"
   },
   {
    "duration": 8,
    "start_time": "2022-11-19T21:59:23.155Z"
   },
   {
    "duration": 5,
    "start_time": "2022-11-19T21:59:30.893Z"
   },
   {
    "duration": 5,
    "start_time": "2022-11-19T21:59:34.677Z"
   },
   {
    "duration": 140,
    "start_time": "2022-11-19T22:02:29.870Z"
   },
   {
    "duration": 151,
    "start_time": "2022-11-19T22:03:25.964Z"
   },
   {
    "duration": 176,
    "start_time": "2022-11-19T22:03:35.492Z"
   },
   {
    "duration": 164,
    "start_time": "2022-11-19T22:03:39.012Z"
   },
   {
    "duration": 136,
    "start_time": "2022-11-19T22:03:43.301Z"
   },
   {
    "duration": 48,
    "start_time": "2022-11-19T22:04:12.931Z"
   },
   {
    "duration": 144,
    "start_time": "2022-11-19T22:04:28.993Z"
   },
   {
    "duration": 124,
    "start_time": "2022-11-19T22:05:03.964Z"
   },
   {
    "duration": 122,
    "start_time": "2022-11-19T22:05:07.497Z"
   },
   {
    "duration": 131,
    "start_time": "2022-11-19T22:05:12.674Z"
   },
   {
    "duration": 146,
    "start_time": "2022-11-19T22:05:22.333Z"
   },
   {
    "duration": 133,
    "start_time": "2022-11-19T22:05:26.485Z"
   },
   {
    "duration": 224,
    "start_time": "2022-11-19T22:06:49.297Z"
   },
   {
    "duration": 128,
    "start_time": "2022-11-19T22:07:34.705Z"
   },
   {
    "duration": 129,
    "start_time": "2022-11-19T22:07:37.181Z"
   },
   {
    "duration": 150,
    "start_time": "2022-11-19T22:07:39.936Z"
   },
   {
    "duration": 164,
    "start_time": "2022-11-19T22:07:48.005Z"
   },
   {
    "duration": 140,
    "start_time": "2022-11-19T22:07:54.327Z"
   },
   {
    "duration": 141,
    "start_time": "2022-11-19T22:08:24.161Z"
   },
   {
    "duration": 145,
    "start_time": "2022-11-19T22:08:26.417Z"
   },
   {
    "duration": 132,
    "start_time": "2022-11-19T22:08:28.173Z"
   },
   {
    "duration": 153,
    "start_time": "2022-11-19T22:08:32.209Z"
   },
   {
    "duration": 152,
    "start_time": "2022-11-19T22:08:35.430Z"
   },
   {
    "duration": 167,
    "start_time": "2022-11-19T22:09:05.989Z"
   },
   {
    "duration": 129,
    "start_time": "2022-11-19T22:09:22.582Z"
   },
   {
    "duration": 136,
    "start_time": "2022-11-19T22:09:30.805Z"
   },
   {
    "duration": 121,
    "start_time": "2022-11-19T22:09:43.208Z"
   },
   {
    "duration": 7,
    "start_time": "2022-11-19T22:10:49.136Z"
   },
   {
    "duration": 135,
    "start_time": "2022-11-19T22:12:18.858Z"
   },
   {
    "duration": 300,
    "start_time": "2022-11-19T22:12:32.512Z"
   },
   {
    "duration": 128,
    "start_time": "2022-11-19T22:12:44.857Z"
   },
   {
    "duration": 157,
    "start_time": "2022-11-19T22:12:49.574Z"
   },
   {
    "duration": 112,
    "start_time": "2022-11-19T22:13:40.210Z"
   },
   {
    "duration": 134,
    "start_time": "2022-11-19T22:13:46.118Z"
   },
   {
    "duration": 122,
    "start_time": "2022-11-19T22:13:52.887Z"
   },
   {
    "duration": 130,
    "start_time": "2022-11-19T22:14:38.477Z"
   },
   {
    "duration": 138,
    "start_time": "2022-11-19T22:15:05.748Z"
   },
   {
    "duration": 165,
    "start_time": "2022-11-19T22:16:46.721Z"
   },
   {
    "duration": 46,
    "start_time": "2022-11-19T22:17:09.721Z"
   },
   {
    "duration": 148,
    "start_time": "2022-11-19T22:17:12.269Z"
   },
   {
    "duration": 139,
    "start_time": "2022-11-19T22:20:23.588Z"
   },
   {
    "duration": 137,
    "start_time": "2022-11-19T22:20:30.907Z"
   },
   {
    "duration": 119,
    "start_time": "2022-11-19T22:23:12.819Z"
   },
   {
    "duration": 126,
    "start_time": "2022-11-19T22:23:29.967Z"
   },
   {
    "duration": 155,
    "start_time": "2022-11-19T22:23:41.374Z"
   },
   {
    "duration": 144,
    "start_time": "2022-11-19T22:23:47.119Z"
   },
   {
    "duration": 134,
    "start_time": "2022-11-19T22:23:52.668Z"
   },
   {
    "duration": 131,
    "start_time": "2022-11-19T22:23:55.246Z"
   },
   {
    "duration": 129,
    "start_time": "2022-11-19T22:25:59.984Z"
   },
   {
    "duration": 312,
    "start_time": "2022-11-19T22:26:06.508Z"
   },
   {
    "duration": 117,
    "start_time": "2022-11-19T22:26:09.477Z"
   },
   {
    "duration": 133,
    "start_time": "2022-11-19T22:28:01.615Z"
   },
   {
    "duration": 156,
    "start_time": "2022-11-19T22:28:07.134Z"
   },
   {
    "duration": 152,
    "start_time": "2022-11-19T22:28:40.230Z"
   },
   {
    "duration": 194,
    "start_time": "2022-11-19T22:28:45.554Z"
   },
   {
    "duration": 184,
    "start_time": "2022-11-19T22:28:52.649Z"
   },
   {
    "duration": 12,
    "start_time": "2022-11-19T22:31:54.810Z"
   },
   {
    "duration": 733,
    "start_time": "2022-11-19T22:32:29.733Z"
   },
   {
    "duration": 743,
    "start_time": "2022-11-19T22:32:35.635Z"
   },
   {
    "duration": 258,
    "start_time": "2022-11-19T22:33:19.647Z"
   },
   {
    "duration": 198,
    "start_time": "2022-11-19T22:33:38.885Z"
   },
   {
    "duration": 199,
    "start_time": "2022-11-19T22:33:43.351Z"
   },
   {
    "duration": 223,
    "start_time": "2022-11-19T22:34:10.268Z"
   },
   {
    "duration": 140,
    "start_time": "2022-11-19T22:34:35.181Z"
   },
   {
    "duration": 141,
    "start_time": "2022-11-19T22:36:03.489Z"
   },
   {
    "duration": 123,
    "start_time": "2022-11-19T22:36:11.857Z"
   },
   {
    "duration": 145,
    "start_time": "2022-11-19T22:56:22.255Z"
   },
   {
    "duration": 131,
    "start_time": "2022-11-19T22:57:40.528Z"
   },
   {
    "duration": 134,
    "start_time": "2022-11-19T22:58:33.023Z"
   },
   {
    "duration": 125,
    "start_time": "2022-11-19T22:59:18.564Z"
   },
   {
    "duration": 136,
    "start_time": "2022-11-19T22:59:27.553Z"
   },
   {
    "duration": 159,
    "start_time": "2022-11-19T23:01:59.331Z"
   },
   {
    "duration": 10,
    "start_time": "2022-11-19T23:04:20.076Z"
   },
   {
    "duration": 8,
    "start_time": "2022-11-19T23:04:43.777Z"
   },
   {
    "duration": 9,
    "start_time": "2022-11-19T23:04:51.225Z"
   },
   {
    "duration": 12,
    "start_time": "2022-11-19T23:05:05.772Z"
   },
   {
    "duration": 11,
    "start_time": "2022-11-19T23:05:08.255Z"
   },
   {
    "duration": 9,
    "start_time": "2022-11-19T23:05:42.557Z"
   },
   {
    "duration": 68,
    "start_time": "2022-11-20T13:28:43.612Z"
   },
   {
    "duration": 633,
    "start_time": "2022-11-20T13:28:49.427Z"
   },
   {
    "duration": 13,
    "start_time": "2022-11-20T13:28:50.062Z"
   },
   {
    "duration": 16,
    "start_time": "2022-11-20T13:28:50.077Z"
   },
   {
    "duration": 72,
    "start_time": "2022-11-20T13:28:50.095Z"
   },
   {
    "duration": 24,
    "start_time": "2022-11-20T13:28:50.168Z"
   },
   {
    "duration": 13,
    "start_time": "2022-11-20T13:28:50.194Z"
   },
   {
    "duration": 2203,
    "start_time": "2022-11-20T13:28:50.208Z"
   },
   {
    "duration": 13,
    "start_time": "2022-11-20T13:28:52.413Z"
   },
   {
    "duration": 43,
    "start_time": "2022-11-20T13:28:52.428Z"
   },
   {
    "duration": 12,
    "start_time": "2022-11-20T13:28:52.474Z"
   },
   {
    "duration": 19,
    "start_time": "2022-11-20T13:28:52.488Z"
   },
   {
    "duration": 8,
    "start_time": "2022-11-20T13:28:52.510Z"
   },
   {
    "duration": 39,
    "start_time": "2022-11-20T13:28:52.520Z"
   },
   {
    "duration": 19,
    "start_time": "2022-11-20T13:28:52.561Z"
   },
   {
    "duration": 29,
    "start_time": "2022-11-20T13:28:52.582Z"
   },
   {
    "duration": 15,
    "start_time": "2022-11-20T13:28:52.613Z"
   },
   {
    "duration": 6,
    "start_time": "2022-11-20T13:28:52.630Z"
   },
   {
    "duration": 589,
    "start_time": "2022-11-20T13:28:52.638Z"
   },
   {
    "duration": 5,
    "start_time": "2022-11-20T13:28:53.229Z"
   },
   {
    "duration": 23,
    "start_time": "2022-11-20T13:28:53.236Z"
   },
   {
    "duration": 5,
    "start_time": "2022-11-20T13:28:53.260Z"
   },
   {
    "duration": 11,
    "start_time": "2022-11-20T13:28:53.267Z"
   },
   {
    "duration": 9,
    "start_time": "2022-11-20T13:28:53.279Z"
   },
   {
    "duration": 4,
    "start_time": "2022-11-20T13:28:53.290Z"
   },
   {
    "duration": 7,
    "start_time": "2022-11-20T13:28:53.296Z"
   },
   {
    "duration": 12,
    "start_time": "2022-11-20T13:28:53.305Z"
   },
   {
    "duration": 353,
    "start_time": "2022-11-20T13:28:53.319Z"
   },
   {
    "duration": 28,
    "start_time": "2022-11-20T13:28:53.675Z"
   },
   {
    "duration": 154,
    "start_time": "2022-11-20T13:28:53.705Z"
   },
   {
    "duration": 149,
    "start_time": "2022-11-20T13:28:53.860Z"
   },
   {
    "duration": 243,
    "start_time": "2022-11-20T13:28:54.011Z"
   },
   {
    "duration": 165,
    "start_time": "2022-11-20T13:28:54.256Z"
   },
   {
    "duration": 153,
    "start_time": "2022-11-20T13:28:54.423Z"
   },
   {
    "duration": 148,
    "start_time": "2022-11-20T13:28:54.579Z"
   },
   {
    "duration": 159,
    "start_time": "2022-11-20T13:28:54.729Z"
   },
   {
    "duration": 150,
    "start_time": "2022-11-20T13:28:54.890Z"
   },
   {
    "duration": 161,
    "start_time": "2022-11-20T13:28:55.042Z"
   },
   {
    "duration": 155,
    "start_time": "2022-11-20T13:28:55.204Z"
   },
   {
    "duration": 140,
    "start_time": "2022-11-20T13:28:55.360Z"
   },
   {
    "duration": 154,
    "start_time": "2022-11-20T13:28:55.501Z"
   },
   {
    "duration": 138,
    "start_time": "2022-11-20T13:28:55.657Z"
   },
   {
    "duration": 204,
    "start_time": "2022-11-20T13:28:55.797Z"
   },
   {
    "duration": 155,
    "start_time": "2022-11-20T13:28:56.003Z"
   },
   {
    "duration": 154,
    "start_time": "2022-11-20T13:28:56.160Z"
   },
   {
    "duration": 158,
    "start_time": "2022-11-20T13:28:56.316Z"
   },
   {
    "duration": 129,
    "start_time": "2022-11-20T13:28:56.476Z"
   },
   {
    "duration": 174,
    "start_time": "2022-11-20T13:28:56.607Z"
   },
   {
    "duration": 13,
    "start_time": "2022-11-20T13:28:56.783Z"
   },
   {
    "duration": 193,
    "start_time": "2022-11-20T13:35:16.319Z"
   },
   {
    "duration": 184,
    "start_time": "2022-11-20T13:38:11.110Z"
   },
   {
    "duration": 137,
    "start_time": "2022-11-20T13:38:43.672Z"
   },
   {
    "duration": 187,
    "start_time": "2022-11-20T13:38:56.072Z"
   },
   {
    "duration": 161,
    "start_time": "2022-11-20T13:39:22.269Z"
   },
   {
    "duration": 298,
    "start_time": "2022-11-20T13:39:28.436Z"
   },
   {
    "duration": 178,
    "start_time": "2022-11-20T13:46:52.627Z"
   },
   {
    "duration": 194,
    "start_time": "2022-11-20T13:48:37.585Z"
   },
   {
    "duration": 164,
    "start_time": "2022-11-20T13:54:44.376Z"
   },
   {
    "duration": 168,
    "start_time": "2022-11-20T13:54:51.398Z"
   },
   {
    "duration": 187,
    "start_time": "2022-11-20T14:02:03.473Z"
   },
   {
    "duration": 199,
    "start_time": "2022-11-20T14:08:58.462Z"
   },
   {
    "duration": 191,
    "start_time": "2022-11-20T14:09:02.075Z"
   },
   {
    "duration": 24503,
    "start_time": "2022-11-20T14:09:08.609Z"
   },
   {
    "duration": 231,
    "start_time": "2022-11-20T14:18:54.603Z"
   },
   {
    "duration": 5,
    "start_time": "2022-11-20T14:22:27.082Z"
   },
   {
    "duration": 4,
    "start_time": "2022-11-20T14:22:52.289Z"
   },
   {
    "duration": 4,
    "start_time": "2022-11-20T14:22:59.345Z"
   },
   {
    "duration": 135,
    "start_time": "2022-11-20T14:23:18.121Z"
   },
   {
    "duration": 90,
    "start_time": "2022-11-20T14:23:32.398Z"
   },
   {
    "duration": 15,
    "start_time": "2022-11-20T14:23:32.490Z"
   },
   {
    "duration": 17,
    "start_time": "2022-11-20T14:23:32.507Z"
   },
   {
    "duration": 109,
    "start_time": "2022-11-20T14:23:32.526Z"
   },
   {
    "duration": 39,
    "start_time": "2022-11-20T14:23:32.639Z"
   },
   {
    "duration": 15,
    "start_time": "2022-11-20T14:23:32.680Z"
   },
   {
    "duration": 1800,
    "start_time": "2022-11-20T14:23:32.697Z"
   },
   {
    "duration": 9,
    "start_time": "2022-11-20T14:23:34.499Z"
   },
   {
    "duration": 25,
    "start_time": "2022-11-20T14:23:34.509Z"
   },
   {
    "duration": 19,
    "start_time": "2022-11-20T14:23:34.536Z"
   },
   {
    "duration": 15,
    "start_time": "2022-11-20T14:23:34.557Z"
   },
   {
    "duration": 11,
    "start_time": "2022-11-20T14:23:34.573Z"
   },
   {
    "duration": 11,
    "start_time": "2022-11-20T14:23:34.586Z"
   },
   {
    "duration": 14,
    "start_time": "2022-11-20T14:23:34.600Z"
   },
   {
    "duration": 47,
    "start_time": "2022-11-20T14:23:34.616Z"
   },
   {
    "duration": 16,
    "start_time": "2022-11-20T14:23:34.665Z"
   },
   {
    "duration": 10,
    "start_time": "2022-11-20T14:23:34.682Z"
   },
   {
    "duration": 603,
    "start_time": "2022-11-20T14:23:34.694Z"
   },
   {
    "duration": 6,
    "start_time": "2022-11-20T14:23:35.298Z"
   },
   {
    "duration": 25,
    "start_time": "2022-11-20T14:23:35.305Z"
   },
   {
    "duration": 10,
    "start_time": "2022-11-20T14:23:35.331Z"
   },
   {
    "duration": 22,
    "start_time": "2022-11-20T14:23:35.343Z"
   },
   {
    "duration": 22,
    "start_time": "2022-11-20T14:23:35.367Z"
   },
   {
    "duration": 24,
    "start_time": "2022-11-20T14:23:35.391Z"
   },
   {
    "duration": 15,
    "start_time": "2022-11-20T14:23:35.417Z"
   },
   {
    "duration": 15,
    "start_time": "2022-11-20T14:23:35.435Z"
   },
   {
    "duration": 54,
    "start_time": "2022-11-20T14:23:35.452Z"
   },
   {
    "duration": 331,
    "start_time": "2022-11-20T14:23:35.507Z"
   },
   {
    "duration": 33,
    "start_time": "2022-11-20T14:23:35.840Z"
   },
   {
    "duration": 149,
    "start_time": "2022-11-20T14:23:35.874Z"
   },
   {
    "duration": 144,
    "start_time": "2022-11-20T14:23:36.025Z"
   },
   {
    "duration": 132,
    "start_time": "2022-11-20T14:23:36.171Z"
   },
   {
    "duration": 149,
    "start_time": "2022-11-20T14:23:36.305Z"
   },
   {
    "duration": 144,
    "start_time": "2022-11-20T14:23:36.456Z"
   },
   {
    "duration": 139,
    "start_time": "2022-11-20T14:23:36.602Z"
   },
   {
    "duration": 155,
    "start_time": "2022-11-20T14:23:36.743Z"
   },
   {
    "duration": 168,
    "start_time": "2022-11-20T14:23:36.900Z"
   },
   {
    "duration": 154,
    "start_time": "2022-11-20T14:23:37.070Z"
   },
   {
    "duration": 152,
    "start_time": "2022-11-20T14:23:37.225Z"
   },
   {
    "duration": 132,
    "start_time": "2022-11-20T14:23:37.379Z"
   },
   {
    "duration": 190,
    "start_time": "2022-11-20T14:23:37.515Z"
   },
   {
    "duration": 171,
    "start_time": "2022-11-20T14:23:37.707Z"
   },
   {
    "duration": 152,
    "start_time": "2022-11-20T14:23:37.879Z"
   },
   {
    "duration": 168,
    "start_time": "2022-11-20T14:23:38.033Z"
   },
   {
    "duration": 164,
    "start_time": "2022-11-20T14:23:38.203Z"
   },
   {
    "duration": 157,
    "start_time": "2022-11-20T14:23:38.369Z"
   },
   {
    "duration": 144,
    "start_time": "2022-11-20T14:23:38.528Z"
   },
   {
    "duration": 174,
    "start_time": "2022-11-20T14:23:38.674Z"
   },
   {
    "duration": 11,
    "start_time": "2022-11-20T14:23:38.852Z"
   },
   {
    "duration": 260,
    "start_time": "2022-11-20T14:23:38.864Z"
   },
   {
    "duration": 192,
    "start_time": "2022-11-20T14:23:39.125Z"
   },
   {
    "duration": 195,
    "start_time": "2022-11-20T14:23:39.318Z"
   },
   {
    "duration": 208,
    "start_time": "2022-11-20T14:25:10.825Z"
   },
   {
    "duration": 14,
    "start_time": "2022-11-20T14:27:03.738Z"
   },
   {
    "duration": 16,
    "start_time": "2022-11-20T14:27:59.447Z"
   },
   {
    "duration": 1188,
    "start_time": "2022-11-20T14:28:47.495Z"
   },
   {
    "duration": 14,
    "start_time": "2022-11-20T14:29:38.326Z"
   },
   {
    "duration": 1264,
    "start_time": "2022-11-20T14:31:14.172Z"
   },
   {
    "duration": 76,
    "start_time": "2022-11-20T14:32:19.508Z"
   },
   {
    "duration": 11,
    "start_time": "2022-11-20T14:32:19.586Z"
   },
   {
    "duration": 11,
    "start_time": "2022-11-20T14:32:19.598Z"
   },
   {
    "duration": 83,
    "start_time": "2022-11-20T14:32:19.611Z"
   },
   {
    "duration": 25,
    "start_time": "2022-11-20T14:32:19.696Z"
   },
   {
    "duration": 32,
    "start_time": "2022-11-20T14:32:19.723Z"
   },
   {
    "duration": 1805,
    "start_time": "2022-11-20T14:32:19.757Z"
   },
   {
    "duration": 9,
    "start_time": "2022-11-20T14:32:21.564Z"
   },
   {
    "duration": 25,
    "start_time": "2022-11-20T14:32:21.574Z"
   },
   {
    "duration": 9,
    "start_time": "2022-11-20T14:32:21.601Z"
   },
   {
    "duration": 13,
    "start_time": "2022-11-20T14:32:21.611Z"
   },
   {
    "duration": 30,
    "start_time": "2022-11-20T14:32:21.626Z"
   },
   {
    "duration": 24,
    "start_time": "2022-11-20T14:32:21.657Z"
   },
   {
    "duration": 12,
    "start_time": "2022-11-20T14:32:21.682Z"
   },
   {
    "duration": 15,
    "start_time": "2022-11-20T14:32:21.696Z"
   },
   {
    "duration": 10,
    "start_time": "2022-11-20T14:32:21.713Z"
   },
   {
    "duration": 12,
    "start_time": "2022-11-20T14:32:21.725Z"
   },
   {
    "duration": 575,
    "start_time": "2022-11-20T14:32:21.753Z"
   },
   {
    "duration": 5,
    "start_time": "2022-11-20T14:32:22.329Z"
   },
   {
    "duration": 29,
    "start_time": "2022-11-20T14:32:22.335Z"
   },
   {
    "duration": 20,
    "start_time": "2022-11-20T14:32:22.366Z"
   },
   {
    "duration": 17,
    "start_time": "2022-11-20T14:32:22.388Z"
   },
   {
    "duration": 14,
    "start_time": "2022-11-20T14:32:22.407Z"
   },
   {
    "duration": 11,
    "start_time": "2022-11-20T14:32:22.423Z"
   },
   {
    "duration": 14,
    "start_time": "2022-11-20T14:32:22.436Z"
   },
   {
    "duration": 20,
    "start_time": "2022-11-20T14:32:22.452Z"
   },
   {
    "duration": 7,
    "start_time": "2022-11-20T14:32:22.474Z"
   },
   {
    "duration": 355,
    "start_time": "2022-11-20T14:32:22.485Z"
   },
   {
    "duration": 31,
    "start_time": "2022-11-20T14:32:22.842Z"
   },
   {
    "duration": 167,
    "start_time": "2022-11-20T14:32:22.875Z"
   },
   {
    "duration": 169,
    "start_time": "2022-11-20T14:32:23.044Z"
   },
   {
    "duration": 162,
    "start_time": "2022-11-20T14:32:23.215Z"
   },
   {
    "duration": 161,
    "start_time": "2022-11-20T14:32:23.379Z"
   },
   {
    "duration": 182,
    "start_time": "2022-11-20T14:32:23.542Z"
   },
   {
    "duration": 147,
    "start_time": "2022-11-20T14:32:23.726Z"
   },
   {
    "duration": 161,
    "start_time": "2022-11-20T14:32:23.875Z"
   },
   {
    "duration": 157,
    "start_time": "2022-11-20T14:32:24.037Z"
   },
   {
    "duration": 176,
    "start_time": "2022-11-20T14:32:24.195Z"
   },
   {
    "duration": 148,
    "start_time": "2022-11-20T14:32:24.372Z"
   },
   {
    "duration": 155,
    "start_time": "2022-11-20T14:32:24.521Z"
   },
   {
    "duration": 154,
    "start_time": "2022-11-20T14:32:24.678Z"
   },
   {
    "duration": 147,
    "start_time": "2022-11-20T14:32:24.834Z"
   },
   {
    "duration": 140,
    "start_time": "2022-11-20T14:32:24.983Z"
   },
   {
    "duration": 154,
    "start_time": "2022-11-20T14:32:25.124Z"
   },
   {
    "duration": 142,
    "start_time": "2022-11-20T14:32:25.280Z"
   },
   {
    "duration": 142,
    "start_time": "2022-11-20T14:32:25.424Z"
   },
   {
    "duration": 134,
    "start_time": "2022-11-20T14:32:25.567Z"
   },
   {
    "duration": 168,
    "start_time": "2022-11-20T14:32:25.703Z"
   },
   {
    "duration": 12,
    "start_time": "2022-11-20T14:32:25.873Z"
   },
   {
    "duration": 266,
    "start_time": "2022-11-20T14:32:25.886Z"
   },
   {
    "duration": 204,
    "start_time": "2022-11-20T14:32:26.154Z"
   },
   {
    "duration": 187,
    "start_time": "2022-11-20T14:32:26.360Z"
   },
   {
    "duration": 1151,
    "start_time": "2022-11-20T14:32:29.172Z"
   },
   {
    "duration": 1271,
    "start_time": "2022-11-20T14:32:57.300Z"
   },
   {
    "duration": 152,
    "start_time": "2022-11-20T14:34:23.347Z"
   },
   {
    "duration": 143,
    "start_time": "2022-11-20T14:35:30.572Z"
   },
   {
    "duration": 160,
    "start_time": "2022-11-20T14:35:34.752Z"
   },
   {
    "duration": 158,
    "start_time": "2022-11-20T14:37:04.192Z"
   },
   {
    "duration": 180,
    "start_time": "2022-11-20T14:38:47.646Z"
   },
   {
    "duration": 135,
    "start_time": "2022-11-20T14:39:43.237Z"
   },
   {
    "duration": 184,
    "start_time": "2022-11-20T14:50:03.807Z"
   },
   {
    "duration": 182,
    "start_time": "2022-11-20T14:50:06.316Z"
   },
   {
    "duration": 181,
    "start_time": "2022-11-20T14:50:08.087Z"
   },
   {
    "duration": 156,
    "start_time": "2022-11-20T14:50:09.529Z"
   },
   {
    "duration": 141,
    "start_time": "2022-11-20T14:50:10.902Z"
   },
   {
    "duration": 129,
    "start_time": "2022-11-20T14:50:20.679Z"
   },
   {
    "duration": 138,
    "start_time": "2022-11-20T14:51:11.919Z"
   },
   {
    "duration": 129,
    "start_time": "2022-11-20T14:52:46.306Z"
   },
   {
    "duration": 184,
    "start_time": "2022-11-20T14:53:27.112Z"
   },
   {
    "duration": 242,
    "start_time": "2022-11-20T14:54:05.150Z"
   },
   {
    "duration": 5,
    "start_time": "2022-11-20T14:54:28.850Z"
   },
   {
    "duration": 245,
    "start_time": "2022-11-20T14:54:35.540Z"
   },
   {
    "duration": 280,
    "start_time": "2022-11-20T14:54:43.934Z"
   },
   {
    "duration": 229,
    "start_time": "2022-11-20T14:54:50.954Z"
   },
   {
    "duration": 13,
    "start_time": "2022-11-20T14:56:18.651Z"
   },
   {
    "duration": 13,
    "start_time": "2022-11-20T14:56:29.419Z"
   },
   {
    "duration": 13,
    "start_time": "2022-11-20T14:56:32.735Z"
   },
   {
    "duration": 79,
    "start_time": "2022-11-20T14:58:13.199Z"
   },
   {
    "duration": 120,
    "start_time": "2022-11-20T14:58:18.668Z"
   },
   {
    "duration": 129,
    "start_time": "2022-11-20T14:58:26.934Z"
   },
   {
    "duration": 329,
    "start_time": "2022-11-20T15:03:50.097Z"
   },
   {
    "duration": 284,
    "start_time": "2022-11-20T15:04:04.614Z"
   },
   {
    "duration": 9,
    "start_time": "2022-11-20T15:11:14.454Z"
   },
   {
    "duration": 7,
    "start_time": "2022-11-20T15:11:43.418Z"
   },
   {
    "duration": 9,
    "start_time": "2022-11-20T15:11:49.634Z"
   },
   {
    "duration": 9,
    "start_time": "2022-11-20T15:11:57.905Z"
   },
   {
    "duration": 14,
    "start_time": "2022-11-20T15:12:20.121Z"
   },
   {
    "duration": 8,
    "start_time": "2022-11-20T15:12:25.391Z"
   },
   {
    "duration": 71,
    "start_time": "2022-11-20T15:14:48.708Z"
   },
   {
    "duration": 23,
    "start_time": "2022-11-20T15:15:50.240Z"
   },
   {
    "duration": 23,
    "start_time": "2022-11-20T15:16:24.096Z"
   },
   {
    "duration": 7,
    "start_time": "2022-11-20T15:16:35.657Z"
   },
   {
    "duration": 1124,
    "start_time": "2022-11-20T15:17:07.496Z"
   },
   {
    "duration": 9,
    "start_time": "2022-11-20T15:17:22.596Z"
   },
   {
    "duration": 123,
    "start_time": "2022-11-20T15:17:57.767Z"
   },
   {
    "duration": 16,
    "start_time": "2022-11-20T15:18:47.437Z"
   },
   {
    "duration": 140,
    "start_time": "2022-11-20T15:18:54.041Z"
   },
   {
    "duration": 33,
    "start_time": "2022-11-20T15:19:40.044Z"
   },
   {
    "duration": 151,
    "start_time": "2022-11-20T15:19:56.138Z"
   },
   {
    "duration": 185,
    "start_time": "2022-11-20T15:20:07.998Z"
   },
   {
    "duration": 213,
    "start_time": "2022-11-20T15:21:49.032Z"
   },
   {
    "duration": 24,
    "start_time": "2022-11-20T15:29:59.951Z"
   },
   {
    "duration": 294,
    "start_time": "2022-11-20T15:31:03.179Z"
   },
   {
    "duration": 74,
    "start_time": "2022-11-20T15:31:48.187Z"
   },
   {
    "duration": 11,
    "start_time": "2022-11-20T15:31:48.263Z"
   },
   {
    "duration": 11,
    "start_time": "2022-11-20T15:31:48.276Z"
   },
   {
    "duration": 81,
    "start_time": "2022-11-20T15:31:48.289Z"
   },
   {
    "duration": 26,
    "start_time": "2022-11-20T15:31:48.372Z"
   },
   {
    "duration": 15,
    "start_time": "2022-11-20T15:31:48.399Z"
   },
   {
    "duration": 1792,
    "start_time": "2022-11-20T15:31:48.416Z"
   },
   {
    "duration": 10,
    "start_time": "2022-11-20T15:31:50.209Z"
   },
   {
    "duration": 34,
    "start_time": "2022-11-20T15:31:50.220Z"
   },
   {
    "duration": 10,
    "start_time": "2022-11-20T15:31:50.256Z"
   },
   {
    "duration": 14,
    "start_time": "2022-11-20T15:31:50.267Z"
   },
   {
    "duration": 6,
    "start_time": "2022-11-20T15:31:50.283Z"
   },
   {
    "duration": 13,
    "start_time": "2022-11-20T15:31:50.290Z"
   },
   {
    "duration": 12,
    "start_time": "2022-11-20T15:31:50.305Z"
   },
   {
    "duration": 44,
    "start_time": "2022-11-20T15:31:50.319Z"
   },
   {
    "duration": 12,
    "start_time": "2022-11-20T15:31:50.365Z"
   },
   {
    "duration": 26,
    "start_time": "2022-11-20T15:31:50.379Z"
   },
   {
    "duration": 574,
    "start_time": "2022-11-20T15:31:50.407Z"
   },
   {
    "duration": 5,
    "start_time": "2022-11-20T15:31:50.983Z"
   },
   {
    "duration": 23,
    "start_time": "2022-11-20T15:31:50.989Z"
   },
   {
    "duration": 4,
    "start_time": "2022-11-20T15:31:51.013Z"
   },
   {
    "duration": 17,
    "start_time": "2022-11-20T15:31:51.019Z"
   },
   {
    "duration": 19,
    "start_time": "2022-11-20T15:31:51.038Z"
   },
   {
    "duration": 9,
    "start_time": "2022-11-20T15:31:51.058Z"
   },
   {
    "duration": 7,
    "start_time": "2022-11-20T15:31:51.068Z"
   },
   {
    "duration": 7,
    "start_time": "2022-11-20T15:31:51.076Z"
   },
   {
    "duration": 5,
    "start_time": "2022-11-20T15:31:51.084Z"
   },
   {
    "duration": 324,
    "start_time": "2022-11-20T15:31:51.092Z"
   },
   {
    "duration": 42,
    "start_time": "2022-11-20T15:31:51.418Z"
   },
   {
    "duration": 149,
    "start_time": "2022-11-20T15:31:51.462Z"
   },
   {
    "duration": 140,
    "start_time": "2022-11-20T15:31:51.612Z"
   },
   {
    "duration": 144,
    "start_time": "2022-11-20T15:31:51.754Z"
   },
   {
    "duration": 149,
    "start_time": "2022-11-20T15:31:51.900Z"
   },
   {
    "duration": 140,
    "start_time": "2022-11-20T15:31:52.051Z"
   },
   {
    "duration": 140,
    "start_time": "2022-11-20T15:31:52.193Z"
   },
   {
    "duration": 185,
    "start_time": "2022-11-20T15:31:52.334Z"
   },
   {
    "duration": 175,
    "start_time": "2022-11-20T15:31:52.521Z"
   },
   {
    "duration": 158,
    "start_time": "2022-11-20T15:31:52.697Z"
   },
   {
    "duration": 158,
    "start_time": "2022-11-20T15:31:52.857Z"
   },
   {
    "duration": 128,
    "start_time": "2022-11-20T15:31:53.017Z"
   },
   {
    "duration": 162,
    "start_time": "2022-11-20T15:31:53.146Z"
   },
   {
    "duration": 138,
    "start_time": "2022-11-20T15:31:53.309Z"
   },
   {
    "duration": 138,
    "start_time": "2022-11-20T15:31:53.452Z"
   },
   {
    "duration": 161,
    "start_time": "2022-11-20T15:31:53.591Z"
   },
   {
    "duration": 155,
    "start_time": "2022-11-20T15:31:53.753Z"
   },
   {
    "duration": 134,
    "start_time": "2022-11-20T15:31:53.910Z"
   },
   {
    "duration": 126,
    "start_time": "2022-11-20T15:31:54.046Z"
   },
   {
    "duration": 185,
    "start_time": "2022-11-20T15:31:54.174Z"
   },
   {
    "duration": 10,
    "start_time": "2022-11-20T15:31:54.361Z"
   },
   {
    "duration": 211,
    "start_time": "2022-11-20T15:31:54.372Z"
   },
   {
    "duration": 191,
    "start_time": "2022-11-20T15:31:54.585Z"
   },
   {
    "duration": 196,
    "start_time": "2022-11-20T15:31:54.778Z"
   },
   {
    "duration": 164,
    "start_time": "2022-11-20T15:31:54.975Z"
   },
   {
    "duration": 137,
    "start_time": "2022-11-20T15:31:55.140Z"
   },
   {
    "duration": 300,
    "start_time": "2022-11-20T15:31:55.279Z"
   },
   {
    "duration": 199,
    "start_time": "2022-11-20T15:31:55.580Z"
   },
   {
    "duration": 24,
    "start_time": "2022-11-20T15:32:05.706Z"
   },
   {
    "duration": 7,
    "start_time": "2022-11-20T15:34:10.279Z"
   },
   {
    "duration": 26,
    "start_time": "2022-11-20T15:35:45.338Z"
   },
   {
    "duration": 13,
    "start_time": "2022-11-20T15:36:12.606Z"
   },
   {
    "duration": 13,
    "start_time": "2022-11-20T15:36:20.066Z"
   },
   {
    "duration": 13,
    "start_time": "2022-11-20T15:36:28.984Z"
   },
   {
    "duration": 76,
    "start_time": "2022-11-20T15:36:33.950Z"
   },
   {
    "duration": 12,
    "start_time": "2022-11-20T15:36:34.028Z"
   },
   {
    "duration": 8,
    "start_time": "2022-11-20T15:36:34.051Z"
   },
   {
    "duration": 62,
    "start_time": "2022-11-20T15:36:34.061Z"
   },
   {
    "duration": 28,
    "start_time": "2022-11-20T15:36:34.152Z"
   },
   {
    "duration": 15,
    "start_time": "2022-11-20T15:36:34.182Z"
   },
   {
    "duration": 1834,
    "start_time": "2022-11-20T15:36:34.199Z"
   },
   {
    "duration": 18,
    "start_time": "2022-11-20T15:36:36.035Z"
   },
   {
    "duration": 18,
    "start_time": "2022-11-20T15:36:36.055Z"
   },
   {
    "duration": 11,
    "start_time": "2022-11-20T15:36:36.075Z"
   },
   {
    "duration": 16,
    "start_time": "2022-11-20T15:36:36.088Z"
   },
   {
    "duration": 9,
    "start_time": "2022-11-20T15:36:36.105Z"
   },
   {
    "duration": 42,
    "start_time": "2022-11-20T15:36:36.116Z"
   },
   {
    "duration": 16,
    "start_time": "2022-11-20T15:36:36.160Z"
   },
   {
    "duration": 17,
    "start_time": "2022-11-20T15:36:36.177Z"
   },
   {
    "duration": 12,
    "start_time": "2022-11-20T15:36:36.196Z"
   },
   {
    "duration": 10,
    "start_time": "2022-11-20T15:36:36.209Z"
   },
   {
    "duration": 585,
    "start_time": "2022-11-20T15:36:36.221Z"
   },
   {
    "duration": 6,
    "start_time": "2022-11-20T15:36:36.807Z"
   },
   {
    "duration": 25,
    "start_time": "2022-11-20T15:36:36.815Z"
   },
   {
    "duration": 12,
    "start_time": "2022-11-20T15:36:36.841Z"
   },
   {
    "duration": 13,
    "start_time": "2022-11-20T15:36:36.855Z"
   },
   {
    "duration": 9,
    "start_time": "2022-11-20T15:36:36.870Z"
   },
   {
    "duration": 4,
    "start_time": "2022-11-20T15:36:36.881Z"
   },
   {
    "duration": 9,
    "start_time": "2022-11-20T15:36:36.887Z"
   },
   {
    "duration": 11,
    "start_time": "2022-11-20T15:36:36.898Z"
   },
   {
    "duration": 6,
    "start_time": "2022-11-20T15:36:36.911Z"
   },
   {
    "duration": 324,
    "start_time": "2022-11-20T15:36:36.918Z"
   },
   {
    "duration": 30,
    "start_time": "2022-11-20T15:36:37.244Z"
   },
   {
    "duration": 142,
    "start_time": "2022-11-20T15:36:37.276Z"
   },
   {
    "duration": 144,
    "start_time": "2022-11-20T15:36:37.420Z"
   },
   {
    "duration": 165,
    "start_time": "2022-11-20T15:36:37.566Z"
   },
   {
    "duration": 176,
    "start_time": "2022-11-20T15:36:37.733Z"
   },
   {
    "duration": 165,
    "start_time": "2022-11-20T15:36:37.910Z"
   },
   {
    "duration": 164,
    "start_time": "2022-11-20T15:36:38.076Z"
   },
   {
    "duration": 169,
    "start_time": "2022-11-20T15:36:38.242Z"
   },
   {
    "duration": 171,
    "start_time": "2022-11-20T15:36:38.413Z"
   },
   {
    "duration": 193,
    "start_time": "2022-11-20T15:36:38.586Z"
   },
   {
    "duration": 174,
    "start_time": "2022-11-20T15:36:38.781Z"
   },
   {
    "duration": 154,
    "start_time": "2022-11-20T15:36:38.958Z"
   },
   {
    "duration": 173,
    "start_time": "2022-11-20T15:36:39.116Z"
   },
   {
    "duration": 150,
    "start_time": "2022-11-20T15:36:39.291Z"
   },
   {
    "duration": 156,
    "start_time": "2022-11-20T15:36:39.442Z"
   },
   {
    "duration": 166,
    "start_time": "2022-11-20T15:36:39.600Z"
   },
   {
    "duration": 152,
    "start_time": "2022-11-20T15:36:39.768Z"
   },
   {
    "duration": 168,
    "start_time": "2022-11-20T15:36:39.922Z"
   },
   {
    "duration": 145,
    "start_time": "2022-11-20T15:36:40.092Z"
   },
   {
    "duration": 173,
    "start_time": "2022-11-20T15:36:40.238Z"
   },
   {
    "duration": 11,
    "start_time": "2022-11-20T15:36:40.412Z"
   },
   {
    "duration": 212,
    "start_time": "2022-11-20T15:36:40.425Z"
   },
   {
    "duration": 197,
    "start_time": "2022-11-20T15:36:40.639Z"
   },
   {
    "duration": 190,
    "start_time": "2022-11-20T15:36:40.838Z"
   },
   {
    "duration": 165,
    "start_time": "2022-11-20T15:36:41.029Z"
   },
   {
    "duration": 130,
    "start_time": "2022-11-20T15:36:41.195Z"
   },
   {
    "duration": 300,
    "start_time": "2022-11-20T15:36:41.327Z"
   },
   {
    "duration": 200,
    "start_time": "2022-11-20T15:36:41.628Z"
   },
   {
    "duration": 33,
    "start_time": "2022-11-20T15:36:41.831Z"
   },
   {
    "duration": 24,
    "start_time": "2022-11-20T15:36:44.388Z"
   },
   {
    "duration": 14,
    "start_time": "2022-11-20T15:36:45.598Z"
   },
   {
    "duration": 9,
    "start_time": "2022-11-20T15:37:20.191Z"
   },
   {
    "duration": 18,
    "start_time": "2022-11-20T15:37:38.478Z"
   },
   {
    "duration": 153,
    "start_time": "2022-11-20T15:38:04.751Z"
   },
   {
    "duration": 175,
    "start_time": "2022-11-20T15:39:28.656Z"
   },
   {
    "duration": 515,
    "start_time": "2022-11-20T16:08:41.480Z"
   },
   {
    "duration": 11,
    "start_time": "2022-11-20T16:08:41.997Z"
   },
   {
    "duration": 14,
    "start_time": "2022-11-20T16:08:42.009Z"
   },
   {
    "duration": 62,
    "start_time": "2022-11-20T16:08:42.024Z"
   },
   {
    "duration": 35,
    "start_time": "2022-11-20T16:08:42.088Z"
   },
   {
    "duration": 13,
    "start_time": "2022-11-20T16:08:42.125Z"
   },
   {
    "duration": 1913,
    "start_time": "2022-11-20T16:08:42.139Z"
   },
   {
    "duration": 10,
    "start_time": "2022-11-20T16:08:44.054Z"
   },
   {
    "duration": 21,
    "start_time": "2022-11-20T16:08:44.066Z"
   },
   {
    "duration": 27,
    "start_time": "2022-11-20T16:08:44.090Z"
   },
   {
    "duration": 12,
    "start_time": "2022-11-20T16:08:44.118Z"
   },
   {
    "duration": 6,
    "start_time": "2022-11-20T16:08:44.132Z"
   },
   {
    "duration": 11,
    "start_time": "2022-11-20T16:08:44.139Z"
   },
   {
    "duration": 10,
    "start_time": "2022-11-20T16:08:44.152Z"
   },
   {
    "duration": 12,
    "start_time": "2022-11-20T16:08:44.163Z"
   },
   {
    "duration": 10,
    "start_time": "2022-11-20T16:08:44.213Z"
   },
   {
    "duration": 10,
    "start_time": "2022-11-20T16:08:44.224Z"
   },
   {
    "duration": 588,
    "start_time": "2022-11-20T16:08:44.235Z"
   },
   {
    "duration": 4,
    "start_time": "2022-11-20T16:08:44.825Z"
   },
   {
    "duration": 16,
    "start_time": "2022-11-20T16:08:44.831Z"
   },
   {
    "duration": 4,
    "start_time": "2022-11-20T16:08:44.848Z"
   },
   {
    "duration": 10,
    "start_time": "2022-11-20T16:08:44.853Z"
   },
   {
    "duration": 8,
    "start_time": "2022-11-20T16:08:44.864Z"
   },
   {
    "duration": 3,
    "start_time": "2022-11-20T16:08:44.873Z"
   },
   {
    "duration": 36,
    "start_time": "2022-11-20T16:08:44.878Z"
   },
   {
    "duration": 7,
    "start_time": "2022-11-20T16:08:44.916Z"
   },
   {
    "duration": 6,
    "start_time": "2022-11-20T16:08:44.924Z"
   },
   {
    "duration": 327,
    "start_time": "2022-11-20T16:08:44.935Z"
   },
   {
    "duration": 27,
    "start_time": "2022-11-20T16:08:45.263Z"
   },
   {
    "duration": 143,
    "start_time": "2022-11-20T16:08:45.292Z"
   },
   {
    "duration": 140,
    "start_time": "2022-11-20T16:08:45.437Z"
   },
   {
    "duration": 136,
    "start_time": "2022-11-20T16:08:45.578Z"
   },
   {
    "duration": 213,
    "start_time": "2022-11-20T16:08:45.716Z"
   },
   {
    "duration": 140,
    "start_time": "2022-11-20T16:08:45.930Z"
   },
   {
    "duration": 129,
    "start_time": "2022-11-20T16:08:46.071Z"
   },
   {
    "duration": 153,
    "start_time": "2022-11-20T16:08:46.201Z"
   },
   {
    "duration": 158,
    "start_time": "2022-11-20T16:08:46.356Z"
   },
   {
    "duration": 174,
    "start_time": "2022-11-20T16:08:46.516Z"
   },
   {
    "duration": 154,
    "start_time": "2022-11-20T16:08:46.692Z"
   },
   {
    "duration": 165,
    "start_time": "2022-11-20T16:08:46.848Z"
   },
   {
    "duration": 155,
    "start_time": "2022-11-20T16:08:47.015Z"
   },
   {
    "duration": 131,
    "start_time": "2022-11-20T16:08:47.172Z"
   },
   {
    "duration": 132,
    "start_time": "2022-11-20T16:08:47.312Z"
   },
   {
    "duration": 221,
    "start_time": "2022-11-20T16:08:47.446Z"
   },
   {
    "duration": 149,
    "start_time": "2022-11-20T16:08:47.669Z"
   },
   {
    "duration": 149,
    "start_time": "2022-11-20T16:08:47.820Z"
   },
   {
    "duration": 142,
    "start_time": "2022-11-20T16:08:47.971Z"
   },
   {
    "duration": 172,
    "start_time": "2022-11-20T16:08:48.115Z"
   },
   {
    "duration": 25,
    "start_time": "2022-11-20T16:08:48.288Z"
   },
   {
    "duration": 211,
    "start_time": "2022-11-20T16:08:48.314Z"
   },
   {
    "duration": 209,
    "start_time": "2022-11-20T16:08:48.527Z"
   },
   {
    "duration": 200,
    "start_time": "2022-11-20T16:08:48.737Z"
   },
   {
    "duration": 169,
    "start_time": "2022-11-20T16:08:48.940Z"
   },
   {
    "duration": 165,
    "start_time": "2022-11-20T16:08:49.112Z"
   },
   {
    "duration": 471,
    "start_time": "2022-11-20T16:08:49.279Z"
   },
   {
    "duration": 220,
    "start_time": "2022-11-20T16:08:49.752Z"
   },
   {
    "duration": 185,
    "start_time": "2022-11-20T16:08:49.974Z"
   },
   {
    "duration": 15,
    "start_time": "2022-11-20T16:13:09.647Z"
   },
   {
    "duration": 204,
    "start_time": "2022-11-20T16:25:51.617Z"
   },
   {
    "duration": 178,
    "start_time": "2022-11-20T16:25:54.301Z"
   },
   {
    "duration": 7,
    "start_time": "2022-11-20T16:32:56.335Z"
   },
   {
    "duration": 79,
    "start_time": "2022-11-20T16:33:00.460Z"
   },
   {
    "duration": 8,
    "start_time": "2022-11-20T16:33:02.754Z"
   },
   {
    "duration": 14,
    "start_time": "2022-11-20T16:33:07.592Z"
   },
   {
    "duration": 19,
    "start_time": "2022-11-20T16:43:09.452Z"
   },
   {
    "duration": 20,
    "start_time": "2022-11-20T16:43:29.788Z"
   },
   {
    "duration": 17,
    "start_time": "2022-11-20T16:43:38.285Z"
   },
   {
    "duration": 77,
    "start_time": "2022-11-20T16:43:43.300Z"
   },
   {
    "duration": 14,
    "start_time": "2022-11-20T16:43:43.380Z"
   },
   {
    "duration": 28,
    "start_time": "2022-11-20T16:43:43.397Z"
   },
   {
    "duration": 3761,
    "start_time": "2022-11-20T16:43:43.454Z"
   },
   {
    "duration": 8,
    "start_time": "2022-11-20T16:43:47.217Z"
   },
   {
    "duration": 11,
    "start_time": "2022-11-20T16:43:47.227Z"
   },
   {
    "duration": 9,
    "start_time": "2022-11-20T16:43:47.251Z"
   },
   {
    "duration": 13,
    "start_time": "2022-11-20T16:43:47.262Z"
   },
   {
    "duration": 6,
    "start_time": "2022-11-20T16:43:47.276Z"
   },
   {
    "duration": 14,
    "start_time": "2022-11-20T16:43:47.284Z"
   },
   {
    "duration": 11,
    "start_time": "2022-11-20T16:43:47.300Z"
   },
   {
    "duration": 41,
    "start_time": "2022-11-20T16:43:47.313Z"
   },
   {
    "duration": 15,
    "start_time": "2022-11-20T16:43:47.355Z"
   },
   {
    "duration": 7,
    "start_time": "2022-11-20T16:43:47.371Z"
   },
   {
    "duration": 676,
    "start_time": "2022-11-20T16:43:47.379Z"
   },
   {
    "duration": 5,
    "start_time": "2022-11-20T16:43:48.057Z"
   },
   {
    "duration": 25,
    "start_time": "2022-11-20T16:43:48.063Z"
   },
   {
    "duration": 4,
    "start_time": "2022-11-20T16:43:48.090Z"
   },
   {
    "duration": 56,
    "start_time": "2022-11-20T16:43:48.096Z"
   },
   {
    "duration": 9,
    "start_time": "2022-11-20T16:43:48.154Z"
   },
   {
    "duration": 4,
    "start_time": "2022-11-20T16:43:48.164Z"
   },
   {
    "duration": 9,
    "start_time": "2022-11-20T16:43:48.170Z"
   },
   {
    "duration": 8,
    "start_time": "2022-11-20T16:43:48.180Z"
   },
   {
    "duration": 5,
    "start_time": "2022-11-20T16:43:48.189Z"
   },
   {
    "duration": 600,
    "start_time": "2022-11-20T16:43:48.196Z"
   },
   {
    "duration": 81,
    "start_time": "2022-11-20T16:43:48.798Z"
   },
   {
    "duration": 307,
    "start_time": "2022-11-20T16:43:48.880Z"
   },
   {
    "duration": 289,
    "start_time": "2022-11-20T16:43:49.191Z"
   },
   {
    "duration": 202,
    "start_time": "2022-11-20T16:43:49.481Z"
   },
   {
    "duration": 148,
    "start_time": "2022-11-20T16:43:49.684Z"
   },
   {
    "duration": 140,
    "start_time": "2022-11-20T16:43:49.834Z"
   },
   {
    "duration": 148,
    "start_time": "2022-11-20T16:43:49.976Z"
   },
   {
    "duration": 151,
    "start_time": "2022-11-20T16:43:50.125Z"
   },
   {
    "duration": 157,
    "start_time": "2022-11-20T16:43:50.278Z"
   },
   {
    "duration": 156,
    "start_time": "2022-11-20T16:43:50.437Z"
   },
   {
    "duration": 157,
    "start_time": "2022-11-20T16:43:50.595Z"
   },
   {
    "duration": 131,
    "start_time": "2022-11-20T16:43:50.754Z"
   },
   {
    "duration": 157,
    "start_time": "2022-11-20T16:43:50.887Z"
   },
   {
    "duration": 139,
    "start_time": "2022-11-20T16:43:51.046Z"
   },
   {
    "duration": 136,
    "start_time": "2022-11-20T16:43:51.187Z"
   },
   {
    "duration": 158,
    "start_time": "2022-11-20T16:43:51.325Z"
   },
   {
    "duration": 152,
    "start_time": "2022-11-20T16:43:51.484Z"
   },
   {
    "duration": 156,
    "start_time": "2022-11-20T16:43:51.638Z"
   },
   {
    "duration": 126,
    "start_time": "2022-11-20T16:43:51.796Z"
   },
   {
    "duration": 168,
    "start_time": "2022-11-20T16:43:51.924Z"
   },
   {
    "duration": 12,
    "start_time": "2022-11-20T16:43:52.094Z"
   },
   {
    "duration": 210,
    "start_time": "2022-11-20T16:43:52.107Z"
   },
   {
    "duration": 234,
    "start_time": "2022-11-20T16:43:52.318Z"
   },
   {
    "duration": 587,
    "start_time": "2022-11-20T16:43:52.554Z"
   },
   {
    "duration": 156,
    "start_time": "2022-11-20T16:43:53.142Z"
   },
   {
    "duration": 130,
    "start_time": "2022-11-20T16:43:53.300Z"
   },
   {
    "duration": 298,
    "start_time": "2022-11-20T16:43:53.431Z"
   },
   {
    "duration": 203,
    "start_time": "2022-11-20T16:43:53.730Z"
   },
   {
    "duration": 185,
    "start_time": "2022-11-20T16:43:53.934Z"
   },
   {
    "duration": 26,
    "start_time": "2022-11-20T16:48:47.613Z"
   },
   {
    "duration": 6,
    "start_time": "2022-11-20T16:49:17.947Z"
   },
   {
    "duration": 11,
    "start_time": "2022-11-20T16:49:48.453Z"
   },
   {
    "duration": 6,
    "start_time": "2022-11-20T16:50:42.107Z"
   },
   {
    "duration": 10,
    "start_time": "2022-11-20T16:50:58.174Z"
   },
   {
    "duration": 27,
    "start_time": "2022-11-20T16:57:21.588Z"
   },
   {
    "duration": 25,
    "start_time": "2022-11-20T16:57:25.824Z"
   },
   {
    "duration": 9,
    "start_time": "2022-11-20T17:01:33.463Z"
   },
   {
    "duration": 9,
    "start_time": "2022-11-20T17:02:27.524Z"
   },
   {
    "duration": 504,
    "start_time": "2022-11-20T17:02:34.277Z"
   },
   {
    "duration": 100,
    "start_time": "2022-11-20T17:02:37.455Z"
   },
   {
    "duration": 6,
    "start_time": "2022-11-20T18:11:39.786Z"
   },
   {
    "duration": 8,
    "start_time": "2022-11-20T18:11:47.034Z"
   },
   {
    "duration": 11,
    "start_time": "2022-11-20T18:11:56.053Z"
   },
   {
    "duration": 8,
    "start_time": "2022-11-20T18:12:46.283Z"
   },
   {
    "duration": 105,
    "start_time": "2022-11-20T18:13:45.467Z"
   },
   {
    "duration": 36,
    "start_time": "2022-11-20T18:16:52.109Z"
   },
   {
    "duration": 103,
    "start_time": "2022-11-20T18:16:56.478Z"
   },
   {
    "duration": 105,
    "start_time": "2022-11-20T18:23:02.728Z"
   },
   {
    "duration": 109,
    "start_time": "2022-11-20T18:23:39.828Z"
   },
   {
    "duration": 8,
    "start_time": "2022-11-20T18:24:57.026Z"
   },
   {
    "duration": 9,
    "start_time": "2022-11-20T18:25:07.040Z"
   },
   {
    "duration": 13,
    "start_time": "2022-11-20T18:25:22.458Z"
   },
   {
    "duration": 9,
    "start_time": "2022-11-20T18:25:35.682Z"
   },
   {
    "duration": 83,
    "start_time": "2022-11-20T18:25:37.898Z"
   },
   {
    "duration": 69,
    "start_time": "2022-11-20T18:25:40.466Z"
   },
   {
    "duration": 9,
    "start_time": "2022-11-20T18:26:32.722Z"
   },
   {
    "duration": 8,
    "start_time": "2022-11-20T18:27:32.837Z"
   },
   {
    "duration": 115,
    "start_time": "2022-11-20T18:27:39.418Z"
   },
   {
    "duration": 12,
    "start_time": "2022-11-20T18:29:22.452Z"
   },
   {
    "duration": 26,
    "start_time": "2022-11-20T18:33:17.468Z"
   },
   {
    "duration": 80,
    "start_time": "2022-11-20T18:33:25.371Z"
   },
   {
    "duration": 14,
    "start_time": "2022-11-20T18:33:25.453Z"
   },
   {
    "duration": 24,
    "start_time": "2022-11-20T18:33:25.469Z"
   },
   {
    "duration": 1766,
    "start_time": "2022-11-20T18:33:25.495Z"
   },
   {
    "duration": 9,
    "start_time": "2022-11-20T18:33:27.263Z"
   },
   {
    "duration": 10,
    "start_time": "2022-11-20T18:33:27.274Z"
   },
   {
    "duration": 8,
    "start_time": "2022-11-20T18:33:27.286Z"
   },
   {
    "duration": 13,
    "start_time": "2022-11-20T18:33:27.295Z"
   },
   {
    "duration": 44,
    "start_time": "2022-11-20T18:33:27.310Z"
   },
   {
    "duration": 11,
    "start_time": "2022-11-20T18:33:27.357Z"
   },
   {
    "duration": 12,
    "start_time": "2022-11-20T18:33:27.369Z"
   },
   {
    "duration": 13,
    "start_time": "2022-11-20T18:33:27.382Z"
   },
   {
    "duration": 14,
    "start_time": "2022-11-20T18:33:27.396Z"
   },
   {
    "duration": 42,
    "start_time": "2022-11-20T18:33:27.412Z"
   },
   {
    "duration": 623,
    "start_time": "2022-11-20T18:33:27.456Z"
   },
   {
    "duration": 22,
    "start_time": "2022-11-20T18:33:28.081Z"
   },
   {
    "duration": 5,
    "start_time": "2022-11-20T18:33:28.104Z"
   },
   {
    "duration": 18,
    "start_time": "2022-11-20T18:33:28.111Z"
   },
   {
    "duration": 23,
    "start_time": "2022-11-20T18:33:28.130Z"
   },
   {
    "duration": 11,
    "start_time": "2022-11-20T18:33:28.154Z"
   },
   {
    "duration": 8,
    "start_time": "2022-11-20T18:33:28.167Z"
   },
   {
    "duration": 5,
    "start_time": "2022-11-20T18:33:28.177Z"
   },
   {
    "duration": 10,
    "start_time": "2022-11-20T18:33:28.184Z"
   },
   {
    "duration": 9,
    "start_time": "2022-11-20T18:33:28.196Z"
   },
   {
    "duration": 5,
    "start_time": "2022-11-20T18:33:28.206Z"
   },
   {
    "duration": 339,
    "start_time": "2022-11-20T18:33:28.213Z"
   },
   {
    "duration": 28,
    "start_time": "2022-11-20T18:33:28.553Z"
   },
   {
    "duration": 156,
    "start_time": "2022-11-20T18:33:28.584Z"
   },
   {
    "duration": 143,
    "start_time": "2022-11-20T18:33:28.741Z"
   },
   {
    "duration": 141,
    "start_time": "2022-11-20T18:33:28.886Z"
   },
   {
    "duration": 158,
    "start_time": "2022-11-20T18:33:29.029Z"
   },
   {
    "duration": 157,
    "start_time": "2022-11-20T18:33:29.189Z"
   },
   {
    "duration": 146,
    "start_time": "2022-11-20T18:33:29.348Z"
   },
   {
    "duration": 173,
    "start_time": "2022-11-20T18:33:29.495Z"
   },
   {
    "duration": 153,
    "start_time": "2022-11-20T18:33:29.670Z"
   },
   {
    "duration": 603,
    "start_time": "2022-11-20T18:33:29.824Z"
   },
   {
    "duration": 159,
    "start_time": "2022-11-20T18:33:30.429Z"
   },
   {
    "duration": 142,
    "start_time": "2022-11-20T18:33:30.589Z"
   },
   {
    "duration": 158,
    "start_time": "2022-11-20T18:33:30.732Z"
   },
   {
    "duration": 152,
    "start_time": "2022-11-20T18:33:30.891Z"
   },
   {
    "duration": 143,
    "start_time": "2022-11-20T18:33:31.044Z"
   },
   {
    "duration": 157,
    "start_time": "2022-11-20T18:33:31.188Z"
   },
   {
    "duration": 147,
    "start_time": "2022-11-20T18:33:31.353Z"
   },
   {
    "duration": 142,
    "start_time": "2022-11-20T18:33:31.502Z"
   },
   {
    "duration": 135,
    "start_time": "2022-11-20T18:33:31.652Z"
   },
   {
    "duration": 118,
    "start_time": "2022-11-20T18:33:31.789Z"
   },
   {
    "duration": 103,
    "start_time": "2022-11-20T18:33:31.909Z"
   },
   {
    "duration": 11,
    "start_time": "2022-11-20T18:33:32.013Z"
   },
   {
    "duration": 229,
    "start_time": "2022-11-20T18:33:32.026Z"
   },
   {
    "duration": 225,
    "start_time": "2022-11-20T18:33:32.257Z"
   },
   {
    "duration": 240,
    "start_time": "2022-11-20T18:33:32.484Z"
   },
   {
    "duration": 171,
    "start_time": "2022-11-20T18:33:32.726Z"
   },
   {
    "duration": 127,
    "start_time": "2022-11-20T18:33:32.899Z"
   },
   {
    "duration": 24,
    "start_time": "2022-11-20T18:33:35.862Z"
   },
   {
    "duration": 618,
    "start_time": "2022-11-20T18:34:46.622Z"
   },
   {
    "duration": 13723,
    "start_time": "2022-11-20T18:35:10.702Z"
   },
   {
    "duration": 1399,
    "start_time": "2022-11-20T18:36:07.970Z"
   },
   {
    "duration": 441,
    "start_time": "2022-11-20T18:37:57.524Z"
   },
   {
    "duration": 465,
    "start_time": "2022-11-20T18:38:05.539Z"
   },
   {
    "duration": 486,
    "start_time": "2022-11-20T18:40:09.507Z"
   },
   {
    "duration": 27,
    "start_time": "2022-11-20T18:44:53.341Z"
   },
   {
    "duration": 26,
    "start_time": "2022-11-20T18:45:51.813Z"
   },
   {
    "duration": 28,
    "start_time": "2022-11-20T18:46:32.661Z"
   },
   {
    "duration": 77,
    "start_time": "2022-11-20T18:48:05.469Z"
   },
   {
    "duration": 186,
    "start_time": "2022-11-20T18:48:10.623Z"
   },
   {
    "duration": 10,
    "start_time": "2022-11-20T18:48:46.526Z"
   },
   {
    "duration": 531,
    "start_time": "2022-11-20T18:49:46.746Z"
   },
   {
    "duration": 123,
    "start_time": "2022-11-20T18:50:09.880Z"
   },
   {
    "duration": 153,
    "start_time": "2022-11-20T18:50:29.663Z"
   },
   {
    "duration": 185,
    "start_time": "2022-11-20T18:51:13.263Z"
   },
   {
    "duration": 199,
    "start_time": "2022-11-20T18:51:19.934Z"
   },
   {
    "duration": 1178,
    "start_time": "2022-11-20T20:17:02.657Z"
   },
   {
    "duration": 13,
    "start_time": "2022-11-20T20:17:03.837Z"
   },
   {
    "duration": 25,
    "start_time": "2022-11-20T20:17:03.852Z"
   },
   {
    "duration": 1817,
    "start_time": "2022-11-20T20:17:03.879Z"
   },
   {
    "duration": 9,
    "start_time": "2022-11-20T20:17:05.698Z"
   },
   {
    "duration": 13,
    "start_time": "2022-11-20T20:17:05.708Z"
   },
   {
    "duration": 7,
    "start_time": "2022-11-20T20:17:05.723Z"
   },
   {
    "duration": 108,
    "start_time": "2022-11-20T20:17:05.732Z"
   },
   {
    "duration": 6,
    "start_time": "2022-11-20T20:17:05.842Z"
   },
   {
    "duration": 11,
    "start_time": "2022-11-20T20:17:05.850Z"
   },
   {
    "duration": 11,
    "start_time": "2022-11-20T20:17:05.862Z"
   },
   {
    "duration": 13,
    "start_time": "2022-11-20T20:17:05.874Z"
   },
   {
    "duration": 41,
    "start_time": "2022-11-20T20:17:05.889Z"
   },
   {
    "duration": 12,
    "start_time": "2022-11-20T20:17:05.931Z"
   },
   {
    "duration": 613,
    "start_time": "2022-11-20T20:17:05.944Z"
   },
   {
    "duration": 25,
    "start_time": "2022-11-20T20:17:06.558Z"
   },
   {
    "duration": 5,
    "start_time": "2022-11-20T20:17:06.584Z"
   },
   {
    "duration": 38,
    "start_time": "2022-11-20T20:17:06.590Z"
   },
   {
    "duration": 4,
    "start_time": "2022-11-20T20:17:06.629Z"
   },
   {
    "duration": 10,
    "start_time": "2022-11-20T20:17:06.635Z"
   },
   {
    "duration": 7,
    "start_time": "2022-11-20T20:17:06.647Z"
   },
   {
    "duration": 4,
    "start_time": "2022-11-20T20:17:06.655Z"
   },
   {
    "duration": 6,
    "start_time": "2022-11-20T20:17:06.661Z"
   },
   {
    "duration": 9,
    "start_time": "2022-11-20T20:17:06.669Z"
   },
   {
    "duration": 3,
    "start_time": "2022-11-20T20:17:06.680Z"
   },
   {
    "duration": 323,
    "start_time": "2022-11-20T20:17:06.684Z"
   },
   {
    "duration": 28,
    "start_time": "2022-11-20T20:17:07.008Z"
   },
   {
    "duration": 133,
    "start_time": "2022-11-20T20:17:07.039Z"
   },
   {
    "duration": 130,
    "start_time": "2022-11-20T20:17:07.174Z"
   },
   {
    "duration": 132,
    "start_time": "2022-11-20T20:17:07.305Z"
   },
   {
    "duration": 136,
    "start_time": "2022-11-20T20:17:07.438Z"
   },
   {
    "duration": 123,
    "start_time": "2022-11-20T20:17:07.576Z"
   },
   {
    "duration": 140,
    "start_time": "2022-11-20T20:17:07.701Z"
   },
   {
    "duration": 138,
    "start_time": "2022-11-20T20:17:07.842Z"
   },
   {
    "duration": 141,
    "start_time": "2022-11-20T20:17:07.981Z"
   },
   {
    "duration": 218,
    "start_time": "2022-11-20T20:17:08.124Z"
   },
   {
    "duration": 147,
    "start_time": "2022-11-20T20:17:08.343Z"
   },
   {
    "duration": 132,
    "start_time": "2022-11-20T20:17:08.492Z"
   },
   {
    "duration": 141,
    "start_time": "2022-11-20T20:17:08.625Z"
   },
   {
    "duration": 141,
    "start_time": "2022-11-20T20:17:08.768Z"
   },
   {
    "duration": 129,
    "start_time": "2022-11-20T20:17:08.910Z"
   },
   {
    "duration": 140,
    "start_time": "2022-11-20T20:17:09.040Z"
   },
   {
    "duration": 132,
    "start_time": "2022-11-20T20:17:09.182Z"
   },
   {
    "duration": 131,
    "start_time": "2022-11-20T20:17:09.316Z"
   },
   {
    "duration": 124,
    "start_time": "2022-11-20T20:17:09.448Z"
   },
   {
    "duration": 106,
    "start_time": "2022-11-20T20:17:09.575Z"
   },
   {
    "duration": 179,
    "start_time": "2022-11-20T20:17:09.683Z"
   },
   {
    "duration": 11,
    "start_time": "2022-11-20T20:17:09.863Z"
   },
   {
    "duration": 205,
    "start_time": "2022-11-20T20:17:09.875Z"
   },
   {
    "duration": 192,
    "start_time": "2022-11-20T20:17:10.081Z"
   },
   {
    "duration": 183,
    "start_time": "2022-11-20T20:17:10.274Z"
   },
   {
    "duration": 158,
    "start_time": "2022-11-20T20:17:10.459Z"
   },
   {
    "duration": 127,
    "start_time": "2022-11-20T20:17:10.621Z"
   },
   {
    "duration": 483,
    "start_time": "2022-11-20T20:17:10.750Z"
   },
   {
    "duration": 28,
    "start_time": "2022-11-20T20:17:11.234Z"
   },
   {
    "duration": 186,
    "start_time": "2022-11-20T20:17:11.264Z"
   },
   {
    "duration": 1383,
    "start_time": "2022-11-23T16:41:20.688Z"
   },
   {
    "duration": 15,
    "start_time": "2022-11-23T16:41:22.073Z"
   },
   {
    "duration": 27,
    "start_time": "2022-11-23T16:41:22.090Z"
   },
   {
    "duration": 2426,
    "start_time": "2022-11-23T16:41:22.118Z"
   },
   {
    "duration": 9,
    "start_time": "2022-11-23T16:41:24.546Z"
   },
   {
    "duration": 122,
    "start_time": "2022-11-23T16:51:59.609Z"
   }
  ],
  "kernelspec": {
   "display_name": "Python 3 (ipykernel)",
   "language": "python",
   "name": "python3"
  },
  "language_info": {
   "codemirror_mode": {
    "name": "ipython",
    "version": 3
   },
   "file_extension": ".py",
   "mimetype": "text/x-python",
   "name": "python",
   "nbconvert_exporter": "python",
   "pygments_lexer": "ipython3",
   "version": "3.9.5"
  },
  "toc": {
   "base_numbering": 1,
   "nav_menu": {},
   "number_sections": true,
   "sideBar": true,
   "skip_h1_title": true,
   "title_cell": "Table of Contents",
   "title_sidebar": "Contents",
   "toc_cell": false,
   "toc_position": {
    "height": "calc(100% - 180px)",
    "left": "10px",
    "top": "150px",
    "width": "375.797px"
   },
   "toc_section_display": true,
   "toc_window_display": true
  }
 },
 "nbformat": 4,
 "nbformat_minor": 2
}
